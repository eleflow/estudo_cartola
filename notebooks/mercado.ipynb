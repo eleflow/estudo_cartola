{
 "cells": [
  {
   "cell_type": "markdown",
   "id": "f9e5d4e8",
   "metadata": {},
   "source": [
    "### Notebook Responsável por buscar as partidas do campeonato do ano corrente"
   ]
  },
  {
   "cell_type": "code",
   "execution_count": 1,
   "id": "53920fb6",
   "metadata": {},
   "outputs": [],
   "source": [
    "import requests\n",
    "import json\n",
    "import datetime\n",
    "import pandas as pd"
   ]
  },
  {
   "cell_type": "code",
   "execution_count": 2,
   "id": "85ce4d44",
   "metadata": {},
   "outputs": [],
   "source": [
    "%run ./database.ipynb"
   ]
  },
  {
   "cell_type": "code",
   "execution_count": 12,
   "id": "b20c00fb",
   "metadata": {},
   "outputs": [],
   "source": [
    "def create_mercado_dataframe():\n",
    "    year = datetime.date.today().year\n",
    "    mercado = []\n",
    "    \n",
    "    page = requests.get('https://api.cartola.globo.com/atletas/mercado')\n",
    "    content = json.loads(page.content)\n",
    "    atletas = content['atletas']\n",
    "    for atleta in atletas:        \n",
    "        data = {\n",
    "            \"atleta_id\": atleta[\"atleta_id\"],\n",
    "            \"rodada_id\": atleta[\"rodada_id\"],\n",
    "            \"clube_id\": atleta[\"clube_id\"],\n",
    "            \"posicao_id\": atleta[\"posicao_id\"],\n",
    "            \"status_id\": atleta[\"status_id\"],\n",
    "            \"pontos_num\": atleta[\"pontos_num\"],\n",
    "            \"preco_num\": atleta[\"preco_num\"],\n",
    "            \"variacao_num\": atleta[\"variacao_num\"],\n",
    "            \"media_num\": atleta[\"media_num\"],\n",
    "            \"jogos_num\": atleta[\"jogos_num\"],\n",
    "            \"minimo_para_valorizar\": atleta[\"minimo_para_valorizar\"],\n",
    "            \"media_pontos_mandante\": atleta[\"gato_mestre\"][\"media_pontos_mandante\"],\n",
    "            \"media_pontos_visitante\": atleta[\"gato_mestre\"][\"media_pontos_visitante\"],\n",
    "            \"media_minutos_jogados\": atleta[\"gato_mestre\"][\"media_minutos_jogados\"],\n",
    "            \"minutos_jogados\": atleta[\"gato_mestre\"][\"minutos_jogados\"],\n",
    "            \"apelido\": atleta[\"apelido\"],\n",
    "            \"nome\": atleta[\"nome\"],\n",
    "            \"foto\": atleta[\"foto\"],\n",
    "            \"scout.G\" : atleta[\"scout\"][\"G\"] if \"G\" in atleta[\"scout\"].keys() else 0,\n",
    "            \"scout.A\" : atleta[\"scout\"][\"A\"] if \"A\" in atleta[\"scout\"].keys() else 0,\n",
    "            \"scout.FT\": atleta[\"scout\"][\"FT\"] if \"FT\" in atleta[\"scout\"].keys() else 0,\n",
    "            \"scout.FD\": atleta[\"scout\"][\"FD\"] if \"FD\" in atleta[\"scout\"].keys() else 0,\n",
    "            \"scout.FF\": atleta[\"scout\"][\"FF\"] if \"FF\" in atleta[\"scout\"].keys() else 0,\n",
    "            \"scout.FS\": atleta[\"scout\"][\"FS\"] if \"FS\" in atleta[\"scout\"].keys() else 0,\n",
    "            \"scout.PS\": atleta[\"scout\"][\"PS\"] if \"PS\" in atleta[\"scout\"].keys() else 0,\n",
    "            \"scout.DP\": atleta[\"scout\"][\"DP\"] if \"DP\" in atleta[\"scout\"].keys() else 0,\n",
    "            \"scout.SG\": atleta[\"scout\"][\"SG\"] if \"SG\" in atleta[\"scout\"].keys() else 0,\n",
    "            \"scout.DE\": atleta[\"scout\"][\"DE\"] if \"DE\" in atleta[\"scout\"].keys() else 0,\n",
    "            \"scout.DS\": atleta[\"scout\"][\"DS\"] if \"DS\" in atleta[\"scout\"].keys() else 0,\n",
    "            \"scout.PP\": atleta[\"scout\"][\"PP\"] if \"PP\" in atleta[\"scout\"].keys() else 0,\n",
    "            \"scout.I\" : atleta[\"scout\"][\"I\"] if \"I\" in atleta[\"scout\"].keys() else 0,\n",
    "            \"scout.PI\": atleta[\"scout\"][\"PI\"] if \"PI\" in atleta[\"scout\"].keys() else 0,\n",
    "            \"scout.CA\": atleta[\"scout\"][\"CA\"] if \"CA\" in atleta[\"scout\"].keys() else 0,\n",
    "            \"scout.GS\": atleta[\"scout\"][\"GS\"] if \"GS\" in atleta[\"scout\"].keys() else 0,\n",
    "            \"scout.FC\": atleta[\"scout\"][\"FC\"] if \"FC\" in atleta[\"scout\"].keys() else 0,\n",
    "            \"scout.PC\": atleta[\"scout\"][\"PC\"] if \"PC\" in atleta[\"scout\"].keys() else 0,\n",
    "            \"scout.GC\": atleta[\"scout\"][\"GC\"] if \"GC\" in atleta[\"scout\"].keys() else 0,\n",
    "            \"scout.CV\": atleta[\"scout\"][\"CV\"] if \"CV\" in atleta[\"scout\"].keys() else 0,\n",
    "            \"year\": year,\n",
    "        }\n",
    "        mercado.append(data)\n",
    "\n",
    "    return pd.DataFrame(mercado)"
   ]
  },
  {
   "cell_type": "code",
   "execution_count": 13,
   "id": "fbaeaa57",
   "metadata": {},
   "outputs": [],
   "source": [
    "def collect_mercado_and_save_to_database(engine):\n",
    "    df_mercado = create_mercado_dataframe()\n",
    "    save_data(engine, 'mercado', df_mercado)\n",
    "    return count_data(engine, 'mercado').fetchall()"
   ]
  }
 ],
 "metadata": {
  "kernelspec": {
   "display_name": "Python 3",
   "language": "python",
   "name": "python3"
  },
  "language_info": {
   "codemirror_mode": {
    "name": "ipython",
    "version": 3
   },
   "file_extension": ".py",
   "mimetype": "text/x-python",
   "name": "python",
   "nbconvert_exporter": "python",
   "pygments_lexer": "ipython3",
   "version": "3.9.6"
  }
 },
 "nbformat": 4,
 "nbformat_minor": 5
}
