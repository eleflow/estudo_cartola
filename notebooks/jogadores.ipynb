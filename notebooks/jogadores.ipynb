{
 "cells": [
  {
   "cell_type": "markdown",
   "id": "badaf313",
   "metadata": {},
   "source": [
    "### Notebook responsável por buscar os scouts dos jogadores"
   ]
  },
  {
   "cell_type": "code",
   "execution_count": 2,
   "id": "c91d1b31",
   "metadata": {},
   "outputs": [],
   "source": [
    "import requests\n",
    "import json\n",
    "import datetime"
   ]
  },
  {
   "cell_type": "code",
   "execution_count": 6,
   "id": "dd41f66e",
   "metadata": {},
   "outputs": [],
   "source": [
    "%run ./database.ipynb\n",
    "%run ./partidas.ipynb"
   ]
  },
  {
   "cell_type": "code",
   "execution_count": 1,
   "id": "e50475a7",
   "metadata": {},
   "outputs": [],
   "source": [
    "# Obtendo os dados pela API\n",
    "\n",
    "def get_dados_rodada(rodada):\n",
    "    url = 'https://api.cartolafc.globo.com/atletas/pontuados/{}'.format(rodada)\n",
    "    r = requests.get(url)\n",
    "    json_dados_rodada = r.json()\n",
    "    numero_rodada = json_dados_rodada['rodada']\n",
    "    total_atletas_rodada = json_dados_rodada['total_atletas']\n",
    "    df_atletas = pd.DataFrame.from_dict(json_dados_rodada['atletas'], orient='index')\n",
    "    df_atletas['id_atleta'] = df_atletas.index\n",
    "    json_struct = json.loads(df_atletas.to_json(orient=\"records\"))    \n",
    "    df_atletas_flat = pd.json_normalize(json_struct)\n",
    "    df_atletas_flat.fillna(0, inplace=True)\n",
    "    \n",
    "    return df_atletas_flat, numero_rodada, total_atletas_rodada"
   ]
  },
  {
   "cell_type": "code",
   "execution_count": null,
   "id": "83608ea7",
   "metadata": {},
   "outputs": [],
   "source": [
    "def scouts_possiveis():\n",
    "    return ['scout.FC', 'scout.FS', 'scout.PI',\\\n",
    "       'scout.FF', 'scout.A', 'scout.DS', 'scout.DE', 'scout.GS', 'scout.FD',\\\n",
    "       'scout.SG', 'scout.CA', 'scout.FT', 'scout.G', 'scout.PC',\\\n",
    "       'scout.PS', 'scout.PP', 'scout.I', 'scout.DP', 'scout.GC', 'scout.CV']"
   ]
  },
  {
   "cell_type": "code",
   "execution_count": 1,
   "id": "6d0596b5",
   "metadata": {},
   "outputs": [],
   "source": [
    "def get_pontuacao_scouts(scout):\n",
    "    pontuacao = {\n",
    "        'scout.G' : ( 8.0, 'Gol'),\n",
    "        'scout.A' : ( 5.0, 'Assistência'),\n",
    "        'scout.FT': ( 3.0, 'Finalização na trave'),\n",
    "        'scout.FD': ( 1.2, 'Finalização defendida'),\n",
    "        'scout.FF': ( 0.8, 'FInalização para fora'),\n",
    "        'scout.FS': ( 0.5, 'Falta sofrida'),\n",
    "        'scout.PS': ( 1.0, 'Pênalti sofrido'),\n",
    "        'scout.DP': ( 7.0, 'Defesa de pênalti'),\n",
    "        'scout.SG': ( 5.0, 'Jogo sem sofrer gols'),\n",
    "        'scout.DE': ( 1.0, 'Defesa'),\n",
    "        'scout.DS': ( 1.2, 'Desarme'),\n",
    "        'scout.PP': (-4.0, 'Pênalti perdido para fora'), # A Api do cartola esta considerando -4\n",
    "        'scout.I' : (-0.1, 'Impedimento'),\n",
    "        'scout.PI': (-0.1, 'Passe incompleto'),\n",
    "        'scout.CA': (-1.0, 'Cartão amarelo'),\n",
    "        'scout.GS': (-1.0, 'Gol sofrido'),\n",
    "        'scout.FC': (-0.3, 'Falta cometida'),\n",
    "        'scout.PC': (-1.0, 'Pênalti cometido'),\n",
    "        'scout.GC': (-3.0, 'Gol contra'),\n",
    "        'scout.CV': (-3.0, 'Cartão vermelho')\n",
    "    }\n",
    "    \n",
    "    return pontuacao[scout][0]"
   ]
  },
  {
   "cell_type": "code",
   "execution_count": 3,
   "id": "015f2d98",
   "metadata": {},
   "outputs": [],
   "source": [
    "# Verificacoes\n",
    "\n",
    "def verifica_dados(df_atletas_flat, numero_rodada, total_atletas_rodada):\n",
    "    ano = datetime.date.today().year\n",
    "    \n",
    "    #verifica se o numero de atletas esta ok\n",
    "    if df_atletas_flat.shape[0] != total_atletas_rodada:\n",
    "        print('Erro no numero de atletas da rodada! apurado:{}, indicado:{}'.format(df_atletas_flat.shape[0], total_atletas_rodada))\n",
    "        return False\n",
    "    #else:\n",
    "    #    print('Verificacao numero de atletas da rodada ok! apurado:{}, indicado:{}'.format(df_atletas_flat.shape[0], total_atletas_rodada))\n",
    "\n",
    "    #verifica se possui todos os scouts\n",
    "    for i in scouts_possiveis():\n",
    "        if i not in df_atletas_flat.columns:\n",
    "            #print('Coluna {} nao encontrada. Adicionando'.format(i))\n",
    "            df_atletas_flat[i] = 0\n",
    "\n",
    "    #verifica se a pontuacao dos atletas esta ok\n",
    "    df_atletas_flat['pontuacao_calculada']=\\\n",
    "        df_atletas_flat['scout.G']  * get_pontuacao_scouts('scout.G')  +\\\n",
    "        df_atletas_flat['scout.A']  * get_pontuacao_scouts('scout.A')  +\\\n",
    "        df_atletas_flat['scout.FT'] * get_pontuacao_scouts('scout.FT') +\\\n",
    "        df_atletas_flat['scout.FD'] * get_pontuacao_scouts('scout.FD') +\\\n",
    "        df_atletas_flat['scout.FF'] * get_pontuacao_scouts('scout.FF') +\\\n",
    "        df_atletas_flat['scout.FS'] * get_pontuacao_scouts('scout.FS') +\\\n",
    "        df_atletas_flat['scout.PS'] * get_pontuacao_scouts('scout.PS') +\\\n",
    "        df_atletas_flat['scout.PP'] * get_pontuacao_scouts('scout.PP') +\\\n",
    "        df_atletas_flat['scout.I']  * get_pontuacao_scouts('scout.I')  +\\\n",
    "        df_atletas_flat['scout.PI'] * get_pontuacao_scouts('scout.PI') +\\\n",
    "        df_atletas_flat['scout.DP'] * get_pontuacao_scouts('scout.DP') +\\\n",
    "        df_atletas_flat['scout.SG'] * get_pontuacao_scouts('scout.SG') +\\\n",
    "        df_atletas_flat['scout.DE'] * get_pontuacao_scouts('scout.DE') +\\\n",
    "        df_atletas_flat['scout.DS'] * get_pontuacao_scouts('scout.DS') +\\\n",
    "        df_atletas_flat['scout.CA'] * get_pontuacao_scouts('scout.CA') +\\\n",
    "        df_atletas_flat['scout.GS'] * get_pontuacao_scouts('scout.GS') +\\\n",
    "        df_atletas_flat['scout.FC'] * get_pontuacao_scouts('scout.FC') +\\\n",
    "        df_atletas_flat['scout.PC'] * get_pontuacao_scouts('scout.PC') +\\\n",
    "        df_atletas_flat['scout.GC'] * get_pontuacao_scouts('scout.GC') +\\\n",
    "        df_atletas_flat['scout.CV'] * get_pontuacao_scouts('scout.CV')\n",
    "\n",
    "    df_atletas_flat['diff_pontuacao'] = abs(df_atletas_flat['pontuacao_calculada']-df_atletas_flat['pontuacao'])\n",
    "\n",
    "    numero_atletas_errado = df_atletas_flat[(df_atletas_flat['posicao_id']!=6) & (df_atletas_flat['diff_pontuacao'] > 0.0001)].shape[0]\n",
    "\n",
    "    if numero_atletas_errado > 0:\n",
    "        print(df_atletas_flat[(df_atletas_flat['posicao_id']!=6) & (df_atletas_flat['diff_pontuacao'] > 0.0001)].head())\n",
    "        print('Erro na pontuacao de alguns atletas. Numero de atletas com problema:{}'.format(numero_atletas_errado))\n",
    "        return False\n",
    "    #else:\n",
    "    #    print('Pontuacao dos atletas OK')\n",
    "\n",
    "    df_atletas_flat['rodada'] = numero_rodada\n",
    "    df_atletas_flat['ano'] = ano\n",
    "\n",
    "    # exclui colunas scout, pontuacao_calculada e diff_pontuacao\n",
    "    df_atletas_flat = df_atletas_flat[['apelido', 'foto', 'pontuacao', 'posicao_id', 'clube_id',\\\n",
    "           'entrou_em_campo', 'id_atleta', 'scout.FC', 'scout.FS', 'scout.PI',\\\n",
    "           'scout.FF', 'scout.A', 'scout.DS', 'scout.DE', 'scout.GS', 'scout.FD',\\\n",
    "           'scout.SG', 'scout.CA', 'scout.FT', 'scout.G', 'scout.PC',\\\n",
    "           'scout.PS', 'scout.PP', 'scout.I', 'scout.DP', 'scout.GC', 'scout.CV',\\\n",
    "           'rodada', 'ano']]\n",
    "    return True, df_atletas_flat"
   ]
  },
  {
   "cell_type": "code",
   "execution_count": 5,
   "id": "79f093d2",
   "metadata": {},
   "outputs": [],
   "source": [
    "def create_scouts_dataframe(last_turn):\n",
    "    df_all = pd.DataFrame()\n",
    "\n",
    "    for num_rodada in range(1, last_turn):\n",
    "        #print('Processando rodada={}'.format(num_rodada))\n",
    "        df_atletas_flat, numero_rodada, total_atletas_rodada = get_dados_rodada(num_rodada)\n",
    "        flagVerificao, df_atletas_flat = verifica_dados(df_atletas_flat, numero_rodada, total_atletas_rodada)\n",
    "        if not flagVerificao:\n",
    "            print('================= Dados nao confiaveis ===================')\n",
    "        else:\n",
    "            df_all = df_all.append(df_atletas_flat, ignore_index = True)\n",
    "            \n",
    "    df_scouts = df_all[['apelido', 'pontuacao', 'posicao_id', 'clube_id',\\\n",
    "       'entrou_em_campo', 'id_atleta', 'scout.FC', 'scout.FS', 'scout.PI',\\\n",
    "       'scout.FF', 'scout.A', 'scout.DS', 'scout.DE', 'scout.GS', 'scout.FD',\\\n",
    "       'scout.SG', 'scout.CA', 'scout.FT', 'scout.G', 'scout.PC', 'scout.PS',\\\n",
    "       'scout.PP', 'scout.I', 'scout.DP', 'scout.GC', 'scout.CV', 'rodada', 'ano']]\n",
    "    \n",
    "    df_scouts.columns = ['player_name', 'points', 'id_position', 'id_club',\\\n",
    "                    'has_played', 'id_player', 'scout_fc', 'scout_fs', 'scout_pi',\\\n",
    "       'scout_ff', 'scout_a', 'scout_ds', 'scout_de', 'scout_gs', 'scout_fd',\\\n",
    "       'scout_sg', 'scout_ca', 'scout_ft', 'scout_g', 'scout_pc', 'scout_ps',\\\n",
    "       'scout_pp', 'scout_i', 'scout_dp', 'scout_gc', 'scout_cv', 'round', 'year']\n",
    "    \n",
    "    return df_scouts"
   ]
  },
  {
   "cell_type": "code",
   "execution_count": 7,
   "id": "d49fa237",
   "metadata": {},
   "outputs": [],
   "source": [
    "def collect_scouts_and_save_to_database(engine):\n",
    "    last_turn = request_last_turn_from_cartola_api()\n",
    "    df_scouts = create_scouts_dataframe(last_turn)\n",
    "    save_data(engine, 'scouts', df_scouts)\n",
    "    return count_data(engine, 'scouts').fetchall()"
   ]
  }
 ],
 "metadata": {
  "kernelspec": {
   "display_name": "Python 3",
   "language": "python",
   "name": "python3"
  },
  "language_info": {
   "codemirror_mode": {
    "name": "ipython",
    "version": 3
   },
   "file_extension": ".py",
   "mimetype": "text/x-python",
   "name": "python",
   "nbconvert_exporter": "python",
   "pygments_lexer": "ipython3",
   "version": "3.9.6"
  }
 },
 "nbformat": 4,
 "nbformat_minor": 5
}
