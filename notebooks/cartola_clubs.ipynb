{
 "cells": [
  {
   "cell_type": "markdown",
   "id": "a45e2f7b",
   "metadata": {},
   "source": [
    "# Cartola Clubs\n",
    "Esse notebook tem como objetivo popular uma base de dados com todos os clubes de futebol que participaram no Campeonato Brasileiro série A do ano corrente."
   ]
  },
  {
   "cell_type": "markdown",
   "id": "215929e0",
   "metadata": {},
   "source": [
    "### Dependências\n",
    "Instalação de dependências necessárias"
   ]
  },
  {
   "cell_type": "code",
   "execution_count": null,
   "id": "be531e02",
   "metadata": {},
   "outputs": [],
   "source": [
    "%pip install requests\n",
    "%pip install psycopg2-binary\n",
    "%pip install sqlalchemy"
   ]
  },
  {
   "cell_type": "markdown",
   "id": "c16d818d",
   "metadata": {},
   "source": [
    "### Bibliotecas necessárias \n",
    "Importação das bibliotecas necessárias para a execução do notebook"
   ]
  },
  {
   "cell_type": "code",
   "execution_count": null,
   "id": "8aa549a9",
   "metadata": {},
   "outputs": [],
   "source": [
    "import timeit\n",
    "import requests\n",
    "import json\n",
    "import pandas as pd\n",
    "from sqlalchemy import create_engine"
   ]
  },
  {
   "cell_type": "markdown",
   "id": "f9fd6ec2",
   "metadata": {},
   "source": [
    "### Inicio\n",
    "Busca dos dados na API do Cartola"
   ]
  },
  {
   "cell_type": "code",
   "execution_count": null,
   "id": "ac69850a",
   "metadata": {},
   "outputs": [],
   "source": [
    "start = timeit.default_timer()"
   ]
  },
  {
   "cell_type": "code",
   "execution_count": null,
   "id": "468947cb",
   "metadata": {},
   "outputs": [],
   "source": [
    "clubs_page = requests.get('https://api.cartolafc.globo.com/partidas')\n",
    "clubs_json = json.loads(clubs_page.content)"
   ]
  },
  {
   "cell_type": "code",
   "execution_count": null,
   "id": "f49224ee",
   "metadata": {},
   "outputs": [],
   "source": [
    "CHAMPIONSHIP_CLUBS = 20\n",
    "clubs_dict = clubs_json['clubes']\n",
    "if (len(clubs_dict) != CHAMPIONSHIP_CLUBS):\n",
    "    raise Exception('wrong_number','O campeonato deveria ter 20 times!')"
   ]
  },
  {
   "cell_type": "code",
   "execution_count": null,
   "id": "358173fe",
   "metadata": {},
   "outputs": [],
   "source": [
    "clubs = []\n",
    "for id in clubs_dict:\n",
    "    club = {'id': clubs_dict[id]['id'],\n",
    "            'name': clubs_dict[id]['nome'],\n",
    "            'initials': clubs_dict[id]['abreviacao']\n",
    "           }\n",
    "    clubs.append(club)"
   ]
  },
  {
   "cell_type": "code",
   "execution_count": null,
   "id": "3e258aa6",
   "metadata": {},
   "outputs": [],
   "source": [
    "df_clubs = pd.DataFrame(clubs)\n",
    "df_clubs.shape"
   ]
  },
  {
   "cell_type": "code",
   "execution_count": null,
   "id": "791d6942",
   "metadata": {},
   "outputs": [],
   "source": [
    "df_clubs.head(5)"
   ]
  },
  {
   "cell_type": "markdown",
   "id": "36e32213",
   "metadata": {},
   "source": [
    "### Manutenção do Banco de dados\n",
    "Nessa seção do notebook os dados do banco da tabela club serão destruídos e os novos dados serão inseridos.\n",
    "\n",
    "**Preencha os dados da conectividade:**"
   ]
  },
  {
   "cell_type": "code",
   "execution_count": null,
   "id": "2d44800c",
   "metadata": {},
   "outputs": [],
   "source": [
    "user = 'postgres'\n",
    "password = 'postgres'\n",
    "address = '172.18.0.2'\n",
    "db_name = 'cartola'"
   ]
  },
  {
   "cell_type": "code",
   "execution_count": null,
   "id": "3e535e1d",
   "metadata": {},
   "outputs": [],
   "source": [
    "def create_database_session():\n",
    "    engine = create_engine(f'postgresql://{user}:{password}@{address}/{db_name}')\n",
    "    return engine"
   ]
  },
  {
   "cell_type": "code",
   "execution_count": null,
   "id": "b97721a1",
   "metadata": {},
   "outputs": [],
   "source": [
    "def erase_data(engine):\n",
    "    engine.execute('TRUNCATE club')"
   ]
  },
  {
   "cell_type": "code",
   "execution_count": null,
   "id": "c74e0b11",
   "metadata": {},
   "outputs": [],
   "source": [
    "def create_table(engine):\n",
    "    engine.execute('''\n",
    "        CREATE TABLE IF NOT EXISTS club (\n",
    "            id smallint, \n",
    "            name varchar(80),\n",
    "            initials varchar(3)\n",
    "        )'''\n",
    "    )"
   ]
  },
  {
   "cell_type": "code",
   "execution_count": null,
   "id": "2b8ea37d",
   "metadata": {},
   "outputs": [],
   "source": [
    "def save_data(engine, dataframe):\n",
    "    dataframe.to_sql('club', con=engine, index=False, if_exists='replace')"
   ]
  },
  {
   "cell_type": "code",
   "execution_count": null,
   "id": "b4c0f26a",
   "metadata": {},
   "outputs": [],
   "source": [
    "def count_data(engine):\n",
    "    return engine.execute('SELECT count(*) FROM club')"
   ]
  },
  {
   "cell_type": "code",
   "execution_count": null,
   "id": "3aa14a8c",
   "metadata": {},
   "outputs": [],
   "source": [
    "engine = create_database_session()\n",
    "create_table(engine)\n",
    "erase_data(engine)\n",
    "save_data(engine, df_clubs)\n",
    "count_data(engine).fetchall()"
   ]
  },
  {
   "cell_type": "code",
   "execution_count": null,
   "id": "57bc288b",
   "metadata": {},
   "outputs": [],
   "source": [
    "end = timeit.default_timer()\n",
    "print ('Duração: %.f segundo(os)' % ((end - start) ))"
   ]
  }
 ],
 "metadata": {
  "kernelspec": {
   "display_name": "Python 3",
   "language": "python",
   "name": "python3"
  },
  "language_info": {
   "codemirror_mode": {
    "name": "ipython",
    "version": 3
   },
   "file_extension": ".py",
   "mimetype": "text/x-python",
   "name": "python",
   "nbconvert_exporter": "python",
   "pygments_lexer": "ipython3",
   "version": "3.9.6"
  }
 },
 "nbformat": 4,
 "nbformat_minor": 5
}
