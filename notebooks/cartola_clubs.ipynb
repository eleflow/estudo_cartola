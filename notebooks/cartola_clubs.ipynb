{
 "cells": [
  {
   "cell_type": "markdown",
   "id": "b4cf2ce8",
   "metadata": {},
   "source": [
    "# Cartola Clubs\n",
    "Esse notebook tem como objetivo popular uma base de dados com todos os clubes de futebol que participaram no Campeonato Brasileiro série A do ano corrente."
   ]
  },
  {
   "cell_type": "markdown",
   "id": "68342ec5",
   "metadata": {},
   "source": [
    "### Dependências\n",
    "Instalação de dependências necessárias"
   ]
  },
  {
   "cell_type": "code",
   "execution_count": 1,
   "id": "dc08bd6d",
   "metadata": {},
   "outputs": [
    {
     "name": "stdout",
     "output_type": "stream",
     "text": [
      "Defaulting to user installation because normal site-packages is not writeable\n",
      "Requirement already satisfied: requests in ./.local/lib/python3.9/site-packages (2.26.0)\n",
      "Requirement already satisfied: idna<4,>=2.5 in ./.local/lib/python3.9/site-packages (from requests) (3.3)\n",
      "Requirement already satisfied: urllib3<1.27,>=1.21.1 in ./.local/lib/python3.9/site-packages (from requests) (1.26.7)\n",
      "Requirement already satisfied: certifi>=2017.4.17 in /usr/local/lib/python3.9/site-packages (from requests) (2021.5.30)\n",
      "Requirement already satisfied: charset-normalizer~=2.0.0 in ./.local/lib/python3.9/site-packages (from requests) (2.0.7)\n",
      "Note: you may need to restart the kernel to use updated packages.\n",
      "Defaulting to user installation because normal site-packages is not writeable\n",
      "Requirement already satisfied: psycopg2-binary in ./.local/lib/python3.9/site-packages (2.9.1)\n",
      "Note: you may need to restart the kernel to use updated packages.\n",
      "Defaulting to user installation because normal site-packages is not writeable\n",
      "Requirement already satisfied: sqlalchemy in ./.local/lib/python3.9/site-packages (1.4.25)\n",
      "Requirement already satisfied: greenlet!=0.4.17 in ./.local/lib/python3.9/site-packages (from sqlalchemy) (1.1.2)\n",
      "Note: you may need to restart the kernel to use updated packages.\n"
     ]
    }
   ],
   "source": [
    "%pip install requests\n",
    "%pip install psycopg2-binary\n",
    "%pip install sqlalchemy"
   ]
  },
  {
   "cell_type": "markdown",
   "id": "a0c3f9c0",
   "metadata": {},
   "source": [
    "### Bibliotecas necessárias \n",
    "Importação das bibliotecas necessárias para a execução do notebook"
   ]
  },
  {
   "cell_type": "code",
   "execution_count": 2,
   "id": "80e38d6a",
   "metadata": {},
   "outputs": [],
   "source": [
    "import timeit\n",
    "import requests\n",
    "import json\n",
    "import pandas as pd\n",
    "from sqlalchemy import create_engine"
   ]
  },
  {
   "cell_type": "markdown",
   "id": "126b9559",
   "metadata": {},
   "source": [
    "### Inicio\n",
    "Busca dos dados na API do Cartola"
   ]
  },
  {
   "cell_type": "code",
   "execution_count": 3,
   "id": "e5927530",
   "metadata": {},
   "outputs": [],
   "source": [
    "start = timeit.default_timer()"
   ]
  },
  {
   "cell_type": "code",
   "execution_count": 4,
   "id": "cefe20e9",
   "metadata": {},
   "outputs": [],
   "source": [
    "clubs_page = requests.get('https://api.cartolafc.globo.com/partidas')\n",
    "clubs_json = json.loads(clubs_page.content)"
   ]
  },
  {
   "cell_type": "code",
   "execution_count": 5,
   "id": "22ab3d6c",
   "metadata": {},
   "outputs": [],
   "source": [
    "CHAMPIONSHIP_CLUBS = 20\n",
    "clubs_dict = clubs_json['clubes']\n",
    "if (len(clubs_dict) != CHAMPIONSHIP_CLUBS):\n",
    "    raise Exception('wrong_number','O campeonato deveria ter 20 times!')"
   ]
  },
  {
   "cell_type": "code",
   "execution_count": 6,
   "id": "2368bac1",
   "metadata": {},
   "outputs": [],
   "source": [
    "clubs = []\n",
    "for id in clubs_dict:\n",
    "    club = {'id': clubs_dict[id]['id'],\n",
    "            'name': clubs_dict[id]['nome'],\n",
    "            'initials': clubs_dict[id]['abreviacao']\n",
    "           }\n",
    "    clubs.append(club)"
   ]
  },
  {
   "cell_type": "code",
   "execution_count": 7,
   "id": "fa298d8f",
   "metadata": {},
   "outputs": [
    {
     "data": {
      "text/plain": [
       "(20, 3)"
      ]
     },
     "execution_count": 7,
     "metadata": {},
     "output_type": "execute_result"
    }
   ],
   "source": [
    "df_clubs = pd.DataFrame(clubs)\n",
    "df_clubs.shape"
   ]
  },
  {
   "cell_type": "markdown",
   "id": "7756c0f7",
   "metadata": {},
   "source": [
    "### Manutenção do Banco de dados\n",
    "Nessa seção do notebook os dados do banco da tabela club serão destruídos e os novos dados serão inseridos.\n",
    "\n",
    "**Preencha os dados da conectividade:**"
   ]
  },
  {
   "cell_type": "code",
   "execution_count": 8,
   "id": "7fee112f",
   "metadata": {},
   "outputs": [],
   "source": [
    "user = 'postgres'\n",
    "password = 'postgres'\n",
    "address = '172.18.0.2'\n",
    "db_name = 'cartola'"
   ]
  },
  {
   "cell_type": "code",
   "execution_count": 9,
   "id": "a78dd489",
   "metadata": {},
   "outputs": [],
   "source": [
    "def create_database_session():\n",
    "    engine = create_engine(f'postgresql://{user}:{password}@{address}/{db_name}')\n",
    "    return engine"
   ]
  },
  {
   "cell_type": "code",
   "execution_count": 10,
   "id": "d18df95c",
   "metadata": {},
   "outputs": [],
   "source": [
    "def erase_data(engine):\n",
    "    engine.execute('TRUNCATE club')"
   ]
  },
  {
   "cell_type": "code",
   "execution_count": 11,
   "id": "fb5d5a8e",
   "metadata": {},
   "outputs": [],
   "source": [
    "def create_table(engine):\n",
    "    engine.execute('''\n",
    "        CREATE TABLE IF NOT EXISTS club (\n",
    "            id smallint, \n",
    "            name varchar(80),\n",
    "            initials varchar(3)\n",
    "        )'''\n",
    "    )"
   ]
  },
  {
   "cell_type": "code",
   "execution_count": 12,
   "id": "08e0e0b8",
   "metadata": {},
   "outputs": [],
   "source": [
    "def save_data(engine, dataframe):\n",
    "    dataframe.to_sql('club', con=engine, index=False, if_exists='replace')"
   ]
  },
  {
   "cell_type": "code",
   "execution_count": 13,
   "id": "ac022ab8",
   "metadata": {},
   "outputs": [],
   "source": [
    "engine = create_database_session()\n",
    "create_table(engine)\n",
    "erase_data(engine)\n",
    "save_data(engine, df_clubs)"
   ]
  },
  {
   "cell_type": "code",
   "execution_count": 14,
   "id": "26b03ac5",
   "metadata": {},
   "outputs": [
    {
     "name": "stdout",
     "output_type": "stream",
     "text": [
      "Duração: 1 segundos\n"
     ]
    }
   ],
   "source": [
    "end = timeit.default_timer()\n",
    "print ('Duração: %.f segundo(os)' % ((end - start) ))"
   ]
  }
 ],
 "metadata": {
  "kernelspec": {
   "display_name": "Python 3",
   "language": "python",
   "name": "python3"
  },
  "language_info": {
   "codemirror_mode": {
    "name": "ipython",
    "version": 3
   },
   "file_extension": ".py",
   "mimetype": "text/x-python",
   "name": "python",
   "nbconvert_exporter": "python",
   "pygments_lexer": "ipython3",
   "version": "3.9.6"
  }
 },
 "nbformat": 4,
 "nbformat_minor": 5
}
