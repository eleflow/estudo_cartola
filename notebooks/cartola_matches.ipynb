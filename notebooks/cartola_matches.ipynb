{
 "cells": [
  {
   "cell_type": "markdown",
   "id": "1f24031e",
   "metadata": {},
   "source": [
    "# Cartola Matches\n",
    "Esse notebook tem como objetivo popular uma base de dados com todas as partidas ocorridas no ano corrente do Campeonato Brasileiro série A."
   ]
  },
  {
   "cell_type": "markdown",
   "id": "a9963352",
   "metadata": {},
   "source": [
    "### Dependências\n",
    "Instalação de dependências necessárias"
   ]
  },
  {
   "cell_type": "code",
   "execution_count": null,
   "id": "79026471",
   "metadata": {},
   "outputs": [],
   "source": [
    "%pip install requests\n",
    "%pip install psycopg2-binary\n",
    "%pip install sqlalchemy"
   ]
  },
  {
   "cell_type": "markdown",
   "id": "5966b77e",
   "metadata": {},
   "source": [
    "### Bibliotecas necessárias \n",
    "Importação das bibliotecas necessárias para a execução do notebook"
   ]
  },
  {
   "cell_type": "code",
   "execution_count": null,
   "id": "4df336b1",
   "metadata": {},
   "outputs": [],
   "source": [
    "import timeit\n",
    "import requests\n",
    "import json\n",
    "import pandas as pd\n",
    "from sqlalchemy import create_engine"
   ]
  },
  {
   "cell_type": "markdown",
   "id": "e12859ca",
   "metadata": {},
   "source": [
    "### Início\n",
    "Busca dos dados na API do Cartola"
   ]
  },
  {
   "cell_type": "code",
   "execution_count": null,
   "id": "35acba5c",
   "metadata": {},
   "outputs": [],
   "source": [
    "start = timeit.default_timer()"
   ]
  },
  {
   "cell_type": "code",
   "execution_count": null,
   "id": "8fab5cb5",
   "metadata": {},
   "outputs": [],
   "source": [
    "home_page = requests.get('https://api.cartolafc.globo.com/partidas')\n",
    "home_json = json.loads(home_page.content)\n",
    "last_turn = home_json['rodada']\n",
    "print(f'Rodada atual: {last_turn}')"
   ]
  },
  {
   "cell_type": "code",
   "execution_count": null,
   "id": "def40791",
   "metadata": {},
   "outputs": [],
   "source": [
    "matches = []\n",
    "for turn in range(1, last_turn):\n",
    "    turn_page = requests.get(f'https://api.cartolafc.globo.com/partidas/{turn}')\n",
    "    turn_json = json.loads(turn_page.content)\n",
    "    turn_matches = turn_json['partidas']\n",
    "    for match_data in turn_matches:\n",
    "        match = {\n",
    "            'match_id': match_data['partida_id'],\n",
    "            'turn': turn,\n",
    "            'home_id': match_data['clube_casa_id'],\n",
    "            'visitor_id': match_data['clube_visitante_id'],\n",
    "            'date': match_data['partida_data'],\n",
    "            'timestamp': match_data['timestamp'],\n",
    "            'local': match_data['local'],\n",
    "            'valid': match_data['valida'],\n",
    "            'home_goal': match_data['placar_oficial_mandante'],\n",
    "            'visitor_goal': match_data['placar_oficial_visitante'],\n",
    "            \n",
    "        }\n",
    "        matches.append(match)"
   ]
  },
  {
   "cell_type": "code",
   "execution_count": null,
   "id": "6ca05a8d",
   "metadata": {},
   "outputs": [],
   "source": [
    "df_matches = pd.DataFrame(matches)\n",
    "df_matches.shape"
   ]
  },
  {
   "cell_type": "code",
   "execution_count": null,
   "id": "b9fe1eee",
   "metadata": {},
   "outputs": [],
   "source": [
    "df_matches.head(5)"
   ]
  },
  {
   "cell_type": "markdown",
   "id": "0c33f6bd",
   "metadata": {},
   "source": [
    "### Manutenção do Banco de dados\n",
    "Nessa seção do notebook os dados do banco da tabela match serão destruídos e os novos dados serão inseridos.\n",
    "\n",
    "**Preencha os dados da conectividade:**"
   ]
  },
  {
   "cell_type": "code",
   "execution_count": null,
   "id": "ca0517cb",
   "metadata": {},
   "outputs": [],
   "source": [
    "user = 'postgres'\n",
    "password = 'postgres'\n",
    "address = '172.18.0.2'\n",
    "db_name = 'cartola'"
   ]
  },
  {
   "cell_type": "code",
   "execution_count": null,
   "id": "90ec3f12",
   "metadata": {},
   "outputs": [],
   "source": [
    "def create_database_session():\n",
    "    engine = create_engine(f'postgresql://{user}:{password}@{address}/{db_name}')\n",
    "    return engine"
   ]
  },
  {
   "cell_type": "code",
   "execution_count": null,
   "id": "232f7d3d",
   "metadata": {},
   "outputs": [],
   "source": [
    "def erase_data(engine):\n",
    "    engine.execute('TRUNCATE match')"
   ]
  },
  {
   "cell_type": "code",
   "execution_count": null,
   "id": "98b75033",
   "metadata": {},
   "outputs": [],
   "source": [
    "def create_table(engine):\n",
    "    engine.execute('''\n",
    "        CREATE TABLE IF NOT EXISTS match (\n",
    "            match_id integer, \n",
    "            turn smallint,\n",
    "            home_id smallint,\n",
    "            visitor_id smallint,\n",
    "            date varchar(20),\n",
    "            timestamp bigint,\n",
    "            local varchar(80),\n",
    "            valid boolean,\n",
    "            home_goal smallint,\n",
    "            visitor_goal smallint\n",
    "        )'''\n",
    "    )"
   ]
  },
  {
   "cell_type": "code",
   "execution_count": null,
   "id": "9eb6a544",
   "metadata": {},
   "outputs": [],
   "source": [
    "def save_data(engine, dataframe):\n",
    "    dataframe.to_sql('match', con=engine, index=False, if_exists='replace')"
   ]
  },
  {
   "cell_type": "code",
   "execution_count": null,
   "id": "5393422f",
   "metadata": {},
   "outputs": [],
   "source": [
    "def count_data(engine):\n",
    "    return engine.execute('SELECT count(*) FROM match')"
   ]
  },
  {
   "cell_type": "code",
   "execution_count": null,
   "id": "83d9d5cc",
   "metadata": {},
   "outputs": [],
   "source": [
    "engine = create_database_session()\n",
    "create_table(engine)\n",
    "erase_data(engine)\n",
    "save_data(engine, df_matches)\n",
    "count_data(engine).fetchall()"
   ]
  },
  {
   "cell_type": "code",
   "execution_count": null,
   "id": "58e6d6ce",
   "metadata": {},
   "outputs": [],
   "source": [
    "end = timeit.default_timer()\n",
    "print ('Duração: %.f segundo(os)' % ((end - start) ))"
   ]
  }
 ],
 "metadata": {
  "kernelspec": {
   "display_name": "Python 3",
   "language": "python",
   "name": "python3"
  },
  "language_info": {
   "codemirror_mode": {
    "name": "ipython",
    "version": 3
   },
   "file_extension": ".py",
   "mimetype": "text/x-python",
   "name": "python",
   "nbconvert_exporter": "python",
   "pygments_lexer": "ipython3",
   "version": "3.9.6"
  }
 },
 "nbformat": 4,
 "nbformat_minor": 5
}
