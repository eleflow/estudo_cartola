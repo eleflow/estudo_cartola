{
 "cells": [
  {
   "cell_type": "code",
   "execution_count": 3,
   "id": "f2688b1a",
   "metadata": {},
   "outputs": [],
   "source": [
    "import numpy\n",
    "import pandas"
   ]
  },
  {
   "cell_type": "code",
   "execution_count": 17,
   "id": "7a2b12b2",
   "metadata": {},
   "outputs": [],
   "source": [
    " dates = pandas.date_range(\"20210101\", periods=6, freq='M')"
   ]
  },
  {
   "cell_type": "code",
   "execution_count": 18,
   "id": "3b06a751",
   "metadata": {},
   "outputs": [
    {
     "name": "stdout",
     "output_type": "stream",
     "text": [
      "31/01/2021\n",
      "28/02/2021\n",
      "31/03/2021\n",
      "30/04/2021\n",
      "31/05/2021\n",
      "30/06/2021\n"
     ]
    }
   ],
   "source": [
    "for date in dates:\n",
    "    print(date.strftime(\"%d/%m/%Y\"))"
   ]
  },
  {
   "cell_type": "code",
   "execution_count": 12,
   "id": "00363da7",
   "metadata": {},
   "outputs": [
    {
     "name": "stdout",
     "output_type": "stream",
     "text": [
      "That's all Folks!\n"
     ]
    }
   ],
   "source": [
    "print('That\\'s all Folks!')"
   ]
  }
 ],
 "metadata": {
  "kernelspec": {
   "display_name": "Python 3",
   "language": "python",
   "name": "python3"
  },
  "language_info": {
   "codemirror_mode": {
    "name": "ipython",
    "version": 3
   },
   "file_extension": ".py",
   "mimetype": "text/x-python",
   "name": "python",
   "nbconvert_exporter": "python",
   "pygments_lexer": "ipython3",
   "version": "3.9.6"
  }
 },
 "nbformat": 4,
 "nbformat_minor": 5
}
