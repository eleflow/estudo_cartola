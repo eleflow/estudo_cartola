{
 "cells": [
  {
   "cell_type": "markdown",
   "id": "5b44e9bf",
   "metadata": {},
   "source": [
    "### Notebook responsável por executar os diversos notebooks"
   ]
  },
  {
   "cell_type": "code",
   "execution_count": 1,
   "id": "477cb9df",
   "metadata": {},
   "outputs": [],
   "source": [
    "%run ./database.ipynb\n",
    "%run ./clubes.ipynb\n",
    "%run ./partidas.ipynb\n",
    "%run ./jogadores.ipynb\n",
    "%run ./transformacoes.ipynb"
   ]
  },
  {
   "cell_type": "code",
   "execution_count": 2,
   "id": "93613af7",
   "metadata": {},
   "outputs": [],
   "source": [
    "# Inicializando o banco de dados\n",
    "\n",
    "engine = prepare_database()"
   ]
  },
  {
   "cell_type": "code",
   "execution_count": 3,
   "id": "a9c8aa13",
   "metadata": {},
   "outputs": [
    {
     "name": "stdout",
     "output_type": "stream",
     "text": [
      "Quantidade de linhas para clubes: [(20,)]\n"
     ]
    }
   ],
   "source": [
    "# Busca os clubes participantes e salva no banco\n",
    "\n",
    "rows = collect_clubs_and_save_to_database(engine)\n",
    "print(\"Quantidade de linhas para clubes: {}\".format(rows))"
   ]
  },
  {
   "cell_type": "code",
   "execution_count": 4,
   "id": "ccae6f96",
   "metadata": {},
   "outputs": [
    {
     "name": "stdout",
     "output_type": "stream",
     "text": [
      "Quantidade de linhas para partidas: [(60,)]\n"
     ]
    }
   ],
   "source": [
    "# Busca pelas novas partidas e salva no banco\n",
    "\n",
    "rows = collect_matches_and_save_to_database(engine)\n",
    "print(\"Quantidade de linhas para partidas: {}\".format(rows))"
   ]
  },
  {
   "cell_type": "code",
   "execution_count": 5,
   "id": "708c43ab",
   "metadata": {},
   "outputs": [
    {
     "name": "stdout",
     "output_type": "stream",
     "text": [
      "Quantidade de linhas para scouts: [(1953,)]\n"
     ]
    }
   ],
   "source": [
    "# Busca pelos novos scouts e salva no banco\n",
    "\n",
    "rows = collect_scouts_and_save_to_database(engine)\n",
    "print(\"Quantidade de linhas para scouts: {}\".format(rows))"
   ]
  },
  {
   "cell_type": "code",
   "execution_count": 6,
   "id": "10c1095c",
   "metadata": {},
   "outputs": [],
   "source": [
    "# Busca os dados e monta os dataframes\n",
    "\n",
    "df_matches = get_matches_dataframe(engine)\n",
    "df_scouts = get_scouts_dataframe(engine)\n",
    "df_clubs = get_clubs_dataframe(engine)"
   ]
  },
  {
   "cell_type": "code",
   "execution_count": 10,
   "id": "bf51a65a",
   "metadata": {},
   "outputs": [
    {
     "data": {
      "text/html": [
       "<div>\n",
       "<style scoped>\n",
       "    .dataframe tbody tr th:only-of-type {\n",
       "        vertical-align: middle;\n",
       "    }\n",
       "\n",
       "    .dataframe tbody tr th {\n",
       "        vertical-align: top;\n",
       "    }\n",
       "\n",
       "    .dataframe thead th {\n",
       "        text-align: right;\n",
       "    }\n",
       "</style>\n",
       "<table border=\"1\" class=\"dataframe\">\n",
       "  <thead>\n",
       "    <tr style=\"text-align: right;\">\n",
       "      <th></th>\n",
       "      <th>match_id</th>\n",
       "      <th>turn</th>\n",
       "      <th>home_id</th>\n",
       "      <th>visitor_id</th>\n",
       "      <th>date</th>\n",
       "      <th>timestamp</th>\n",
       "      <th>local</th>\n",
       "      <th>valid</th>\n",
       "      <th>home_goal</th>\n",
       "      <th>visitor_goal</th>\n",
       "      <th>year</th>\n",
       "      <th>diff_goals</th>\n",
       "      <th>vencedor</th>\n",
       "      <th>datetime</th>\n",
       "    </tr>\n",
       "  </thead>\n",
       "  <tbody>\n",
       "    <tr>\n",
       "      <th>0</th>\n",
       "      <td>287509</td>\n",
       "      <td>1</td>\n",
       "      <td>266</td>\n",
       "      <td>277</td>\n",
       "      <td>2022-04-09 16:30:00</td>\n",
       "      <td>1649532600</td>\n",
       "      <td>Maracanã</td>\n",
       "      <td>True</td>\n",
       "      <td>0.0</td>\n",
       "      <td>0.0</td>\n",
       "      <td>2022</td>\n",
       "      <td>0.0</td>\n",
       "      <td>EMPATE</td>\n",
       "      <td>2022-04-09 16:30:00</td>\n",
       "    </tr>\n",
       "    <tr>\n",
       "      <th>1</th>\n",
       "      <td>287515</td>\n",
       "      <td>1</td>\n",
       "      <td>373</td>\n",
       "      <td>262</td>\n",
       "      <td>2022-04-09 19:00:00</td>\n",
       "      <td>1649541600</td>\n",
       "      <td>Antônio Accioly</td>\n",
       "      <td>True</td>\n",
       "      <td>1.0</td>\n",
       "      <td>1.0</td>\n",
       "      <td>2022</td>\n",
       "      <td>0.0</td>\n",
       "      <td>EMPATE</td>\n",
       "      <td>2022-04-09 19:00:00</td>\n",
       "    </tr>\n",
       "    <tr>\n",
       "      <th>2</th>\n",
       "      <td>287511</td>\n",
       "      <td>1</td>\n",
       "      <td>275</td>\n",
       "      <td>354</td>\n",
       "      <td>2022-04-09 21:00:00</td>\n",
       "      <td>1649548800</td>\n",
       "      <td>Allianz Parque</td>\n",
       "      <td>True</td>\n",
       "      <td>2.0</td>\n",
       "      <td>3.0</td>\n",
       "      <td>2022</td>\n",
       "      <td>-1.0</td>\n",
       "      <td>VISITANTE</td>\n",
       "      <td>2022-04-09 21:00:00</td>\n",
       "    </tr>\n",
       "    <tr>\n",
       "      <th>3</th>\n",
       "      <td>287517</td>\n",
       "      <td>1</td>\n",
       "      <td>294</td>\n",
       "      <td>290</td>\n",
       "      <td>2022-04-10 11:00:00</td>\n",
       "      <td>1649599200</td>\n",
       "      <td>Couto Pereira</td>\n",
       "      <td>True</td>\n",
       "      <td>3.0</td>\n",
       "      <td>0.0</td>\n",
       "      <td>2022</td>\n",
       "      <td>3.0</td>\n",
       "      <td>CASA</td>\n",
       "      <td>2022-04-10 11:00:00</td>\n",
       "    </tr>\n",
       "    <tr>\n",
       "      <th>4</th>\n",
       "      <td>287508</td>\n",
       "      <td>1</td>\n",
       "      <td>282</td>\n",
       "      <td>285</td>\n",
       "      <td>2022-04-10 16:00:00</td>\n",
       "      <td>1649617200</td>\n",
       "      <td>Mineirão</td>\n",
       "      <td>True</td>\n",
       "      <td>2.0</td>\n",
       "      <td>0.0</td>\n",
       "      <td>2022</td>\n",
       "      <td>2.0</td>\n",
       "      <td>CASA</td>\n",
       "      <td>2022-04-10 16:00:00</td>\n",
       "    </tr>\n",
       "  </tbody>\n",
       "</table>\n",
       "</div>"
      ],
      "text/plain": [
       "   match_id  turn  home_id  visitor_id                 date   timestamp  \\\n",
       "0    287509     1      266         277  2022-04-09 16:30:00  1649532600   \n",
       "1    287515     1      373         262  2022-04-09 19:00:00  1649541600   \n",
       "2    287511     1      275         354  2022-04-09 21:00:00  1649548800   \n",
       "3    287517     1      294         290  2022-04-10 11:00:00  1649599200   \n",
       "4    287508     1      282         285  2022-04-10 16:00:00  1649617200   \n",
       "\n",
       "             local  valid  home_goal  visitor_goal  year  diff_goals  \\\n",
       "0         Maracanã   True        0.0           0.0  2022         0.0   \n",
       "1  Antônio Accioly   True        1.0           1.0  2022         0.0   \n",
       "2   Allianz Parque   True        2.0           3.0  2022        -1.0   \n",
       "3    Couto Pereira   True        3.0           0.0  2022         3.0   \n",
       "4         Mineirão   True        2.0           0.0  2022         2.0   \n",
       "\n",
       "    vencedor            datetime  \n",
       "0     EMPATE 2022-04-09 16:30:00  \n",
       "1     EMPATE 2022-04-09 19:00:00  \n",
       "2  VISITANTE 2022-04-09 21:00:00  \n",
       "3       CASA 2022-04-10 11:00:00  \n",
       "4       CASA 2022-04-10 16:00:00  "
      ]
     },
     "execution_count": 10,
     "metadata": {},
     "output_type": "execute_result"
    }
   ],
   "source": [
    "aplica_transformacoes_dataframe_partidas(df_matches)\n",
    "df_matches.head()"
   ]
  },
  {
   "cell_type": "code",
   "execution_count": null,
   "id": "5c7014cf",
   "metadata": {},
   "outputs": [],
   "source": [
    "#aplica_transformacoes_dataframe_scouts(df_scouts)"
   ]
  }
 ],
 "metadata": {
  "kernelspec": {
   "display_name": "Python 3",
   "language": "python",
   "name": "python3"
  },
  "language_info": {
   "codemirror_mode": {
    "name": "ipython",
    "version": 3
   },
   "file_extension": ".py",
   "mimetype": "text/x-python",
   "name": "python",
   "nbconvert_exporter": "python",
   "pygments_lexer": "ipython3",
   "version": "3.9.6"
  }
 },
 "nbformat": 4,
 "nbformat_minor": 5
}
