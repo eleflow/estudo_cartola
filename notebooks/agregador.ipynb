{
 "cells": [
  {
   "cell_type": "markdown",
   "id": "5b44e9bf",
   "metadata": {},
   "source": [
    "### Notebook responsável por agregar os diversos notebooks"
   ]
  },
  {
   "cell_type": "code",
   "execution_count": 1,
   "id": "93613af7",
   "metadata": {},
   "outputs": [],
   "source": [
    "# Inicializando o banco de dados\n",
    "\n",
    "%run ./database.ipynb\n",
    "engine = start_database()"
   ]
  },
  {
   "cell_type": "code",
   "execution_count": 2,
   "id": "ccae6f96",
   "metadata": {},
   "outputs": [
    {
     "name": "stdout",
     "output_type": "stream",
     "text": [
      "Quantidade de linhas: [(60,)]\n"
     ]
    }
   ],
   "source": [
    "# Busca pelas novas partidas e salva no banco\n",
    "\n",
    "%run ./partidas.ipynb\n",
    "rows = collect_matches_and_save_to_database(engine)\n",
    "print(\"Quantidade de linhas: {}\".format(rows))"
   ]
  },
  {
   "cell_type": "code",
   "execution_count": 3,
   "id": "708c43ab",
   "metadata": {},
   "outputs": [
    {
     "name": "stdout",
     "output_type": "stream",
     "text": [
      "Processando rodada=1\n",
      "Verificacao numero de atletas da rodada ok! apurado:336, indicado:336\n",
      "Coluna scout.PP nao encontrada. Adicionando\n",
      "Coluna scout.DP nao encontrada. Adicionando\n",
      "Pontuacao dos atletas OK\n",
      "Processando rodada=2\n",
      "Verificacao numero de atletas da rodada ok! apurado:339, indicado:339\n",
      "Coluna scout.DP nao encontrada. Adicionando\n",
      "Erro na pontuacao de alguns atletas. Numero de atletas com problema:1\n"
     ]
    },
    {
     "ename": "TypeError",
     "evalue": "cannot unpack non-iterable bool object",
     "output_type": "error",
     "traceback": [
      "\u001b[0;31m---------------------------------------------------------------------------\u001b[0m",
      "\u001b[0;31mTypeError\u001b[0m                                 Traceback (most recent call last)",
      "\u001b[0;32m<ipython-input-3-cdfb40bc9f9d>\u001b[0m in \u001b[0;36m<module>\u001b[0;34m\u001b[0m\n\u001b[1;32m      2\u001b[0m \u001b[0;34m\u001b[0m\u001b[0m\n\u001b[1;32m      3\u001b[0m \u001b[0mget_ipython\u001b[0m\u001b[0;34m(\u001b[0m\u001b[0;34m)\u001b[0m\u001b[0;34m.\u001b[0m\u001b[0mrun_line_magic\u001b[0m\u001b[0;34m(\u001b[0m\u001b[0;34m'run'\u001b[0m\u001b[0;34m,\u001b[0m \u001b[0;34m'./jogadores.ipynb'\u001b[0m\u001b[0;34m)\u001b[0m\u001b[0;34m\u001b[0m\u001b[0;34m\u001b[0m\u001b[0m\n\u001b[0;32m----> 4\u001b[0;31m \u001b[0mrows\u001b[0m \u001b[0;34m=\u001b[0m \u001b[0mcollect_scouts_and_save_to_database\u001b[0m\u001b[0;34m(\u001b[0m\u001b[0mengine\u001b[0m\u001b[0;34m)\u001b[0m\u001b[0;34m\u001b[0m\u001b[0;34m\u001b[0m\u001b[0m\n\u001b[0m\u001b[1;32m      5\u001b[0m \u001b[0mprint\u001b[0m\u001b[0;34m(\u001b[0m\u001b[0;34m\"Quantidade de linhas: {}\"\u001b[0m\u001b[0;34m.\u001b[0m\u001b[0mformat\u001b[0m\u001b[0;34m(\u001b[0m\u001b[0mrows\u001b[0m\u001b[0;34m)\u001b[0m\u001b[0;34m)\u001b[0m\u001b[0;34m\u001b[0m\u001b[0;34m\u001b[0m\u001b[0m\n",
      "\u001b[0;32m<ipython-input-3-b1d8bea34e4d>\u001b[0m in \u001b[0;36mcollect_scouts_and_save_to_database\u001b[0;34m(engine)\u001b[0m\n\u001b[1;32m      1\u001b[0m \u001b[0;32mdef\u001b[0m \u001b[0mcollect_scouts_and_save_to_database\u001b[0m\u001b[0;34m(\u001b[0m\u001b[0mengine\u001b[0m\u001b[0;34m)\u001b[0m\u001b[0;34m:\u001b[0m\u001b[0;34m\u001b[0m\u001b[0;34m\u001b[0m\u001b[0m\n\u001b[1;32m      2\u001b[0m     \u001b[0mlast_turn\u001b[0m \u001b[0;34m=\u001b[0m \u001b[0mrequest_last_turn_from_cartola_api\u001b[0m\u001b[0;34m(\u001b[0m\u001b[0;34m)\u001b[0m\u001b[0;34m\u001b[0m\u001b[0;34m\u001b[0m\u001b[0m\n\u001b[0;32m----> 3\u001b[0;31m     \u001b[0mdf_scouts\u001b[0m \u001b[0;34m=\u001b[0m \u001b[0mcreate_scouts_dataframe\u001b[0m\u001b[0;34m(\u001b[0m\u001b[0mlast_turn\u001b[0m\u001b[0;34m)\u001b[0m\u001b[0;34m\u001b[0m\u001b[0;34m\u001b[0m\u001b[0m\n\u001b[0m\u001b[1;32m      4\u001b[0m     \u001b[0msave_data\u001b[0m\u001b[0;34m(\u001b[0m\u001b[0mengine\u001b[0m\u001b[0;34m,\u001b[0m \u001b[0;34m'scouts'\u001b[0m\u001b[0;34m,\u001b[0m \u001b[0mdf_scouts\u001b[0m\u001b[0;34m)\u001b[0m\u001b[0;34m\u001b[0m\u001b[0;34m\u001b[0m\u001b[0m\n\u001b[1;32m      5\u001b[0m     \u001b[0;32mreturn\u001b[0m \u001b[0mcount_data\u001b[0m\u001b[0;34m(\u001b[0m\u001b[0mengine\u001b[0m\u001b[0;34m)\u001b[0m\u001b[0;34m.\u001b[0m\u001b[0mfetchall\u001b[0m\u001b[0;34m(\u001b[0m\u001b[0;34m)\u001b[0m\u001b[0;34m\u001b[0m\u001b[0;34m\u001b[0m\u001b[0m\n",
      "\u001b[0;32m<ipython-input-3-7a7ab704773d>\u001b[0m in \u001b[0;36mcreate_scouts_dataframe\u001b[0;34m(last_turn)\u001b[0m\n\u001b[1;32m      5\u001b[0m         \u001b[0mprint\u001b[0m\u001b[0;34m(\u001b[0m\u001b[0;34m'Processando rodada={}'\u001b[0m\u001b[0;34m.\u001b[0m\u001b[0mformat\u001b[0m\u001b[0;34m(\u001b[0m\u001b[0mnum_rodada\u001b[0m\u001b[0;34m)\u001b[0m\u001b[0;34m)\u001b[0m\u001b[0;34m\u001b[0m\u001b[0;34m\u001b[0m\u001b[0m\n\u001b[1;32m      6\u001b[0m         \u001b[0mdf_atletas_flat\u001b[0m\u001b[0;34m,\u001b[0m \u001b[0mnumero_rodada\u001b[0m\u001b[0;34m,\u001b[0m \u001b[0mtotal_atletas_rodada\u001b[0m \u001b[0;34m=\u001b[0m \u001b[0mget_dados_rodada\u001b[0m\u001b[0;34m(\u001b[0m\u001b[0mnum_rodada\u001b[0m\u001b[0;34m)\u001b[0m\u001b[0;34m\u001b[0m\u001b[0;34m\u001b[0m\u001b[0m\n\u001b[0;32m----> 7\u001b[0;31m         \u001b[0mflagVerificao\u001b[0m\u001b[0;34m,\u001b[0m \u001b[0mdf_atletas_flat\u001b[0m \u001b[0;34m=\u001b[0m \u001b[0mverifica_dados\u001b[0m\u001b[0;34m(\u001b[0m\u001b[0mdf_atletas_flat\u001b[0m\u001b[0;34m,\u001b[0m \u001b[0mnumero_rodada\u001b[0m\u001b[0;34m,\u001b[0m \u001b[0mtotal_atletas_rodada\u001b[0m\u001b[0;34m)\u001b[0m\u001b[0;34m\u001b[0m\u001b[0;34m\u001b[0m\u001b[0m\n\u001b[0m\u001b[1;32m      8\u001b[0m         \u001b[0;32mif\u001b[0m \u001b[0;32mnot\u001b[0m \u001b[0mflagVerificao\u001b[0m\u001b[0;34m:\u001b[0m\u001b[0;34m\u001b[0m\u001b[0;34m\u001b[0m\u001b[0m\n\u001b[1;32m      9\u001b[0m             \u001b[0mprint\u001b[0m\u001b[0;34m(\u001b[0m\u001b[0;34m'================= Dados nao confiaveis ==================='\u001b[0m\u001b[0;34m)\u001b[0m\u001b[0;34m\u001b[0m\u001b[0;34m\u001b[0m\u001b[0m\n",
      "\u001b[0;31mTypeError\u001b[0m: cannot unpack non-iterable bool object"
     ]
    }
   ],
   "source": [
    "# Busca pelos novos scouts e salva no banco\n",
    "\n",
    "%run ./jogadores.ipynb\n",
    "rows = collect_scouts_and_save_to_database(engine)\n",
    "print(\"Quantidade de linhas: {}\".format(rows))"
   ]
  }
 ],
 "metadata": {
  "kernelspec": {
   "display_name": "Python 3",
   "language": "python",
   "name": "python3"
  },
  "language_info": {
   "codemirror_mode": {
    "name": "ipython",
    "version": 3
   },
   "file_extension": ".py",
   "mimetype": "text/x-python",
   "name": "python",
   "nbconvert_exporter": "python",
   "pygments_lexer": "ipython3",
   "version": "3.9.6"
  }
 },
 "nbformat": 4,
 "nbformat_minor": 5
}
