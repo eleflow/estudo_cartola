{
 "cells": [
  {
   "cell_type": "markdown",
   "id": "5b44e9bf",
   "metadata": {},
   "source": [
    "### Notebook responsável por executar os diversos notebooks"
   ]
  },
  {
   "cell_type": "code",
   "execution_count": 1,
   "id": "477cb9df",
   "metadata": {},
   "outputs": [],
   "source": [
    "%run ./database.ipynb\n",
    "%run ./clubes.ipynb\n",
    "%run ./partidas.ipynb\n",
    "%run ./jogadores.ipynb\n",
    "%run ./transformacoes.ipynb"
   ]
  },
  {
   "cell_type": "code",
   "execution_count": 2,
   "id": "68b1b80b",
   "metadata": {},
   "outputs": [],
   "source": [
    "def __busca_datasets_banco_dados__():\n",
    "    engine = prepare_database()\n",
    "    \n",
    "    rows = collect_clubs_and_save_to_database(engine)\n",
    "    print(\"Quantidade de linhas para clubes: {}\".format(rows))\n",
    "    \n",
    "    rows = collect_matches_and_save_to_database(engine)\n",
    "    print(\"Quantidade de linhas para partidas: {}\".format(rows))\n",
    "    \n",
    "    rows = collect_scouts_and_save_to_database(engine)\n",
    "    print(\"Quantidade de linhas para scouts: {}\".format(rows))\n",
    "    \n",
    "    pre_df_matches = get_matches_dataframe(engine)\n",
    "    pre_df_scouts = get_scouts_dataframe(engine)\n",
    "    df_clubs = get_clubs_dataframe(engine)\n",
    "    \n",
    "    return pre_df_matches, pre_df_scouts, df_clubs"
   ]
  },
  {
   "cell_type": "code",
   "execution_count": 1,
   "id": "93613af7",
   "metadata": {},
   "outputs": [],
   "source": [
    "def __transforma_dataframes__(pre_df_matches, pre_df_scouts, df_clubs):\n",
    "    df_matches = aplica_transformacoes_dataframe_partidas(pre_df_matches)\n",
    "    print(medida_casa_empate_fora(df_matches))\n",
    "    \n",
    "    df_scouts = realiza_merge_entre_partidas_scouts_clube(df_matches, pre_df_scouts, df_clubs)\n",
    "    df_pontuacao = cria_dataframe_pontuacao(df_scouts)\n",
    "    \n",
    "    df_mandante_x_visitante = cria_dataframe_mandante_x_visitante(df_scouts, df_clubs)\n",
    "    df_mandante_x_visitante_cedidos_mais_conquistados = cria_dataframe_cedidos_mais_conquistados(df_mandante_x_visitante)\n",
    "    \n",
    "    df_visitante_x_mandante = cria_dataframe_visitante_x_mandante(df_scouts, df_clubs)\n",
    "    df_visitante_x_mandante_cedidos_mais_conquistados = cria_dataframe_cedidos_mais_conquistados(df_visitante_x_mandante)\n",
    "    \n",
    "    df_conquistados = cria_dataframe_pontuacao_conquistada(df_scouts, df_clubs)\n",
    "    df_cedidos = cria_dataframe_pontuacao_cedida(df_scouts, df_clubs)\n",
    "    \n",
    "    df_matches.columns = ['match_id','round','home_id','visitor_id','date','timestamp','local','valid','home_goal','visitor_goal','year','diff_goals','vencedor','datetime']\n",
    "\n",
    "    df_club_matches, df_club_matches_as_mandante, df_club_matches_as_visitor = cria_dataframe_estatisticas_gols_acumulados_por_time(df_matches, df_clubs)\n",
    "\n",
    "    df_club_matches_as_visitor.drop(['ref_id', 'ref_goals_scored_as_visitor', 'ref_goals_against_as_visitor', 'ref_as_visitor_result'], axis=1, inplace=True)\n",
    "    df_club_matches_as_visitor.columns=['match_id', 'round', 'home_id', 'visitor_id', 'local', 'valid',\\\n",
    "           'home_goal', 'visitor_goal', 'year', 'diff_goals', 'vencedor',\\\n",
    "           'datetime', 'goals_scored_as_visitor_sum',\\\n",
    "           'goals_against_as_visitor_sum', 'goals_as_visitor_diff']\n",
    "    df_club_matches_as_mandante.drop(['ref_id', 'ref_goals_scored_as_mandante', 'ref_goals_against_as_mandante', 'ref_as_mandante_result'], axis=1, inplace=True)\n",
    "    df_club_matches_as_mandante.columns=['match_id', 'round', 'home_id', 'visitor_id', 'local', 'valid',\\\n",
    "           'home_goal', 'visitor_goal', 'year', 'diff_goals', 'vencedor',\\\n",
    "           'datetime', 'goals_scored_as_mandante_sum',\\\n",
    "           'goals_against_as_mandante_sum', 'goals_as_mandante_diff']\n",
    "    df_club_matches_as_mandante_visitor = pd.merge(df_club_matches_as_mandante, df_club_matches_as_visitor, on=['match_id', 'round', 'home_id', 'visitor_id', 'local', 'valid',\\\n",
    "           'home_goal', 'visitor_goal', 'year', 'diff_goals', 'vencedor',\\\n",
    "           'datetime'], how='inner')    \n",
    "    \n",
    "    df_club_matches_home_visitor = cria_dataframe_estatisticas_gols_acumulados_mandante_visitante(df_club_matches)\n",
    "\n",
    "    ##TODO retomar daqui\n",
    "    return df_matches, df_scouts, df_pontuacao, df_mandante_x_visitante, df_mandante_x_visitante_cedidos_mais_conquistados, df_visitante_x_mandante, df_visitante_x_mandante_cedidos_mais_conquistados, df_conquistados, df_cedidos, df_club_matches, df_club_matches_home_visitor, df_club_matches_as_mandante_visitor"
   ]
  },
  {
   "cell_type": "code",
   "execution_count": 2,
   "id": "dc01a8d1",
   "metadata": {},
   "outputs": [],
   "source": [
    "def prepara_dataframes():\n",
    "    pre_df_matches, pre_df_scouts, df_clubs = __busca_datasets_banco_dados__()\n",
    "    df_matches, df_scouts, df_pontuacao, df_mandante_x_visitante, df_mandante_x_visitante_cedidos_mais_conquistados, df_visitante_x_mandante, df_visitante_x_mandante_cedidos_mais_conquistados, df_conquistados, df_cedidos, df_club_matches, df_club_matches_home_visitor, df_club_matches_as_mandante_visitor = __transforma_dataframes__(pre_df_matches, pre_df_scouts, df_clubs)\n",
    "    return df_matches, df_scouts, df_pontuacao, df_clubs, df_mandante_x_visitante, df_mandante_x_visitante_cedidos_mais_conquistados, df_visitante_x_mandante, df_visitante_x_mandante_cedidos_mais_conquistados, df_conquistados, df_cedidos, df_club_matches, df_club_matches_home_visitor, df_club_matches_as_mandante_visitor"
   ]
  },
  {
   "cell_type": "code",
   "execution_count": null,
   "id": "610f9063",
   "metadata": {},
   "outputs": [],
   "source": []
  }
 ],
 "metadata": {
  "kernelspec": {
   "display_name": "Python 3 (ipykernel)",
   "language": "python",
   "name": "python3"
  },
  "language_info": {
   "codemirror_mode": {
    "name": "ipython",
    "version": 3
   },
   "file_extension": ".py",
   "mimetype": "text/x-python",
   "name": "python",
   "nbconvert_exporter": "python",
   "pygments_lexer": "ipython3",
   "version": "3.9.7"
  }
 },
 "nbformat": 4,
 "nbformat_minor": 5
}
