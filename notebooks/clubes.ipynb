{
 "cells": [
  {
   "cell_type": "markdown",
   "id": "fe169390",
   "metadata": {},
   "source": [
    "### Notebook responsável por buscar os clubes participantes no campeonato."
   ]
  },
  {
   "cell_type": "code",
   "execution_count": 10,
   "id": "9643d481",
   "metadata": {},
   "outputs": [],
   "source": [
    "import datetime\n",
    "import requests\n",
    "import json\n",
    "import pandas as pd"
   ]
  },
  {
   "cell_type": "code",
   "execution_count": 1,
   "id": "51bb6380",
   "metadata": {},
   "outputs": [],
   "source": [
    "%run ./database.ipynb\n",
    "%run ./partidas.ipynb"
   ]
  },
  {
   "cell_type": "code",
   "execution_count": 4,
   "id": "6456ae3b",
   "metadata": {},
   "outputs": [],
   "source": [
    "def get_clubs_from_cartola_api():\n",
    "    clubs_page = requests.get('https://api.cartolafc.globo.com/partidas')\n",
    "    return json.loads(clubs_page.content)"
   ]
  },
  {
   "cell_type": "code",
   "execution_count": 5,
   "id": "ad0b0945",
   "metadata": {},
   "outputs": [],
   "source": [
    "def extract_clubs_from_json(clubs_json):\n",
    "    CHAMPIONSHIP_CLUBS = 20\n",
    "    clubs_dict = clubs_json['clubes']\n",
    "    if (len(clubs_dict) != CHAMPIONSHIP_CLUBS):\n",
    "        raise Exception('wrong_number','O campeonato deveria ter 20 times!')\n",
    "        \n",
    "    return clubs_dict"
   ]
  },
  {
   "cell_type": "code",
   "execution_count": 6,
   "id": "31187012",
   "metadata": {},
   "outputs": [],
   "source": [
    "def create_clubs_dataframe(clubs_dict):\n",
    "    clubs = []\n",
    "    year = datetime.date.today().year\n",
    "\n",
    "    for id in clubs_dict:\n",
    "        club = {'id': clubs_dict[id]['id'],\n",
    "                'name': clubs_dict[id]['nome'],\n",
    "                'initials': clubs_dict[id]['abreviacao'],\n",
    "                'year': year\n",
    "               }\n",
    "        clubs.append(club)\n",
    "    \n",
    "    return pd.DataFrame(clubs)"
   ]
  },
  {
   "cell_type": "code",
   "execution_count": 11,
   "id": "5243b024",
   "metadata": {},
   "outputs": [],
   "source": [
    "def collect_clubs_and_save_to_database(engine):\n",
    "    clubs_json = get_clubs_from_cartola_api()\n",
    "    clubs_dict = extract_clubs_from_json(clubs_json)\n",
    "    df_clubs = create_clubs_dataframe(clubs_dict)\n",
    "    save_data(engine, 'club', df_clubs)\n",
    "    return count_data(engine, 'club').fetchall()"
   ]
  }
 ],
 "metadata": {
  "kernelspec": {
   "display_name": "Python 3",
   "language": "python",
   "name": "python3"
  },
  "language_info": {
   "codemirror_mode": {
    "name": "ipython",
    "version": 3
   },
   "file_extension": ".py",
   "mimetype": "text/x-python",
   "name": "python",
   "nbconvert_exporter": "python",
   "pygments_lexer": "ipython3",
   "version": "3.9.6"
  }
 },
 "nbformat": 4,
 "nbformat_minor": 5
}
