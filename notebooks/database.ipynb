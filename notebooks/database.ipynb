{
 "cells": [
  {
   "cell_type": "markdown",
   "id": "aa5c4d06",
   "metadata": {},
   "source": [
    "### Notebook responsável por gerenciar as operações com o banco de dados"
   ]
  },
  {
   "cell_type": "code",
   "execution_count": 9,
   "id": "20919538",
   "metadata": {},
   "outputs": [],
   "source": [
    "import datetime\n",
    "from sqlalchemy import create_engine"
   ]
  },
  {
   "cell_type": "code",
   "execution_count": 10,
   "id": "4900e007",
   "metadata": {},
   "outputs": [],
   "source": [
    "user='postgres'\n",
    "passwd='postgres'\n",
    "host='postgresql'\n",
    "port='5432'\n",
    "db='cartola'\n",
    "url = 'postgresql://{user}:{passwd}@{host}:{port}/{db}'.format(user=user, passwd=passwd, host=host, port=port, db=db)"
   ]
  },
  {
   "cell_type": "code",
   "execution_count": 11,
   "id": "00207932",
   "metadata": {},
   "outputs": [],
   "source": [
    "def create_database_session():\n",
    "    engine = create_engine(url)\n",
    "    return engine"
   ]
  },
  {
   "cell_type": "code",
   "execution_count": 13,
   "id": "85bed3be",
   "metadata": {},
   "outputs": [],
   "source": [
    "def create_table_if_not_exists(engine):\n",
    "    engine.execute('''\n",
    "        CREATE TABLE IF NOT EXISTS match (\n",
    "            match_id integer, \n",
    "            turn smallint,\n",
    "            home_id smallint,\n",
    "            visitor_id smallint,\n",
    "            date varchar(20),\n",
    "            timestamp bigint,\n",
    "            local varchar(80),\n",
    "            valid boolean,\n",
    "            home_goal smallint,\n",
    "            visitor_goal smallint,\n",
    "            year smallint\n",
    "        )'''\n",
    "    )"
   ]
  },
  {
   "cell_type": "code",
   "execution_count": 24,
   "id": "6fca0c29",
   "metadata": {},
   "outputs": [],
   "source": [
    "def alter_table_if_column_year_not_exists(engine):\n",
    "    engine.execute('ALTER TABLE match ADD COLUMN IF NOT EXISTS year INTEGER NOT NULL DEFAULT 2021')"
   ]
  },
  {
   "cell_type": "code",
   "execution_count": null,
   "id": "09493d3d",
   "metadata": {},
   "outputs": [],
   "source": [
    "def erase_data(engine):\n",
    "    year = datetime.date.today().year\n",
    "    engine.execute('delete from match where year = {}'.format(year))"
   ]
  },
  {
   "cell_type": "code",
   "execution_count": 33,
   "id": "4ac95a27",
   "metadata": {},
   "outputs": [],
   "source": [
    "def save_data(engine, table_name, dataframe):\n",
    "    dataframe.to_sql(table_name, con=engine, index=False, if_exists='replace')"
   ]
  },
  {
   "cell_type": "code",
   "execution_count": 16,
   "id": "3b663400",
   "metadata": {},
   "outputs": [],
   "source": [
    "def count_data(engine):\n",
    "    return engine.execute('SELECT count(*) FROM match')"
   ]
  },
  {
   "cell_type": "code",
   "execution_count": 28,
   "id": "7ddd4e66",
   "metadata": {},
   "outputs": [],
   "source": [
    "def start_database():\n",
    "    engine = create_database_session()\n",
    "    create_table_if_not_exists(engine)\n",
    "    alter_table_if_column_year_not_exists(engine)\n",
    "    erase_data(engine)\n",
    "    return engine"
   ]
  }
 ],
 "metadata": {
  "kernelspec": {
   "display_name": "Python 3",
   "language": "python",
   "name": "python3"
  },
  "language_info": {
   "codemirror_mode": {
    "name": "ipython",
    "version": 3
   },
   "file_extension": ".py",
   "mimetype": "text/x-python",
   "name": "python",
   "nbconvert_exporter": "python",
   "pygments_lexer": "ipython3",
   "version": "3.9.6"
  }
 },
 "nbformat": 4,
 "nbformat_minor": 5
}
