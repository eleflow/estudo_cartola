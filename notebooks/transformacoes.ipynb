{
 "cells": [
  {
   "cell_type": "markdown",
   "id": "243130eb",
   "metadata": {},
   "source": [
    "### Notebook responsável por concentrar os métodos de transformações para as análises"
   ]
  },
  {
   "cell_type": "code",
   "execution_count": 1,
   "id": "c83031dc",
   "metadata": {},
   "outputs": [],
   "source": [
    "import pandas as pd"
   ]
  },
  {
   "cell_type": "code",
   "execution_count": null,
   "id": "833f31f5",
   "metadata": {},
   "outputs": [],
   "source": [
    "%run ./partidas.ipynb"
   ]
  },
  {
   "cell_type": "code",
   "execution_count": 2,
   "id": "77a41b40",
   "metadata": {},
   "outputs": [],
   "source": [
    "def vencedor(diff):\n",
    "    if diff > 0:\n",
    "        return 'CASA'\n",
    "    elif diff == 0:\n",
    "        return 'EMPATE'\n",
    "    else:\n",
    "        return 'VISITANTE'"
   ]
  },
  {
   "cell_type": "code",
   "execution_count": 3,
   "id": "3a629208",
   "metadata": {},
   "outputs": [],
   "source": [
    "def is_home(home_id, id_club):\n",
    "    if home_id == id_club:\n",
    "        return 1\n",
    "    else:\n",
    "        return 0"
   ]
  },
  {
   "cell_type": "code",
   "execution_count": 4,
   "id": "09b3a556",
   "metadata": {},
   "outputs": [],
   "source": [
    "def time_adversario(time_casa, time_visitante,time):\n",
    "    if time == time_casa:\n",
    "        return time_visitante\n",
    "    else:\n",
    "        return time_casa"
   ]
  },
  {
   "cell_type": "code",
   "execution_count": 5,
   "id": "9aaf367a",
   "metadata": {},
   "outputs": [],
   "source": [
    "def aplica_transformacoes_dataframe_partidas(df_match):\n",
    "    df_match['diff_goals'] = df_match['home_goal'] - df_match['visitor_goal']\n",
    "    df_match['vencedor'] = df_match['diff_goals'].map(vencedor)\n",
    "    df_match['datetime'] = pd.to_datetime(df_match['date'])\n",
    "    return df_match"
   ]
  },
  {
   "cell_type": "code",
   "execution_count": 6,
   "id": "6bfa5063",
   "metadata": {},
   "outputs": [],
   "source": [
    "def medida_casa_empate_fora(df_match):\n",
    "    numero_jogos = len(df_match)\n",
    "    vencedor_casa = len(df_match[df_match['vencedor']=='CASA'])\n",
    "    empate = len(df_match[df_match['vencedor']=='EMPATE'])\n",
    "    vencedor_fora = len(df_match[df_match['vencedor']=='VISITANTE'])\n",
    "    print(f\"\"\"\n",
    "        \"Percentual de vitoria CASA:\" {vencedor_casa/numero_jogos},\n",
    "        \"Percentual de EMPATE:\" {empate/numero_jogos},\n",
    "        \"Percentual de vitoria FORA:\" {vencedor_fora/numero_jogos}\n",
    "        \"\"\"\n",
    "    )"
   ]
  },
  {
   "cell_type": "code",
   "execution_count": 7,
   "id": "b663d246",
   "metadata": {},
   "outputs": [],
   "source": [
    "def __adiciona_coluna_visitor_partida__(df_match, df_scouts):\n",
    "    df_match.columns = ['match_id', 'round', 'id_club', 'visitor_id', 'date', 'timestamp', 'local', 'valid', 'home_goal', 'visitor_goal', 'year', 'diff_goals', 'vencedor', 'datetime']\n",
    "    df_scouts = pd.merge(df_scouts, df_match, how = 'left', on = ['round', 'id_club'])\n",
    "    return df_scouts"
   ]
  },
  {
   "cell_type": "code",
   "execution_count": 8,
   "id": "1002a6cd",
   "metadata": {},
   "outputs": [],
   "source": [
    "def __adiciona_coluna_home_partida__(df_match, df_scouts):\n",
    "    df_match.columns = ['match_id', 'round', 'home_id', 'id_club', 'date', 'timestamp', 'local', 'valid', 'home_goal', 'visitor_goal', 'year', 'diff_goals', 'vencedor', 'datetime']\n",
    "    df_scouts = pd.merge(df_scouts, df_match, how='left', on=['round', 'id_club'])\n",
    "    return df_scouts"
   ]
  },
  {
   "cell_type": "code",
   "execution_count": 9,
   "id": "64511929",
   "metadata": {},
   "outputs": [],
   "source": [
    "def __organizacao_colunas_apos_criacao_visitor_home__(df_scouts):\n",
    "    df_scouts.head()\n",
    "    df_scouts['home_id'].fillna(df_scouts['id_club'], inplace= True)\n",
    "    df_scouts['visitor_id'].fillna(df_scouts['id_club'], inplace= True)\n",
    "    df_scouts['home_goal_x'].fillna(df_scouts['home_goal_y'], inplace= True)\n",
    "    df_scouts['visitor_goal_x'].fillna(df_scouts['visitor_goal_y'], inplace= True)\n",
    "    df_scouts['home_goal'] = df_scouts['home_goal_x']\n",
    "    df_scouts['visitor_goal'] = df_scouts['visitor_goal_x'] \n",
    "    df_scouts = df_scouts[['player_name', 'points', 'id_position', 'id_club', 'has_played',\\\n",
    "           'id_player', 'scout_fc', 'scout_fs', 'scout_pi', 'scout_ff', 'scout_a',\\\n",
    "           'scout_ds', 'scout_de', 'scout_gs', 'scout_fd', 'scout_sg', 'scout_ca',\\\n",
    "           'scout_ft', 'scout_g', 'scout_pc', 'scout_ps', 'scout_pp', 'scout_i',\\\n",
    "           'scout_dp', 'scout_gc', 'scout_cv', 'round', 'visitor_id',\\\n",
    "           'home_id','home_goal', 'visitor_goal']]\n",
    "    \n",
    "    return df_scouts"
   ]
  },
  {
   "cell_type": "code",
   "execution_count": 10,
   "id": "ea4452b7",
   "metadata": {},
   "outputs": [],
   "source": [
    "def __adiciona_coluna_casa__(df_scouts):\n",
    "    df_scouts['CASA'] = df_scouts.apply(lambda row : is_home(row['home_id'], row['id_club']), axis = 1)\n",
    "    return df_scouts"
   ]
  },
  {
   "cell_type": "code",
   "execution_count": 11,
   "id": "3f3bc69b",
   "metadata": {},
   "outputs": [],
   "source": [
    "def __adiciona_coluna_home_clube__(df_scouts, df_club):\n",
    "    df_club = df_club[['id', 'name']]\n",
    "    df_club.columns = ['home_id', 'time_casa']\n",
    "    df_scouts = pd.merge(df_scouts, df_club, how='left', on=['home_id'])\n",
    "    return df_scouts"
   ]
  },
  {
   "cell_type": "code",
   "execution_count": 12,
   "id": "c4a1ed3c",
   "metadata": {},
   "outputs": [],
   "source": [
    "def __adiciona_coluna_visitor_clube__(df_scouts, df_club):\n",
    "    df_club = df_club[['id', 'name']]\n",
    "    df_club.columns = ['visitor_id', 'time_visitante']\n",
    "    df_scouts = pd.merge(df_scouts, df_club, how='left', on=['visitor_id'])\n",
    "    df_club.columns = ['id_club', 'time']\n",
    "    df_scouts = pd.merge(df_scouts, df_club, how='left', on=['id_club'])\n",
    "    return df_scouts"
   ]
  },
  {
   "cell_type": "code",
   "execution_count": 13,
   "id": "25f9c587",
   "metadata": {},
   "outputs": [],
   "source": [
    "def __adiciona_coluna_adversario__(df_scouts):\n",
    "    df_scouts['adversario'] = df_scouts.apply(lambda row : time_adversario(row['time_casa'], row['time_visitante'], row['time']), axis = 1)\n",
    "    return df_scouts"
   ]
  },
  {
   "cell_type": "code",
   "execution_count": null,
   "id": "c1593ff1",
   "metadata": {},
   "outputs": [],
   "source": [
    "def __proximas_partidas__():\n",
    "    next_matches = []\n",
    "    year = datetime.date.today().year\n",
    "    last_turn = request_last_turn_from_cartola_api()\n",
    "    turn_page = requests.get(f'https://api.cartolafc.globo.com/partidas/{last_turn}')\n",
    "    turn_json = json.loads(turn_page.content)\n",
    "    turn_matches = turn_json['partidas']\n",
    "    for match_data in turn_matches:\n",
    "        match = {\n",
    "            'match_id': match_data['partida_id'],\n",
    "            'turn': last_turn,\n",
    "            'home_id': match_data['clube_casa_id'],\n",
    "            'visitor_id': match_data['clube_visitante_id'],\n",
    "            'date': match_data['partida_data'],\n",
    "            'timestamp': match_data['timestamp'],\n",
    "            'local': match_data['local'],\n",
    "            'valid': match_data['valida'],\n",
    "            'home_goal': match_data['placar_oficial_mandante'],\n",
    "            'visitor_goal': match_data['placar_oficial_visitante'],\n",
    "            'year': year\n",
    "\n",
    "        }\n",
    "        next_matches.append(match)\n",
    "    \n",
    "    df_next_matches = pd.DataFrame(next_matches)\n",
    "    return df_next_matches"
   ]
  },
  {
   "cell_type": "code",
   "execution_count": null,
   "id": "fac04aad",
   "metadata": {},
   "outputs": [],
   "source": [
    "def __adiciona_clubes_nas_proximas_partidas__(df_next_matches, df_club):\n",
    "    df_club_aux = df_club[['id', 'name']]\n",
    "    df_club_aux.columns = ['home_id', 'mandante']\n",
    "    df_next_matches = pd.merge(df_next_matches, df_club_aux, how='left', on=['home_id'])\n",
    "\n",
    "    df_club_aux.columns = ['visitor_id', 'visitante']\n",
    "    df_next_matches = pd.merge(df_next_matches, df_club_aux, how='left', on=['visitor_id'])\n",
    "    return df_next_matches"
   ]
  },
  {
   "cell_type": "code",
   "execution_count": null,
   "id": "b8264c96",
   "metadata": {},
   "outputs": [],
   "source": [
    "def cria_dataframe_cedidos_mais_conquistados(df):\n",
    "    df['cedidos_mais_conquistados'] = df['pontos_cedidos'] + df['pontos_conquistados']\n",
    "    return df"
   ]
  },
  {
   "cell_type": "code",
   "execution_count": null,
   "id": "2bc555d0",
   "metadata": {},
   "outputs": [],
   "source": [
    "def __cria_dataframe_pontuacao_conquistada_por_time_posicao_agrupado__(df_scouts):\n",
    "    df_scouts_played = cria_dataframe_scouts_played(df_scouts)\n",
    "    df_pontuacao_conquistada_por_time_posicao_agrupado = df_scouts_played.groupby(['time', 'id_position']).agg({'points':'sum'}).reset_index()\n",
    "    df_pontuacao_conquistada_por_time_posicao_agrupado.columns = ['time','id_position', 'pontos_conquistados']\n",
    "    return df_pontuacao_conquistada_por_time_posicao_agrupado"
   ]
  },
  {
   "cell_type": "code",
   "execution_count": null,
   "id": "9d7f3c80",
   "metadata": {},
   "outputs": [],
   "source": [
    "def __cria_dataframe_pontuacao_cedida_por_time_posicao_agrupado__(df_scouts):\n",
    "    df_scouts_played = cria_dataframe_scouts_played(df_scouts)\n",
    "    df_pontuacao_cedida_por_time_posicao_agrupado = df_scouts_played.groupby(['adversario', 'id_position']).agg({'points':'sum'}).reset_index()\n",
    "    df_pontuacao_cedida_por_time_posicao_agrupado.columns = ['time','id_position', 'pontos_cedidos']\n",
    "    return df_pontuacao_cedida_por_time_posicao_agrupado"
   ]
  },
  {
   "cell_type": "code",
   "execution_count": null,
   "id": "3fd859b6",
   "metadata": {},
   "outputs": [],
   "source": [
    "def __cria_dataframe_pontuacao_conquistada_por_time_posicao_mando_agrupado__(df_scouts):\n",
    "    df_scouts_played = cria_dataframe_scouts_played(df_scouts)\n",
    "    df_pontuacao_conquistada_por_time_posicao_mando_agrupado = df_scouts_played.groupby(['time', 'id_position', 'CASA']).agg({'points':'sum'}).reset_index()\n",
    "    df_pontuacao_conquistada_por_time_posicao_mando_agrupado.columns = ['time','id_position', 'CASA','pontos_conquistados']\n",
    "    return df_pontuacao_conquistada_por_time_posicao_mando_agrupado"
   ]
  },
  {
   "cell_type": "code",
   "execution_count": null,
   "id": "ba8e950a",
   "metadata": {},
   "outputs": [],
   "source": [
    "def __cria_dataframe_pontuacao_cedida_por_time_posicao_mando_agrupado__(df_scouts):\n",
    "    df_scouts_played = cria_dataframe_scouts_played(df_scouts)\n",
    "    df_pontuacao_cedida_por_time_posicao_mando_agrupado = df_scouts_played.groupby(['adversario', 'id_position', 'CASA']).agg({'points':'sum'}).reset_index()\n",
    "    df_pontuacao_cedida_por_time_posicao_mando_agrupado.columns = ['time','id_position', 'CASA','pontos_cedidos']\n",
    "    return df_pontuacao_cedida_por_time_posicao_mando_agrupado"
   ]
  },
  {
   "cell_type": "code",
   "execution_count": null,
   "id": "817de1f9",
   "metadata": {},
   "outputs": [],
   "source": [
    "def cria_dataframe_pontuacao_conquistada_mandante_x_visitante(df_scouts, df_next_matches_com_clubes):\n",
    "    df_mandante_x_visitante = pd.DataFrame()\n",
    "\n",
    "    for index, row in df_next_matches_com_clubes.iterrows():\n",
    "        time_mandante = row['mandante']\n",
    "        time_visitante = row['visitante']\n",
    "        df_pontuacao_conquistada_por_time_posicao_agrupado = __cria_dataframe_pontuacao_conquistada_por_time_posicao_agrupado__(df_scouts)\n",
    "        df_pontuacao_conquistada_por_time_posicao_agrupado_aux = df_pontuacao_conquistada_por_time_posicao_agrupado[df_pontuacao_conquistada_por_time_posicao_agrupado['time']==time_mandante]\n",
    "        df_pontuacao_conquistada_por_time_posicao_agrupado_aux.columns = ['mandante', 'id_position', 'pontos_conquistados']\n",
    "\n",
    "        df_pontuacao_cedida_por_time_posicao_agrupado = __cria_dataframe_pontuacao_cedida_por_time_posicao_agrupado__(df_scouts)\n",
    "        df_pontuacao_cedida_por_time_posicao_agrupado_aux = df_pontuacao_cedida_por_time_posicao_agrupado[df_pontuacao_cedida_por_time_posicao_agrupado['time']==time_visitante]\n",
    "        df_pontuacao_cedida_por_time_posicao_agrupado_aux.columns = ['visitante', 'id_position', 'pontos_cedidos']\n",
    "\n",
    "        df_cedidos_vs_conquistados_por_time_posicao_agrupado = pd.merge(df_pontuacao_conquistada_por_time_posicao_agrupado_aux,df_pontuacao_cedida_por_time_posicao_agrupado_aux, on=['id_position'], how='left')\n",
    "\n",
    "        df_mandante_x_visitante = df_mandante_x_visitante.append(df_cedidos_vs_conquistados_por_time_posicao_agrupado, ignore_index = True)\n",
    "    \n",
    "    return df_mandante_x_visitante"
   ]
  },
  {
   "cell_type": "code",
   "execution_count": null,
   "id": "edd7dd6f",
   "metadata": {},
   "outputs": [],
   "source": [
    "def cria_dataframe_pontuacao_conquistada_visitante_x_mandante(df_scouts, df_next_matches_com_clubes):\n",
    "    df_visitante_x_mandante = pd.DataFrame()\n",
    "\n",
    "    for index, row in df_next_matches_com_clubes.iterrows():\n",
    "        time_mandante = row['mandante']\n",
    "        time_visitante = row['visitante']\n",
    "\n",
    "        df_pontuacao_conquistada_por_time_posicao_agrupado = __cria_dataframe_pontuacao_conquistada_por_time_posicao_agrupado__(df_scouts)\n",
    "        df_pontuacao_conquistada_por_time_posicao_agrupado_aux = df_pontuacao_conquistada_por_time_posicao_agrupado[df_pontuacao_conquistada_por_time_posicao_agrupado['time']==time_visitante]\n",
    "        df_pontuacao_conquistada_por_time_posicao_agrupado_aux.columns = ['visitante', 'id_position', 'pontos_conquistados']\n",
    "\n",
    "        df_pontuacao_cedida_por_time_posicao_agrupado = __cria_dataframe_pontuacao_cedida_por_time_posicao_agrupado__(df_scouts)\n",
    "        df_pontuacao_cedida_por_time_posicao_agrupado_aux = df_pontuacao_cedida_por_time_posicao_agrupado[df_pontuacao_cedida_por_time_posicao_agrupado['time']==time_mandante]\n",
    "        df_pontuacao_cedida_por_time_posicao_agrupado_aux.columns = ['mandante', 'id_position', 'pontos_cedidos']\n",
    "\n",
    "        df_cedidos_vs_conquistados_por_time_posicao_agrupado = pd.merge(df_pontuacao_conquistada_por_time_posicao_agrupado_aux,df_pontuacao_cedida_por_time_posicao_agrupado_aux, on=['id_position'], how='left')\n",
    "\n",
    "        df_visitante_x_mandante = df_visitante_x_mandante.append(df_cedidos_vs_conquistados_por_time_posicao_agrupado, ignore_index = True)\n",
    "    \n",
    "    return df_visitante_x_mandante"
   ]
  },
  {
   "cell_type": "code",
   "execution_count": null,
   "id": "521b1d86",
   "metadata": {},
   "outputs": [],
   "source": [
    "def cria_dataframe_pontuacao_conquistada_por_time_posicao_mando_agrupado(df_scouts, df_next_matches_com_clubes):\n",
    "\n",
    "    df_pontuacao_conquistada = pd.DataFrame()\n",
    "\n",
    "    for index, row in df_next_matches_com_clubes.iterrows():\n",
    "        time_mandante = row['mandante']\n",
    "        time_visitante = row['visitante']\n",
    "        \n",
    "        df_pontuacao_conquistada_por_time_posicao_mando_agrupado = __cria_dataframe_pontuacao_conquistada_por_time_posicao_mando_agrupado__(df_scouts)\n",
    "        df_pontuacao_conquistada_por_time_posicao_mando_agrupado_aux = df_pontuacao_conquistada_por_time_posicao_mando_agrupado[(df_pontuacao_conquistada_por_time_posicao_mando_agrupado['time']==time_mandante) & (df_pontuacao_conquistada_por_time_posicao_mando_agrupado['CASA']==1)][['time','id_position','pontos_conquistados']]\n",
    "        df_pontuacao_conquistada_por_time_posicao_mando_agrupado_aux.columns = ['mandante', 'id_position', 'pontos_conquistados']\n",
    "\n",
    "        df_pontuacao_cedida_por_time_posicao_mando_agrupado = __cria_dataframe_pontuacao_cedida_por_time_posicao_mando_agrupado__(df_scouts)\n",
    "        df_pontuacao_cedida_por_time_mando_posicao_agrupado_aux = df_pontuacao_cedida_por_time_posicao_mando_agrupado[(df_pontuacao_cedida_por_time_posicao_mando_agrupado['time']==time_visitante) & (df_pontuacao_cedida_por_time_posicao_mando_agrupado['CASA']==1)][['time','id_position','pontos_cedidos']]\n",
    "        df_pontuacao_cedida_por_time_mando_posicao_agrupado_aux.columns = ['visitante', 'id_position', 'pontos_cedidos']\n",
    "\n",
    "        df_cedidos_vs_conquistados_por_time_posicao_mando_agrupado = pd.merge(df_pontuacao_conquistada_por_time_posicao_mando_agrupado_aux,df_pontuacao_cedida_por_time_mando_posicao_agrupado_aux, on=['id_position'], how='left')\n",
    "\n",
    "        df_pontuacao_conquistada = df_pontuacao_conquistada.append(df_cedidos_vs_conquistados_por_time_posicao_mando_agrupado, ignore_index = True)    \n",
    "        \n",
    "    return df_pontuacao_conquistada"
   ]
  },
  {
   "cell_type": "code",
   "execution_count": null,
   "id": "208b424d",
   "metadata": {},
   "outputs": [],
   "source": [
    "def cria_dataframe_pontuacao_cedida_por_time_mando_posicao_agrupado(df_scouts, df_next_matches_com_clubes):\n",
    "\n",
    "    df_pontuacao_cedida = pd.DataFrame()\n",
    "\n",
    "    for index, row in df_next_matches_com_clubes.iterrows():\n",
    "        time_mandante = row['mandante']\n",
    "        time_visitante = row['visitante']\n",
    "\n",
    "        df_pontuacao_conquistada_por_time_posicao_mando_agrupado = __cria_dataframe_pontuacao_conquistada_por_time_posicao_mando_agrupado__(df_scouts)\n",
    "        df_pontuacao_conquistada_por_time_posicao_mando_agrupado_aux = df_pontuacao_conquistada_por_time_posicao_mando_agrupado[(df_pontuacao_conquistada_por_time_posicao_mando_agrupado['time']==time_visitante)  & (df_pontuacao_conquistada_por_time_posicao_mando_agrupado['CASA']==0)][['time','id_position','pontos_conquistados']]\n",
    "        df_pontuacao_conquistada_por_time_posicao_mando_agrupado_aux.columns = ['visitante', 'id_position', 'pontos_conquistados']\n",
    "\n",
    "        df_pontuacao_cedida_por_time_posicao_mando_agrupado = __cria_dataframe_pontuacao_cedida_por_time_posicao_mando_agrupado__(df_scouts)\n",
    "        df_pontuacao_cedida_por_time_mando_posicao_agrupado_aux = df_pontuacao_cedida_por_time_posicao_mando_agrupado[(df_pontuacao_cedida_por_time_posicao_mando_agrupado['time']==time_mandante) & (df_pontuacao_cedida_por_time_posicao_mando_agrupado['CASA']==0)][['time','id_position','pontos_cedidos']]\n",
    "        df_pontuacao_cedida_por_time_mando_posicao_agrupado_aux.columns = ['mandante', 'id_position', 'pontos_cedidos']\n",
    "\n",
    "        df_cedidos_vs_conquistados_por_time_posicao_mando_agrupado = pd.merge(df_pontuacao_conquistada_por_time_posicao_mando_agrupado_aux,df_pontuacao_cedida_por_time_mando_posicao_agrupado_aux, on=['id_position'], how='left')\n",
    "\n",
    "        df_pontuacao_cedida = df_pontuacao_cedida.append(df_cedidos_vs_conquistados_por_time_posicao_mando_agrupado, ignore_index = True)\n",
    "    \n",
    "    return df_pontuacao_cedida"
   ]
  },
  {
   "cell_type": "code",
   "execution_count": 14,
   "id": "4cb33b4d",
   "metadata": {},
   "outputs": [],
   "source": [
    "def realiza_merge_entre_partidas_scouts_clube(df_match, df_scouts, df_club):\n",
    "    df_scouts = __adiciona_coluna_visitor_partida__(df_match, df_scouts)\n",
    "    df_scouts = __adiciona_coluna_home_partida__(df_match, df_scouts)\n",
    "    df_scouts = __organizacao_colunas_apos_criacao_visitor_home__(df_scouts)\n",
    "    df_scouts = __adiciona_coluna_casa__(df_scouts)\n",
    "    df_scouts = __adiciona_coluna_home_clube__(df_scouts, df_club)\n",
    "    df_scouts = __adiciona_coluna_visitor_clube__(df_scouts, df_club)\n",
    "    df_scouts = __adiciona_coluna_adversario__(df_scouts)\n",
    "    return df_scouts"
   ]
  },
  {
   "cell_type": "code",
   "execution_count": 15,
   "id": "b2463487",
   "metadata": {},
   "outputs": [],
   "source": [
    "def cria_dataframe_pontuacao(df_scouts):\n",
    "    df_pontuacao_casa = df_scouts[df_scouts['CASA']==1].groupby(['id_player','time', 'player_name', 'id_club', 'id_position']).agg({'points':'sum', 'has_played':'sum'}).reset_index()\n",
    "    df_pontuacao_fora = df_scouts[df_scouts['CASA']==0].groupby(['id_player', 'player_name', 'id_club', 'id_position']).agg({'points':'sum', 'has_played':'sum'}).reset_index()\n",
    "    df_pontuacao_casa.columns=['id_player','time','player_name', 'id_club', 'id_position', 'points_casa', 'has_played_casa']\n",
    "    df_pontuacao_fora.columns=['id_player','player_name', 'id_club', 'id_position', 'points_fora', 'has_played_fora']\n",
    "    df_pontuacao = pd.merge(df_pontuacao_casa, df_pontuacao_fora, how='outer', on=['id_player','player_name','id_club','id_position'])\n",
    "    df_pontuacao.fillna(0, inplace=True)\n",
    "    df_pontuacao['total_pontos']=df_pontuacao['points_fora']+df_pontuacao['points_casa']\n",
    "    df_pontuacao['total_jogos']=df_pontuacao['has_played_casa']+df_pontuacao['has_played_fora']\n",
    "    return df_pontuacao"
   ]
  },
  {
   "cell_type": "code",
   "execution_count": null,
   "id": "2d0b94f6",
   "metadata": {},
   "outputs": [],
   "source": [
    "def cria_dataframe_mandante_x_visitante(df_scouts, df_club):\n",
    "    df_next_matches = __proximas_partidas__()\n",
    "    df_next_matches_com_clubes = __adiciona_clubes_nas_proximas_partidas__(df_next_matches, df_club)\n",
    "    df_mandante_x_visitante = cria_dataframe_pontuacao_conquistada_mandante_x_visitante(df_scouts, df_next_matches_com_clubes)\n",
    "    return df_mandante_x_visitante"
   ]
  },
  {
   "cell_type": "code",
   "execution_count": null,
   "id": "4376d427",
   "metadata": {},
   "outputs": [],
   "source": [
    "def cria_dataframe_visitante_x_mandante(df_scouts, df_club):\n",
    "    df_next_matches = __proximas_partidas__()\n",
    "    df_next_matches_com_clubes = __adiciona_clubes_nas_proximas_partidas__(df_next_matches, df_club)\n",
    "    df_visitante_x_mandante = cria_dataframe_pontuacao_conquistada_visitante_x_mandante(df_scouts, df_next_matches_com_clubes)\n",
    "    return df_visitante_x_mandante"
   ]
  },
  {
   "cell_type": "code",
   "execution_count": null,
   "id": "a90b4d09",
   "metadata": {},
   "outputs": [],
   "source": [
    "def cria_dataframe_pontuacao_conquistada(df_scouts, df_club):\n",
    "    df_next_matches = __proximas_partidas__()\n",
    "    df_next_matches_com_clubes = __adiciona_clubes_nas_proximas_partidas__(df_next_matches, df_club)\n",
    "    df_conquistados = cria_dataframe_pontuacao_conquistada_por_time_posicao_mando_agrupado(df_scouts, df_next_matches_com_clubes)\n",
    "    df_conquistados['cedidos_mais_conquistados'] = df_conquistados['pontos_cedidos']+ df_conquistados['pontos_conquistados']\n",
    "    return df_conquistados"
   ]
  },
  {
   "cell_type": "code",
   "execution_count": null,
   "id": "2417294a",
   "metadata": {},
   "outputs": [],
   "source": [
    "def cria_dataframe_pontuacao_cedida(df_scouts, df_club):\n",
    "    df_next_matches = __proximas_partidas__()\n",
    "    df_next_matches_com_clubes = __adiciona_clubes_nas_proximas_partidas__(df_next_matches, df_club)\n",
    "    df_cedidos = cria_dataframe_pontuacao_cedida_por_time_mando_posicao_agrupado(df_scouts, df_next_matches_com_clubes)\n",
    "    df_cedidos['cedidos_mais_conquistados'] = df_cedidos['pontos_cedidos'] + df_cedidos['pontos_conquistados']\n",
    "    return df_cedidos"
   ]
  },
  {
   "cell_type": "code",
   "execution_count": null,
   "id": "32547782",
   "metadata": {},
   "outputs": [],
   "source": [
    "def cria_dataframe_scouts_played(df_scouts):\n",
    "    return df_scouts[df_scouts['has_played'] == True]"
   ]
  },
  {
   "cell_type": "code",
   "execution_count": null,
   "id": "831b6225",
   "metadata": {},
   "outputs": [],
   "source": [
    "def cria_dataframe_pontuacao_por_adversario_agrupado(df_scouts):\n",
    "    df_scouts_played = cria_dataframe_scouts_played(df_scouts)\n",
    "    df_pontuacao_por_adversario_agrupado = df_scouts_played.groupby(['adversario']).agg({'points':'sum'}).reset_index()\n",
    "    return df_pontuacao_por_adversario_agrupado"
   ]
  },
  {
   "cell_type": "code",
   "execution_count": null,
   "id": "0ae67ae9",
   "metadata": {},
   "outputs": [],
   "source": [
    "def cria_dataframe_pontuacao_por_time_agrupado(df_scouts):\n",
    "    df_scouts_played = cria_dataframe_scouts_played(df_scouts)\n",
    "    df_pontuacao_por_time_agrupado = df_scouts_played.groupby(['time']).agg({'points':'sum'}).reset_index()\n",
    "    return df_pontuacao_por_time_agrupado"
   ]
  },
  {
   "cell_type": "code",
   "execution_count": null,
   "id": "77625801",
   "metadata": {},
   "outputs": [],
   "source": [
    "def cria_dataframe_estatisticas_acumuladas_por_time(df_matches):\n",
    "    df_match2 = df_match.sort_values(by='date', ascending=True)\n",
    "    df_match2['home_id_match_number'] = df_match2.sort_values(['date'], ascending=True)\\\n",
    "             .groupby(['home_id'])\\\n",
    "             .cumcount() + 1\n",
    "    df_match2['home_id_goals_sum'] = df_match2.sort_values(['date'], ascending=True)\\\n",
    "             .groupby(['home_id'])['home_goal']\\\n",
    "             .cumsum()\n",
    "    df_match2['visitor_id_goals_sum'] = df_match2.sort_values(['date'], ascending=True)\\\n",
    "             .groupby(['home_id'])['visitor_goal']\\\n",
    "             .cumsum()\n",
    "    return df_match2"
   ]
  },
  {
   "cell_type": "code",
   "execution_count": null,
   "id": "99a9a083",
   "metadata": {},
   "outputs": [],
   "source": [
    "def __goals_scored__(home_id, ref_id,home_goal, visitor_goal):\n",
    "    if home_id == ref_id:\n",
    "        return home_goal\n",
    "    else:\n",
    "        return visitor_goal\n",
    "\n",
    "def __goals_against__(home_id, ref_id,home_goal, visitor_goal):\n",
    "    if home_id == ref_id:\n",
    "        return visitor_goal\n",
    "    else:\n",
    "        return home_goal"
   ]
  },
  {
   "cell_type": "code",
   "execution_count": null,
   "id": "5a71f5b9",
   "metadata": {},
   "outputs": [],
   "source": [
    "def __cria_dataframe_estatisticas_gols_acumulados_por_time__(club_id, window_size, df_matches):\n",
    "    df_matches_club = df_matches[(df_matches['home_id']==club_id) | (df_matches['visitor_id']==club_id)].sort_values(by='datetime', ascending=True)\n",
    "    df_matches_club['ref_id'] = club_id\n",
    "    df_matches_club['ref_goals_scored'] = df_matches_club.apply(lambda row : __goals_scored__(row['home_id'], row['ref_id'], row['home_goal'], row['visitor_goal']), axis = 1)\n",
    "    df_matches_club['ref_goals_against'] = df_matches_club.apply(lambda row : __goals_against__(row['home_id'], row['ref_id'], row['home_goal'], row['visitor_goal']), axis = 1)\n",
    "    df_matches_club['ref_goals_scored_aux'] = df_matches_club['ref_goals_scored'].shift(1).fillna(0)\n",
    "    df_matches_club['ref_goals_against_aux'] = df_matches_club['ref_goals_against'].shift(1).fillna(0)\n",
    "    df_matches_club['ref_goals_scored_sum'] = df_matches_club['ref_goals_scored_aux'].rolling(window_size).sum()\n",
    "    df_matches_club['ref_goals_against_sum'] = df_matches_club['ref_goals_against_aux'].rolling(window_size).sum()\n",
    "    df_matches_club['ref_goals_scored_cumsum'] = df_matches_club['ref_goals_scored_aux'].cumsum()\n",
    "    df_matches_club['ref_goals_against_cumsum'] = df_matches_club['ref_goals_against_aux'].cumsum()\n",
    "    df_matches_club.fillna({'ref_goals_scored_sum':df_matches_club['ref_goals_scored_cumsum'],'ref_goals_against_sum':df_matches_club['ref_goals_against_cumsum']}, inplace=True)\n",
    "    df_matches_club.drop(['date','timestamp','ref_goals_scored_aux','ref_goals_against_aux','ref_goals_scored_cumsum','ref_goals_against_cumsum'], axis=1, inplace=True)\n",
    "    df_matches_club['ref_result'] = df_matches_club['ref_goals_scored']- df_matches_club['ref_goals_against']\n",
    "    df_matches_club['ref_goals_diff'] = df_matches_club['ref_goals_scored_sum']- df_matches_club['ref_goals_against_sum']\n",
    "    return df_matches_club"
   ]
  },
  {
   "cell_type": "code",
   "execution_count": null,
   "id": "20a1227b",
   "metadata": {},
   "outputs": [],
   "source": [
    "def cria_dataframe_estatisticas_gols_acumulados_por_time(df_matches, df_club, window_size = 5):\n",
    "    df_clubs_list = df_club['id'].unique()\n",
    "    list_club_goals_sum_df = pd.DataFrame()\n",
    "    for club in df_clubs_list:\n",
    "        df_aux = __cria_dataframe_estatisticas_gols_acumulados_por_time__(club, window_size, df_matches)\n",
    "        list_club_goals_sum_df = list_club_goals_sum_df.append(df_aux, ignore_index=True)\n",
    "    return list_club_goals_sum_df"
   ]
  }
 ],
 "metadata": {
  "kernelspec": {
   "display_name": "Python 3 (ipykernel)",
   "language": "python",
   "name": "python3"
  },
  "language_info": {
   "codemirror_mode": {
    "name": "ipython",
    "version": 3
   },
   "file_extension": ".py",
   "mimetype": "text/x-python",
   "name": "python",
   "nbconvert_exporter": "python",
   "pygments_lexer": "ipython3",
   "version": "3.9.7"
  }
 },
 "nbformat": 4,
 "nbformat_minor": 5
}
