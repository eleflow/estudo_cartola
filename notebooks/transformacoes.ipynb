{
 "cells": [
  {
   "cell_type": "markdown",
   "id": "243130eb",
   "metadata": {},
   "source": [
    "### Notebook responsável por concentrar os métodos de análises"
   ]
  },
  {
   "cell_type": "code",
   "execution_count": null,
   "id": "c83031dc",
   "metadata": {},
   "outputs": [],
   "source": [
    "import pandas as pd"
   ]
  },
  {
   "cell_type": "code",
   "execution_count": 1,
   "id": "77a41b40",
   "metadata": {},
   "outputs": [],
   "source": [
    "def vencedor(diff):\n",
    "    if diff > 0:\n",
    "        return 'CASA'\n",
    "    elif diff == 0:\n",
    "        return 'EMPATE'\n",
    "    else:\n",
    "        return 'VISITANTE'"
   ]
  },
  {
   "cell_type": "code",
   "execution_count": null,
   "id": "9aaf367a",
   "metadata": {},
   "outputs": [],
   "source": [
    "def aplica_transformacoes_dataframe_partidas(df_match):\n",
    "    df_match['diff_goals'] = df_match['home_goal'] - df_match['visitor_goal']\n",
    "    df_match['vencedor'] = df_match['diff_goals'].map(vencedor)\n",
    "    df_match['datetime'] = pd.to_datetime(df_match['date'])\n",
    "    return df_match"
   ]
  }
 ],
 "metadata": {
  "kernelspec": {
   "display_name": "Python 3",
   "language": "python",
   "name": "python3"
  },
  "language_info": {
   "codemirror_mode": {
    "name": "ipython",
    "version": 3
   },
   "file_extension": ".py",
   "mimetype": "text/x-python",
   "name": "python",
   "nbconvert_exporter": "python",
   "pygments_lexer": "ipython3",
   "version": "3.9.6"
  }
 },
 "nbformat": 4,
 "nbformat_minor": 5
}
