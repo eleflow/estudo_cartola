{
 "cells": [
  {
   "cell_type": "markdown",
   "id": "243130eb",
   "metadata": {},
   "source": [
    "### Notebook responsável por concentrar os métodos de transformações para as análises"
   ]
  },
  {
   "cell_type": "code",
   "execution_count": 1,
   "id": "c83031dc",
   "metadata": {},
   "outputs": [],
   "source": [
    "import pandas as pd"
   ]
  },
  {
   "cell_type": "code",
   "execution_count": 2,
   "id": "77a41b40",
   "metadata": {},
   "outputs": [],
   "source": [
    "def vencedor(diff):\n",
    "    if diff > 0:\n",
    "        return 'CASA'\n",
    "    elif diff == 0:\n",
    "        return 'EMPATE'\n",
    "    else:\n",
    "        return 'VISITANTE'"
   ]
  },
  {
   "cell_type": "code",
   "execution_count": 3,
   "id": "3a629208",
   "metadata": {},
   "outputs": [],
   "source": [
    "def is_home(home_id, id_club):\n",
    "    if home_id == id_club:\n",
    "        return 1\n",
    "    else:\n",
    "        return 0"
   ]
  },
  {
   "cell_type": "code",
   "execution_count": 4,
   "id": "09b3a556",
   "metadata": {},
   "outputs": [],
   "source": [
    "def time_adversario(time_casa, time_visitante,time):\n",
    "    if time == time_casa:\n",
    "        return time_visitante\n",
    "    else:\n",
    "        return time_casa"
   ]
  },
  {
   "cell_type": "code",
   "execution_count": 5,
   "id": "9aaf367a",
   "metadata": {},
   "outputs": [],
   "source": [
    "def aplica_transformacoes_dataframe_partidas(df_match):\n",
    "    df_match['diff_goals'] = df_match['home_goal'] - df_match['visitor_goal']\n",
    "    df_match['vencedor'] = df_match['diff_goals'].map(vencedor)\n",
    "    df_match['datetime'] = pd.to_datetime(df_match['date'])\n",
    "    return df_match"
   ]
  },
  {
   "cell_type": "code",
   "execution_count": 6,
   "id": "6bfa5063",
   "metadata": {},
   "outputs": [],
   "source": [
    "def medida_casa_empate_fora(df_match):\n",
    "    numero_jogos = len(df_match)\n",
    "    vencedor_casa = len(df_match[df_match['vencedor']=='CASA'])\n",
    "    empate = len(df_match[df_match['vencedor']=='EMPATE'])\n",
    "    vencedor_fora = len(df_match[df_match['vencedor']=='VISITANTE'])\n",
    "    return {\n",
    "        \"Percentual de vitoria CASA\": vencedor_casa/numero_jogos,\n",
    "        \"Percentual de EMPATE\": empate/numero_jogos,\n",
    "        \"Percentual de vitoria FORA\": vencedor_fora/numero_jogos\n",
    "    }"
   ]
  },
  {
   "cell_type": "code",
   "execution_count": 7,
   "id": "b663d246",
   "metadata": {},
   "outputs": [],
   "source": [
    "def __adiciona_coluna_visitor_partida__(df_match, df_scouts):\n",
    "    df_match.columns = ['match_id', 'round', 'id_club', 'visitor_id', 'date', 'timestamp', 'local', 'valid', 'home_goal', 'visitor_goal', 'year', 'diff_goals', 'vencedor', 'datetime']\n",
    "    df_scouts = pd.merge(df_scouts, df_match, how = 'left', on = ['round', 'id_club'])\n",
    "    return df_scouts"
   ]
  },
  {
   "cell_type": "code",
   "execution_count": 8,
   "id": "1002a6cd",
   "metadata": {},
   "outputs": [],
   "source": [
    "def __adiciona_coluna_home_partida__(df_match, df_scouts):\n",
    "    df_match.columns = ['match_id', 'round', 'home_id', 'id_club', 'date', 'timestamp', 'local', 'valid', 'home_goal', 'visitor_goal', 'year', 'diff_goals', 'vencedor', 'datetime']\n",
    "    df_scouts = pd.merge(df_scouts, df_match, how='left', on=['round', 'id_club'])\n",
    "    return df_scouts"
   ]
  },
  {
   "cell_type": "code",
   "execution_count": 9,
   "id": "64511929",
   "metadata": {},
   "outputs": [],
   "source": [
    "def __organizacao_colunas_apos_criacao_visitor_home__(df_scouts):\n",
    "    df_scouts.head()\n",
    "    df_scouts['home_id'].fillna(df_scouts['id_club'], inplace= True)\n",
    "    df_scouts['visitor_id'].fillna(df_scouts['id_club'], inplace= True)\n",
    "    df_scouts['home_goal_x'].fillna(df_scouts['home_goal_y'], inplace= True)\n",
    "    df_scouts['visitor_goal_x'].fillna(df_scouts['visitor_goal_y'], inplace= True)\n",
    "    df_scouts['home_goal'] = df_scouts['home_goal_x']\n",
    "    df_scouts['visitor_goal'] = df_scouts['visitor_goal_x'] \n",
    "    df_scouts = df_scouts[['player_name', 'points', 'id_position', 'id_club', 'has_played',\\\n",
    "           'id_player', 'scout_fc', 'scout_fs', 'scout_pi', 'scout_ff', 'scout_a',\\\n",
    "           'scout_ds', 'scout_de', 'scout_gs', 'scout_fd', 'scout_sg', 'scout_ca',\\\n",
    "           'scout_ft', 'scout_g', 'scout_pc', 'scout_ps', 'scout_pp', 'scout_i',\\\n",
    "           'scout_dp', 'scout_gc', 'scout_cv', 'round', 'visitor_id',\\\n",
    "           'home_id','home_goal', 'visitor_goal']]\n",
    "    \n",
    "    return df_scouts"
   ]
  },
  {
   "cell_type": "code",
   "execution_count": 10,
   "id": "ea4452b7",
   "metadata": {},
   "outputs": [],
   "source": [
    "def __adiciona_coluna_casa__(df_scouts):\n",
    "    df_scouts['CASA'] = df_scouts.apply(lambda row : is_home(row['home_id'], row['id_club']), axis = 1)\n",
    "    return df_scouts"
   ]
  },
  {
   "cell_type": "code",
   "execution_count": 11,
   "id": "3f3bc69b",
   "metadata": {},
   "outputs": [],
   "source": [
    "def __adiciona_coluna_home_clube__(df_scouts, df_club):\n",
    "    df_club = df_club[['id', 'name']]\n",
    "    df_club.columns = ['home_id', 'time_casa']\n",
    "    df_scouts = pd.merge(df_scouts, df_club, how='left', on=['home_id'])\n",
    "    return df_scouts"
   ]
  },
  {
   "cell_type": "code",
   "execution_count": 12,
   "id": "c4a1ed3c",
   "metadata": {},
   "outputs": [],
   "source": [
    "def __adiciona_coluna_visitor_clube__(df_scouts, df_club):\n",
    "    df_club = df_club[['id', 'name']]\n",
    "    df_club.columns = ['visitor_id', 'time_visitante']\n",
    "    df_scouts = pd.merge(df_scouts, df_club, how='left', on=['visitor_id'])\n",
    "    df_club.columns = ['id_club', 'time']\n",
    "    df_scouts = pd.merge(df_scouts, df_club, how='left', on=['id_club'])\n",
    "    return df_scouts"
   ]
  },
  {
   "cell_type": "code",
   "execution_count": 13,
   "id": "25f9c587",
   "metadata": {},
   "outputs": [],
   "source": [
    "def __adiciona_coluna_adversario__(df_scouts):\n",
    "    df_scouts['adversario'] = df_scouts.apply(lambda row : time_adversario(row['time_casa'], row['time_visitante'], row['time']), axis = 1)\n",
    "    return df_scouts"
   ]
  },
  {
   "cell_type": "code",
   "execution_count": 14,
   "id": "4cb33b4d",
   "metadata": {},
   "outputs": [],
   "source": [
    "def realiza_merge_entre_partidas_scouts_clube(df_match, df_scouts, df_club):\n",
    "    df_scouts = __adiciona_coluna_visitor_partida__(df_match, df_scouts)\n",
    "    df_scouts = __adiciona_coluna_home_partida__(df_match, df_scouts)\n",
    "    df_scouts = __organizacao_colunas_apos_criacao_visitor_home__(df_scouts)\n",
    "    df_scouts = __adiciona_coluna_casa__(df_scouts)\n",
    "    df_scouts = __adiciona_coluna_home_clube__(df_scouts, df_club)\n",
    "    df_scouts = __adiciona_coluna_visitor_clube__(df_scouts, df_club)\n",
    "    df_scouts = __adiciona_coluna_adversario__(df_scouts)\n",
    "    return df_scouts"
   ]
  },
  {
   "cell_type": "code",
   "execution_count": 15,
   "id": "b2463487",
   "metadata": {},
   "outputs": [],
   "source": [
    "def cria_dataframe_pontuacao(df_scouts):\n",
    "    df_pontuacao_casa = df_scouts[df_scouts['CASA']==1].groupby(['id_player','time', 'player_name', 'id_club', 'id_position']).agg({'points':'sum', 'has_played':'sum'}).reset_index()\n",
    "    df_pontuacao_fora = df_scouts[df_scouts['CASA']==0].groupby(['id_player', 'player_name', 'id_club', 'id_position']).agg({'points':'sum', 'has_played':'sum'}).reset_index()\n",
    "    df_pontuacao_casa.columns=['id_player','time','player_name', 'id_club', 'id_position', 'points_casa', 'has_played_casa']\n",
    "    df_pontuacao_fora.columns=['id_player','player_name', 'id_club', 'id_position', 'points_fora', 'has_played_fora']\n",
    "    df_pontuacao = pd.merge(df_pontuacao_casa, df_pontuacao_fora, how='outer', on=['id_player','player_name','id_club','id_position'])\n",
    "    df_pontuacao.fillna(0, inplace=True)\n",
    "    df_pontuacao['total_pontos']=df_pontuacao['points_fora']+df_pontuacao['points_casa']\n",
    "    df_pontuacao['total_jogos']=df_pontuacao['has_played_casa']+df_pontuacao['has_played_fora']\n",
    "    return df_pontuacao"
   ]
  }
 ],
 "metadata": {
  "kernelspec": {
   "display_name": "Python 3",
   "language": "python",
   "name": "python3"
  },
  "language_info": {
   "codemirror_mode": {
    "name": "ipython",
    "version": 3
   },
   "file_extension": ".py",
   "mimetype": "text/x-python",
   "name": "python",
   "nbconvert_exporter": "python",
   "pygments_lexer": "ipython3",
   "version": "3.9.6"
  }
 },
 "nbformat": 4,
 "nbformat_minor": 5
}
