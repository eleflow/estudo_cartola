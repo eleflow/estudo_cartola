{
 "cells": [
  {
   "cell_type": "markdown",
   "id": "f9e5d4e8",
   "metadata": {},
   "source": [
    "### Notebook Responsável por buscar as partidas do campeonato do ano corrente"
   ]
  },
  {
   "cell_type": "code",
   "execution_count": 21,
   "id": "53920fb6",
   "metadata": {},
   "outputs": [],
   "source": [
    "import requests\n",
    "import json\n",
    "import datetime\n",
    "import pandas as pd"
   ]
  },
  {
   "cell_type": "code",
   "execution_count": 22,
   "id": "85ce4d44",
   "metadata": {},
   "outputs": [],
   "source": [
    "%run ./database.ipynb"
   ]
  },
  {
   "cell_type": "code",
   "execution_count": 23,
   "id": "a571afcd",
   "metadata": {},
   "outputs": [],
   "source": [
    "def request_last_turn_from_cartola_api():\n",
    "    home_page = requests.get('https://api.cartolafc.globo.com/partidas')\n",
    "    home_json = json.loads(home_page.content)\n",
    "    last_turn = home_json['rodada']\n",
    "    return last_turn"
   ]
  },
  {
   "cell_type": "code",
   "execution_count": 24,
   "id": "b20c00fb",
   "metadata": {},
   "outputs": [],
   "source": [
    "def create_matches_dataframe(last_turn):\n",
    "    year = datetime.date.today().year\n",
    "    matches = []\n",
    "    \n",
    "    for turn in range(1, last_turn):\n",
    "        turn_page = requests.get(f'https://api.cartolafc.globo.com/partidas/{turn}')\n",
    "        turn_json = json.loads(turn_page.content)\n",
    "        turn_matches = turn_json['partidas']\n",
    "        for match_data in turn_matches:\n",
    "            match = {\n",
    "                'match_id': match_data['partida_id'],\n",
    "                'turn': turn,\n",
    "                'home_id': match_data['clube_casa_id'],\n",
    "                'visitor_id': match_data['clube_visitante_id'],\n",
    "                'date': match_data['partida_data'],\n",
    "                'timestamp': match_data['timestamp'],\n",
    "                'local': match_data['local'],\n",
    "                'valid': match_data['valida'],\n",
    "                'home_goal': match_data['placar_oficial_mandante'],\n",
    "                'visitor_goal': match_data['placar_oficial_visitante'],\n",
    "                'year': year\n",
    "            }\n",
    "            matches.append(match)\n",
    "\n",
    "    return pd.DataFrame(matches)"
   ]
  },
  {
   "cell_type": "code",
   "execution_count": 25,
   "id": "fbaeaa57",
   "metadata": {},
   "outputs": [],
   "source": [
    "def collect_matches_and_save_to_database(engine):\n",
    "    last_turn = request_last_turn_from_cartola_api()\n",
    "    df_matches = create_matches_dataframe(last_turn)\n",
    "    save_data(engine, 'match', df_matches)\n",
    "    return count_data(engine, 'match').fetchall()"
   ]
  }
 ],
 "metadata": {
  "kernelspec": {
   "display_name": "Python 3",
   "language": "python",
   "name": "python3"
  },
  "language_info": {
   "codemirror_mode": {
    "name": "ipython",
    "version": 3
   },
   "file_extension": ".py",
   "mimetype": "text/x-python",
   "name": "python",
   "nbconvert_exporter": "python",
   "pygments_lexer": "ipython3",
   "version": "3.9.6"
  }
 },
 "nbformat": 4,
 "nbformat_minor": 5
}
