{
 "cells": [
  {
   "cell_type": "markdown",
   "metadata": {},
   "source": [
    "## PLAYER STATISTICS FIXTURE UPDATE  \n",
    "Esse notebook é responsavel por puxar as estatisticas dos jogadores, individualmente, de uma determinada liga no ano desejado  \n",
    "\n",
    "Obrigatorio passar FIXTURE_ID na chamada da API.\n",
    "\n",
    "Passar id_league e seson nas variaveis abaixo!  \n",
    "É necessário tambem passar as rodadas que você gostaria de ter a estatistica.\n",
    "\n",
    "Atualizado:\n",
    "<ul>\n",
    "  <li>player_statistics por partida</li>\n",
    "</ul>\n",
    "\n",
    "> #TODO  \n",
    ">  \n",
    "> -> on conflict, atualizar alguns campos  \n"
   ]
  },
  {
   "cell_type": "code",
   "execution_count": 47,
   "metadata": {},
   "outputs": [],
   "source": [
    "import ipynb.fs.full.FootballApi as api\n",
    "import ipynb.fs.full.PostgreDB as pg\n",
    "\n",
    "import time"
   ]
  },
  {
   "cell_type": "code",
   "execution_count": 51,
   "metadata": {},
   "outputs": [
    {
     "name": "stdout",
     "output_type": "stream",
     "text": [
      "10\n"
     ]
    }
   ],
   "source": [
    "id_league = 71\n",
    "season = 2021\n",
    "id_round_ini = 1\n",
    "id_round_end = 1\n",
    "\n",
    "ids_fixtures = []\n",
    "conn = pg.PostgreDB.connect()\n",
    "\n",
    "sql = f\"\"\" select id from fixture\n",
    "            where id_league={id_league}\n",
    "            and season={season} and id_round between {id_round_ini} and {id_round_end} \"\"\"\n",
    "\n",
    "# print(sql)\n",
    "cur = pg.PostgreDB.run_query(conn, sql)\n",
    "result = cur.fetchall()\n",
    "\n",
    "if result:\n",
    "    for fix in result:\n",
    "        ids_fixtures.append(fix[0])\n",
    "\n",
    "pg.PostgreDB.commit(conn)\n",
    "pg.PostgreDB.close(conn)\n",
    "\n",
    "\n",
    "print(len(ids_fixtures))\n"
   ]
  },
  {
   "cell_type": "code",
   "execution_count": 48,
   "metadata": {},
   "outputs": [
    {
     "name": "stdout",
     "output_type": "stream",
     "text": [
      "32\n"
     ]
    }
   ],
   "source": [
    "#ids_fixtures = [688909]\n",
    "ids_fixtures = [689232,689233,689234,689235,689236,689237,689238,689249,689250,689251,689252,689253,689259,689260,689261,689262,689263,689264,689275,689276,689277,689278,689279,689280,689281,689282,689283,689284,689285,689286,689287,689288]\n",
    "print(len(ids_fixtures))\n"
   ]
  },
  {
   "cell_type": "code",
   "execution_count": null,
   "metadata": {},
   "outputs": [],
   "source": [
    "#print(fixture_players_statistcs['response'])"
   ]
  },
  {
   "cell_type": "code",
   "execution_count": 50,
   "metadata": {},
   "outputs": [
    {
     "name": "stdout",
     "output_type": "stream",
     "text": [
      "America Mineiro\n",
      "Atletico Goianiense\n",
      "Gremio\n",
      "RB Bragantino\n",
      "Fortaleza EC\n",
      "Ceara\n",
      "Sport Recife\n",
      "Bahia\n",
      "Atletico Paranaense\n",
      "Atletico-MG\n",
      "Juventude\n",
      "Fluminense\n",
      "Cuiaba\n",
      "Internacional\n",
      "Fluminense\n",
      "Internacional\n",
      "Palmeiras\n",
      "Atletico-MG\n",
      "Santos\n",
      "Fortaleza EC\n",
      "America Mineiro\n",
      "Chapecoense-sc\n",
      "Gremio\n",
      "Sao Paulo\n",
      "Flamengo\n",
      "Ceara\n",
      "Corinthians\n",
      "Atletico Paranaense\n",
      "Sao Paulo\n",
      "Sport Recife\n",
      "Atletico-MG\n",
      "Fluminense\n",
      "Internacional\n",
      "Santos\n",
      "Fortaleza EC\n",
      "Juventude\n",
      "Bahia\n",
      "Fluminense\n",
      "Atletico Paranaense\n",
      "Palmeiras\n",
      "Chapecoense-sc\n",
      "Sport Recife\n",
      "Cuiaba\n",
      "Fortaleza EC\n",
      "Fluminense\n",
      "Chapecoense-sc\n",
      "Palmeiras\n",
      "Ceara\n",
      "Santos\n",
      "Cuiaba\n",
      "America Mineiro\n",
      "Sao Paulo\n",
      "Gremio\n",
      "Atletico-MG\n",
      "Fortaleza EC\n",
      "Bahia\n",
      "Sport Recife\n",
      "Atletico Paranaense\n",
      "RB Bragantino\n",
      "Internacional\n",
      "Juventude\n",
      "Corinthians\n",
      "Atletico Goianiense\n",
      "Flamengo\n"
     ]
    }
   ],
   "source": [
    "#funcao para salvar no banco os dados\n",
    "def insert_db(table: str, data: dict) -> None:\n",
    "\n",
    "    conn = pg.PostgreDB.connect()\n",
    "    \n",
    "    columns = \", \".join([list(data.keys()) for x in data][0])\n",
    "    s_len = \", \".join([\"%s\"] * len([list(data.keys()) for x in data][0]))\n",
    "    sql = f\"\"\"INSERT INTO {table} ({columns})\n",
    "                VALUES ({s_len}) ON CONFLICT \n",
    "                DO NOTHING;\"\"\"\n",
    "\n",
    "    cur = pg.PostgreDB.run_query_with_args(conn, sql, data)\n",
    "    pg.PostgreDB.commit(conn)\n",
    "    pg.PostgreDB.close(conn)\n",
    "\n",
    "\n",
    "for id_fixture in ids_fixtures:\n",
    "\n",
    "\n",
    "    fixture_players_statistcs = api.FootballApi(function=f\"fixtures/players?fixture={id_fixture}\").get_data()\n",
    "    time.sleep(8)\n",
    "    fixture_statistcs = fixture_players_statistcs['response']\n",
    "\n",
    "    for team in fixture_statistcs:\n",
    "        print(team['team']['name'])\n",
    "        id_team = team['team']['id']\n",
    "        \n",
    "\n",
    "        for player in team['players']:\n",
    "                player_data = {}\n",
    "\n",
    "                #print(player['player']['name'])\n",
    "                player_data['id_team'] = id_team \n",
    "                player_data['id_player'] = player['player']['id']\n",
    "                player_data['id_fixture'] = id_fixture \n",
    "\n",
    "                for player_statistics in player['statistics']:\n",
    "                    player_data['games_minutes'] = player_statistics['games']['minutes']\n",
    "                    player_data['games_number'] = player_statistics['games']['number']\n",
    "                    player_data['games_position'] = player_statistics['games']['position']\n",
    "                    player_data['games_rating'] = player_statistics['games']['rating']\n",
    "                    player_data['games_captain'] = player_statistics['games']['captain']\n",
    "                    player_data['games_substitute'] = player_statistics['games']['substitute']\n",
    "                    player_data['offsides'] = player_statistics['offsides']\n",
    "                    player_data['shots_total'] = player_statistics['shots']['total']\n",
    "                    player_data['shots_on'] = player_statistics['shots']['on']\n",
    "                    player_data['goals_total'] = player_statistics['goals']['total']\n",
    "                    player_data['goals_conceded'] = player_statistics['goals']['conceded']\n",
    "                    player_data['goals_assists'] = player_statistics['goals']['assists']\n",
    "                    player_data['goals_saves'] = player_statistics['goals']['saves']\n",
    "                    player_data['passes_total'] = player_statistics['passes']['total']\n",
    "                    player_data['passes_key'] = player_statistics['passes']['key']\n",
    "                    player_data['passes_accuracy'] = player_statistics['passes']['accuracy']\n",
    "                    player_data['tackles_total'] = player_statistics['tackles']['total']\n",
    "                    player_data['tackles_blocks'] = player_statistics['tackles']['blocks']\n",
    "                    player_data['tackles_interceptions'] = player_statistics['tackles']['interceptions']\n",
    "                    player_data['duels_total'] = player_statistics['duels']['total']\n",
    "                    player_data['duels_won'] = player_statistics['duels']['won']\n",
    "                    player_data['dribbles_attempts'] = player_statistics['dribbles']['attempts']\n",
    "                    player_data['dribbles_success'] = player_statistics['dribbles']['success']\n",
    "                    player_data['dribbles_past'] = player_statistics['dribbles']['past']\n",
    "                    player_data['fouls_drawn'] = player_statistics['fouls']['drawn']\n",
    "                    player_data['fouls_committed'] = player_statistics['fouls']['committed']\n",
    "                    player_data['cards_yellow'] = player_statistics['cards']['yellow']\n",
    "                    player_data['cards_red'] = player_statistics['cards']['red']\n",
    "                    player_data['penalty_won'] = player_statistics['penalty']['won']\n",
    "                    player_data['penalty_commited'] = player_statistics['penalty']['commited']\n",
    "                    player_data['penalty_scored'] = player_statistics['penalty']['scored']\n",
    "                    player_data['penalty_missed'] = player_statistics['penalty']['missed']\n",
    "                    player_data['penalty_saved'] = player_statistics['penalty']['saved']\n",
    "                    insert_db('player_fixture_statistics', player_data)\n",
    "                    #print(player_data)\n",
    "                    "
   ]
  }
 ],
 "metadata": {
  "interpreter": {
   "hash": "dd5fdfbd46ac7f7a9ee9fa4e0ea22985d875b04013a8d231cf1e0951abec6276"
  },
  "kernelspec": {
   "display_name": "Python 3.8.10 64-bit ('cartola': venv)",
   "language": "python",
   "name": "python3"
  },
  "language_info": {
   "codemirror_mode": {
    "name": "ipython",
    "version": 3
   },
   "file_extension": ".py",
   "mimetype": "text/x-python",
   "name": "python",
   "nbconvert_exporter": "python",
   "pygments_lexer": "ipython3",
   "version": "3.8.10"
  },
  "orig_nbformat": 4
 },
 "nbformat": 4,
 "nbformat_minor": 2
}
