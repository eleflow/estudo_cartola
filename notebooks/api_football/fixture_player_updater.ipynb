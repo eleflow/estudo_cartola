{
 "cells": [
  {
   "cell_type": "markdown",
   "metadata": {},
   "source": [
    "## PLAYER STATISTICS FIXTURE UPDATE  \n",
    "Obrigatorio passar FIXTURE_ID   \n",
    "Atualizado:\n",
    "<ul>\n",
    "  <li>player_statistics por partida</li>\n",
    "</ul>\n",
    "\n",
    "> #TODO  \n",
    ">  \n",
    "> -> on conflict, atualizar alguns campos\n",
    "> .\n"
   ]
  },
  {
   "cell_type": "code",
   "execution_count": 1,
   "metadata": {},
   "outputs": [],
   "source": [
    "import ipynb.fs.full.FootballApi as api\n",
    "import ipynb.fs.full.PostgreDB as pg"
   ]
  },
  {
   "cell_type": "code",
   "execution_count": 44,
   "metadata": {},
   "outputs": [
    {
     "name": "stdout",
     "output_type": "stream",
     "text": [
      "380\n"
     ]
    }
   ],
   "source": [
    "id_league = 71\n",
    "season = 2021\n",
    "\n",
    "ids_fixtures = []\n",
    "conn = pg.PostgreDB.connect()\n",
    "\n",
    "sql = f\"\"\" select id from fixture\n",
    "            where id_league={id_league}\n",
    "            and season={season} \"\"\"\n",
    "\n",
    "# print(sql)\n",
    "cur = pg.PostgreDB.run_query(conn, sql)\n",
    "result = cur.fetchall()\n",
    "\n",
    "if result:\n",
    "    for fix in result:\n",
    "        ids_fixtures.append(fix[0])\n",
    "\n",
    "pg.PostgreDB.commit(conn)\n",
    "pg.PostgreDB.close(conn)\n",
    "\n",
    "print(ids_fixtures)\n"
   ]
  },
  {
   "cell_type": "code",
   "execution_count": 42,
   "metadata": {},
   "outputs": [],
   "source": [
    "ids_fixtures = [688909]\n",
    "\n"
   ]
  },
  {
   "cell_type": "code",
   "execution_count": null,
   "metadata": {},
   "outputs": [],
   "source": [
    "#print(fixture_players_statistcs['response'])"
   ]
  },
  {
   "cell_type": "code",
   "execution_count": 43,
   "metadata": {},
   "outputs": [
    {
     "name": "stdout",
     "output_type": "stream",
     "text": [
      "Flamengo\n",
      "Diego Alves\n",
      "Mauricio Isla\n",
      "Willian Arão\n",
      "Rodrigo Caio\n",
      "Filipe Luís\n",
      "Gerson\n",
      "Diego\n",
      "Everton Ribeiro\n",
      "Giorgian De Arrascaeta\n",
      "Bruno Henrique\n",
      "Pedro\n",
      "Gabriel Batista\n",
      "Hugo Souza\n",
      "Gustavo Henrique\n",
      "Matheuzinho\n",
      "Léo Pereira\n",
      "Ramon\n",
      "Bruno Viana\n",
      "Vitinho\n",
      "João Gomes\n",
      "Hugo Moura\n",
      "Michael\n",
      "Rodrigo Muniz\n",
      "Palmeiras\n",
      "Weverton\n",
      "Luan\n",
      "Gustavo Gómez\n",
      "Alan Empereur\n",
      "Gabriel Menino\n",
      "Raphael Veiga\n",
      "Felipe Melo\n",
      "Patrick de Paula\n",
      "Matías Viña\n",
      "Rony\n",
      "Luiz Adriano\n",
      "Jailson\n",
      "Danilo Barbosa\n",
      "Lucas Esteves\n",
      "Gustavo Garcia\n",
      "Victor Luis\n",
      "Michel\n",
      "Danilo\n",
      "Lucas Lima\n",
      "Gustavo Scarpa\n",
      "Wesley\n",
      "Zé Rafael\n",
      "Willian\n"
     ]
    }
   ],
   "source": [
    "#funcao para salvar no banco os dados\n",
    "def insert_db(table: str, data: dict) -> None:\n",
    "\n",
    "    conn = pg.PostgreDB.connect()\n",
    "    \n",
    "    columns = \", \".join([list(data.keys()) for x in data][0])\n",
    "    s_len = \", \".join([\"%s\"] * len([list(data.keys()) for x in data][0]))\n",
    "    sql = f\"\"\"INSERT INTO {table} ({columns})\n",
    "                VALUES ({s_len}) ON CONFLICT \n",
    "                DO NOTHING;\"\"\"\n",
    "\n",
    "    cur = pg.PostgreDB.run_query_with_args(conn, sql, data)\n",
    "    pg.PostgreDB.commit(conn)\n",
    "    pg.PostgreDB.close(conn)\n",
    "\n",
    "\n",
    "for id_fixture in ids_fixtures:\n",
    "\n",
    "    fixture_players_statistcs = api.FootballApi(function=f\"fixtures/players?fixture={id_fixture}\").get_data()\n",
    "\n",
    "    fixture_statistcs = fixture_players_statistcs['response']\n",
    "\n",
    "    for team in fixture_statistcs:\n",
    "        print(team['team']['name'])\n",
    "        id_team = team['team']['id']\n",
    "\n",
    "        for player in team['players']:\n",
    "                player_data = {}\n",
    "\n",
    "                print(player['player']['name'])\n",
    "                player_data['id_team'] = id_team \n",
    "                player_data['id_player'] = player['player']['id'] \n",
    "\n",
    "                for player_statistics in player['statistics']:\n",
    "                    player_data['games_minutes'] = player_statistics['games']['minutes']\n",
    "                    player_data['games_number'] = player_statistics['games']['number']\n",
    "                    player_data['games_position'] = player_statistics['games']['position']\n",
    "                    player_data['games_rating'] = player_statistics['games']['rating']\n",
    "                    player_data['games_captain'] = player_statistics['games']['captain']\n",
    "                    player_data['games_substitute'] = player_statistics['games']['substitute']\n",
    "                    player_data['offsides'] = player_statistics['offsides']\n",
    "                    player_data['shots_total'] = player_statistics['shots']['total']\n",
    "                    player_data['shots_on'] = player_statistics['shots']['on']\n",
    "                    player_data['goals_total'] = player_statistics['goals']['total']\n",
    "                    player_data['goals_conceded'] = player_statistics['goals']['conceded']\n",
    "                    player_data['goals_assists'] = player_statistics['goals']['assists']\n",
    "                    player_data['goals_saves'] = player_statistics['goals']['saves']\n",
    "                    player_data['passes_total'] = player_statistics['passes']['total']\n",
    "                    player_data['passes_key'] = player_statistics['passes']['key']\n",
    "                    player_data['passes_accuracy'] = player_statistics['passes']['accuracy']\n",
    "                    player_data['tackles_total'] = player_statistics['tackles']['total']\n",
    "                    player_data['tackles_blocks'] = player_statistics['tackles']['blocks']\n",
    "                    player_data['tackles_interceptions'] = player_statistics['tackles']['interceptions']\n",
    "                    player_data['duels_total'] = player_statistics['duels']['total']\n",
    "                    player_data['duels_won'] = player_statistics['duels']['won']\n",
    "                    player_data['dribbles_attempts'] = player_statistics['dribbles']['attempts']\n",
    "                    player_data['dribbles_success'] = player_statistics['dribbles']['success']\n",
    "                    player_data['dribbles_past'] = player_statistics['dribbles']['past']\n",
    "                    player_data['fouls_drawn'] = player_statistics['fouls']['drawn']\n",
    "                    player_data['fouls_committed'] = player_statistics['fouls']['committed']\n",
    "                    player_data['cards_yellow'] = player_statistics['cards']['yellow']\n",
    "                    player_data['cards_red'] = player_statistics['cards']['red']\n",
    "                    player_data['penalty_won'] = player_statistics['penalty']['won']\n",
    "                    player_data['penalty_commited'] = player_statistics['penalty']['commited']\n",
    "                    player_data['penalty_scored'] = player_statistics['penalty']['scored']\n",
    "                    player_data['penalty_missed'] = player_statistics['penalty']['missed']\n",
    "                    player_data['penalty_saved'] = player_statistics['penalty']['saved']\n",
    "                    insert_db('player_fixture_statistics', player_data)\n",
    "                    #print(player_data)\n",
    "                    "
   ]
  }
 ],
 "metadata": {
  "interpreter": {
   "hash": "dd5fdfbd46ac7f7a9ee9fa4e0ea22985d875b04013a8d231cf1e0951abec6276"
  },
  "kernelspec": {
   "display_name": "Python 3.8.10 64-bit ('cartola': venv)",
   "language": "python",
   "name": "python3"
  },
  "language_info": {
   "name": "python",
   "version": "3.8.10"
  },
  "orig_nbformat": 4
 },
 "nbformat": 4,
 "nbformat_minor": 2
}
