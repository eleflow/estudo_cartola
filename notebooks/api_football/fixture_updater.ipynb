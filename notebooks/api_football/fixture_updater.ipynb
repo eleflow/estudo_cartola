{
 "cells": [
  {
   "cell_type": "markdown",
   "metadata": {},
   "source": [
    "# FIXTURE UPDATE  \n",
    "\n",
    "Atualiza os dados das partidas de uma LIGA em seu respectivo ANO!  \n",
    "\n",
    "Obrigatorio passar LEAGUE_ID e SESON  \n",
    "Atualizado:\n",
    "<ul>\n",
    "  <li>Referee</li>\n",
    "  <li>Status</li>\n",
    "  <li>Fixture</li>\n",
    "</ul>\n",
    "\n",
    "> #TODO  \n",
    ">  \n",
    "> -> Hoje os IDs dos times entao sendo inseridos da forma que vem, temos que validar se aquele id de time, é o mesmo ID na tabela de **teams**  \n",
    "> -> Jogar resultset em um dict, tratar e fazer um insert mais limpo  \n",
    "> .\n"
   ]
  },
  {
   "cell_type": "code",
   "execution_count": 26,
   "metadata": {},
   "outputs": [],
   "source": [
    "league = 71\n",
    "#season - Em caso de ligas que inician em um ano e finalizam em outro, utilizar o ano de inicio\n",
    "season = 2021"
   ]
  },
  {
   "cell_type": "code",
   "execution_count": 27,
   "metadata": {},
   "outputs": [
    {
     "name": "stdout",
     "output_type": "stream",
     "text": [
      "Requirement already satisfied: ipython_genutils in /home/vinicius.goncalves/Documents/venv/cartola/lib/python3.8/site-packages (0.2.0)\n",
      "Note: you may need to restart the kernel to use updated packages.\n"
     ]
    }
   ],
   "source": [
    "pip install ipython_genutils"
   ]
  },
  {
   "cell_type": "code",
   "execution_count": 28,
   "metadata": {},
   "outputs": [],
   "source": [
    "import ipynb.fs.full.FootballApi as api\n",
    "import ipynb.fs.full.PostgreDB as pg\n",
    "import json\n",
    "import time\n",
    "import ipython_genutils\n",
    "from datetime import datetime"
   ]
  },
  {
   "cell_type": "markdown",
   "metadata": {},
   "source": [
    "### ATUALIZE AS RODADAS(ROUND)!"
   ]
  },
  {
   "cell_type": "code",
   "execution_count": 29,
   "metadata": {},
   "outputs": [
    {
     "name": "stdout",
     "output_type": "stream",
     "text": [
      "185\n",
      "{'get': 'fixtures/rounds', 'parameters': {'season': '2021', 'league': '71'}, 'errors': [], 'results': 38, 'paging': {'current': 1, 'total': 1}, 'response': ['Regular Season - 1', 'Regular Season - 2', 'Regular Season - 3', 'Regular Season - 4', 'Regular Season - 5', 'Regular Season - 6', 'Regular Season - 7', 'Regular Season - 8', 'Regular Season - 9', 'Regular Season - 10', 'Regular Season - 11', 'Regular Season - 12', 'Regular Season - 13', 'Regular Season - 14', 'Regular Season - 15', 'Regular Season - 16', 'Regular Season - 17', 'Regular Season - 18', 'Regular Season - 19', 'Regular Season - 20', 'Regular Season - 21', 'Regular Season - 22', 'Regular Season - 23', 'Regular Season - 24', 'Regular Season - 25', 'Regular Season - 26', 'Regular Season - 27', 'Regular Season - 28', 'Regular Season - 34', 'Regular Season - 29', 'Regular Season - 31', 'Regular Season - 30', 'Regular Season - 32', 'Regular Season - 33', 'Regular Season - 35', 'Regular Season - 36', 'Regular Season - 37', 'Regular Season - 38']}\n"
     ]
    }
   ],
   "source": [
    "# atualizando rounds\n",
    "#%run ./round_updater.ipynb"
   ]
  },
  {
   "cell_type": "code",
   "execution_count": 30,
   "metadata": {},
   "outputs": [],
   "source": [
    "conn = pg.PostgreDB.connect()"
   ]
  },
  {
   "cell_type": "code",
   "execution_count": 31,
   "metadata": {},
   "outputs": [],
   "source": [
    "#importando fixture\n",
    "fixtures = api.FootballApi(function=f\"fixtures?league={league}&season={season}\").get_data()"
   ]
  },
  {
   "cell_type": "code",
   "execution_count": null,
   "metadata": {},
   "outputs": [],
   "source": [
    "\n",
    "my_json = fixtures['response'][0]\n",
    "\n",
    "#print(json.dumps(my_json, indent=4))\n",
    "#print(fixtures['response'][0])"
   ]
  },
  {
   "cell_type": "code",
   "execution_count": null,
   "metadata": {},
   "outputs": [],
   "source": [
    "for fixture in fixtures['response']:\n",
    "\n",
    "    time.sleep(10)\n",
    "\n",
    "    fixture_id = fixture[\"fixture\"]['id']\n",
    "    fixture_referee = fixture[\"fixture\"]['referee']\n",
    "    fixture_timezone = fixture[\"fixture\"]['timezone']\n",
    "    fixture_date = fixture[\"fixture\"]['date']\n",
    "    fixture_timestamp = datetime.utcfromtimestamp(fixture[\"fixture\"]['timestamp'])\n",
    "    \n",
    "    fixture_periods = fixture[\"fixture\"]['periods']\n",
    "    if fixture_periods['first']:\n",
    "        fixture_first_half_start = datetime.utcfromtimestamp(fixture_periods['first'])\n",
    "    else:\n",
    "        fixture_first_half_start = datetime.fromisoformat('1900-01-01T00:00:00')\n",
    "        \n",
    "    if fixture_periods['second']:\n",
    "        fixture_second_half_start = datetime.utcfromtimestamp(fixture_periods['second'])\n",
    "    else:\n",
    "        fixture_second_half_start = datetime.fromisoformat('1900-01-01T00:00:00')\n",
    "\n",
    "    team_home = fixture[\"teams\"]['home']\n",
    "    team_home_id = team_home['id']\n",
    "    team_home_name = team_home['name']\n",
    "    team_home_winner = team_home['winner'] if team_home['winner'] is not None else False\n",
    "    team_home_goals = fixture[\"goals\"]['home'] if fixture[\"goals\"]['home'] is not None else 0\n",
    "\n",
    "    team_away = fixture[\"teams\"]['away']\n",
    "    team_away_id = team_away['id']\n",
    "    team_away_name = team_away['name']\n",
    "    team_away_winner = team_away['winner'] if team_away['winner'] is not None else False\n",
    "    team_away_goals = fixture[\"goals\"]['away'] if fixture[\"goals\"]['away'] is not None else 0\n",
    "\n",
    "    team_detail_score = fixture[\"score\"]\n",
    "    team_home_ht_goals = team_detail_score[\"halftime\"]['home'] if team_detail_score[\"halftime\"]['home'] is not None else 0\n",
    "    team_home_ft_goals = team_detail_score[\"fulltime\"]['home'] if team_detail_score[\"fulltime\"]['home'] is not None else 0\n",
    "    team_home_extratime_goals = team_detail_score[\"extratime\"]['home'] if team_detail_score[\"extratime\"]['home'] is not None else 0\n",
    "    team_home_penalty_goals = team_detail_score[\"penalty\"]['home'] if team_detail_score[\"penalty\"]['home'] is not None else 0\n",
    "    team_away_ht_goals = team_detail_score[\"halftime\"]['away'] if team_detail_score[\"halftime\"]['away'] is not None else 0\n",
    "    team_away_ft_goals = team_detail_score[\"fulltime\"]['away'] if team_detail_score[\"fulltime\"]['away'] is not None else 0\n",
    "    team_away_extratime_goals = team_detail_score[\"extratime\"]['away'] if team_detail_score[\"extratime\"]['away'] is not None else 0\n",
    "    team_away_penalty_goals = team_detail_score[\"penalty\"]['away'] if team_detail_score[\"penalty\"]['away'] is not None else 0\n",
    "\n",
    "    status = fixture[\"fixture\"]['status']\n",
    "    fixture_status_long = status['long']\n",
    "    fixture_status_short = status['short']\n",
    "\n",
    "    # apenas para validacao\n",
    "    league_id = fixture[\"league\"]['id'] if fixture[\"league\"]['id'] is not None else 'NULL'\n",
    "    league_season = fixture[\"league\"]['season'] if fixture[\"league\"]['season'] is not None else 'NULL'\n",
    "    stadium = fixture[\"fixture\"]['venue']\n",
    "    stadium_id = stadium['id'] if stadium['id'] is not None else 'NULL'\n",
    "\n",
    "\n",
    "    # ---------------------------------------------------------------------\n",
    "    # ROUND ID\n",
    "    find_round = fixture[\"league\"]['round'] \n",
    "    if find_round:\n",
    "        sql = f\"\"\"select id from round\n",
    "                    where id_league = {league}\n",
    "                    and season = {season}\n",
    "                    and name='{find_round}'\"\"\"\n",
    "        #print(sql)\n",
    "        cur5 = pg.PostgreDB.run_query(conn, sql)\n",
    "        res5 = cur5.fetchone()\n",
    "        if res5:\n",
    "            id_round = res5[0]\n",
    "        else:\n",
    "            id_round = 0\n",
    "\n",
    "    # ---------------------------------------------------------------------\n",
    "    # REFEREE\n",
    "    if fixture_referee:\n",
    "        sql = f\"SELECT id FROM referee where name='{fixture_referee}'\"\n",
    "        #print(sql)\n",
    "        cur1 = pg.PostgreDB.run_query(conn, sql)\n",
    "        res1 = cur1.fetchone()\n",
    "        if res1:\n",
    "            referee_id = res1[0]\n",
    "        else:\n",
    "            sql = f\"\"\"INSERT INTO referee (name) VALUES('{fixture_referee}') \n",
    "            ON CONFLICT DO NOTHING \n",
    "            RETURNING id \"\"\"\n",
    "            #print(sql)\n",
    "            cur2 = pg.PostgreDB.run_query(conn, sql)\n",
    "            res2 = cur2.fetchone()\n",
    "            if res2:\n",
    "                referee_id = res2[0]\n",
    "            else:\n",
    "                referee_id = 'NULL'\n",
    "    else:\n",
    "        referee_id = 'NULL'\n",
    "\n",
    "    # ---------------------------------------------------------------------\n",
    "    # STATUS\n",
    "\n",
    "    if fixture_status_long:\n",
    "        sql = f\"SELECT id FROM status where long_status='{fixture_status_long}'\"\n",
    "        \n",
    "        cur12 = pg.PostgreDB.run_query(conn, sql)\n",
    "        res12 = cur12.fetchone()\n",
    "        if res12:\n",
    "            status_id = res12[0]\n",
    "        else:\n",
    "            sql = f\"\"\"INSERT INTO status (long_status, short_status) VALUES('{fixture_status_long}','{fixture_status_short}') \n",
    "                    ON CONFLICT DO NOTHING \n",
    "                    RETURNING id \"\"\"\n",
    "            cur22 = pg.PostgreDB.run_query(conn, sql)\n",
    "            res22 = cur22.fetchone()\n",
    "            if res22:\n",
    "                status_id = res22[0]\n",
    "            else:\n",
    "                status_id = 'NULL'\n",
    "    else:\n",
    "        status_id = 'NULL'\n",
    "    \n",
    "    # ---------------------------------------------------------------------\n",
    "    # FIXTURE/PARTIDA\n",
    "\n",
    "    sql = f\"\"\" INSERT INTO fixture\n",
    "                    (id, \n",
    "                    id_league,\n",
    "                    id_round,\n",
    "                    season, \n",
    "                    id_referee, \n",
    "                    id_stadium, \n",
    "                    schedule_timestamp, \n",
    "                    first_period_start_timestamp, \n",
    "                    second_period_start_timestamp, \n",
    "                    id_status, \n",
    "                    id_home_team, \n",
    "                    home_winner, \n",
    "                    home_goals, \n",
    "                    id_away_team, \n",
    "                    away_winner, \n",
    "                    away_goals, \n",
    "                    ht_home_goals,\n",
    "                    ht_away_goals, \n",
    "                    ft_home_goals, \n",
    "                    ft_away_goals, \n",
    "                    et_home_goals, \n",
    "                    et_away_goals, \n",
    "                    penalty_home, \n",
    "                    penalty_away)\n",
    "                VALUES({fixture_id}, \n",
    "                    {league_id}, \n",
    "                    {id_round},\n",
    "                    {league_season},\n",
    "                    {referee_id}, \n",
    "                    {stadium_id}, \n",
    "                    '{fixture_timestamp}', \n",
    "                    '{fixture_first_half_start}', \n",
    "                    '{fixture_second_half_start}',\n",
    "                    {status_id}, \n",
    "                    {team_home_id}, \n",
    "                    {team_home_winner}, \n",
    "                    {team_home_goals}, \n",
    "                    {team_away_id}, \n",
    "                    {team_away_winner}, \n",
    "                    {team_away_goals}, \n",
    "                    {team_home_ht_goals}, \n",
    "                    {team_away_ht_goals}, \n",
    "                    {team_home_ft_goals}, \n",
    "                    {team_away_ft_goals}, \n",
    "                    {team_home_extratime_goals}, \n",
    "                    {team_away_extratime_goals}, \n",
    "                    {team_home_penalty_goals}, \n",
    "                    {team_away_penalty_goals})\n",
    "                ON CONFLICT DO NOTHING\n",
    "            \"\"\"\n",
    "    #print(sql)\n",
    "    pg.PostgreDB.run_query(conn, sql)\n",
    "\n",
    "\n",
    "pg.PostgreDB.commit(conn)\n",
    "pg.PostgreDB.close(conn)"
   ]
  },
  {
   "cell_type": "code",
   "execution_count": null,
   "metadata": {},
   "outputs": [],
   "source": []
  },
  {
   "cell_type": "code",
   "execution_count": null,
   "metadata": {},
   "outputs": [],
   "source": []
  }
 ],
 "metadata": {
  "interpreter": {
   "hash": "dd5fdfbd46ac7f7a9ee9fa4e0ea22985d875b04013a8d231cf1e0951abec6276"
  },
  "kernelspec": {
   "display_name": "Python 3.8.10 64-bit ('cartola': venv)",
   "language": "python",
   "name": "python3"
  },
  "language_info": {
   "codemirror_mode": {
    "name": "ipython",
    "version": 3
   },
   "file_extension": ".py",
   "mimetype": "text/x-python",
   "name": "python",
   "nbconvert_exporter": "python",
   "pygments_lexer": "ipython3",
   "version": "3.8.10"
  },
  "orig_nbformat": 4
 },
 "nbformat": 4,
 "nbformat_minor": 2
}
