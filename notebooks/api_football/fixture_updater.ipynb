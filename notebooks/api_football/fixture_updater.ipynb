{
 "cells": [
  {
   "cell_type": "markdown",
   "metadata": {},
   "source": [
    "\n",
    "\n",
    "> #TODO  \n",
    "Hoje os IDs dos times entao sendo inseridos da forma que vem, temos que validar se aquele id de time, é o mesmo ID na tabela de **teams**"
   ]
  },
  {
   "cell_type": "code",
   "execution_count": null,
   "metadata": {},
   "outputs": [],
   "source": [
    "pip install ipython_genutils"
   ]
  },
  {
   "cell_type": "code",
   "execution_count": 10,
   "metadata": {},
   "outputs": [],
   "source": [
    "import ipynb.fs.full.FootballApi as api\n",
    "import ipynb.fs.full.PostgreDB as pg\n",
    "import json\n",
    "import ipython_genutils"
   ]
  },
  {
   "cell_type": "code",
   "execution_count": 2,
   "metadata": {},
   "outputs": [],
   "source": [
    "#paranaesne\n",
    "league = 606\n",
    "#season - Em caso de ligas que inician em um ano e finalizam em outro, utilizar o ano de inicio\n",
    "season = 2022"
   ]
  },
  {
   "cell_type": "code",
   "execution_count": 3,
   "metadata": {},
   "outputs": [],
   "source": [
    "conn = pg.PostgreDB.connect()"
   ]
  },
  {
   "cell_type": "code",
   "execution_count": 12,
   "metadata": {},
   "outputs": [
    {
     "name": "stdout",
     "output_type": "stream",
     "text": [
      "185\n",
      "{'get': 'fixtures/rounds', 'parameters': {'season': '2022', 'league': '606'}, 'errors': [], 'results': 11, 'paging': {'current': 1, 'total': 1}, 'response': ['Group Stage - 1', 'Group Stage - 2', 'Group Stage - 3', 'Group Stage - 4', 'Group Stage - 5', 'Group Stage - 6', 'Group Stage - 7', 'Group Stage - 8', 'Group Stage - 9', 'Group Stage - 10', 'Group Stage - 11']}\n"
     ]
    }
   ],
   "source": [
    "# atualizando rounds\n",
    "%run ./round_updater.ipynb"
   ]
  },
  {
   "cell_type": "code",
   "execution_count": 13,
   "metadata": {},
   "outputs": [],
   "source": [
    "#importando fixture\n",
    "fixtures = api.FootballApi(function=f\"fixtures?league={league}&season={season}\").get_data()"
   ]
  },
  {
   "cell_type": "code",
   "execution_count": 15,
   "metadata": {},
   "outputs": [
    {
     "name": "stdout",
     "output_type": "stream",
     "text": [
      "{'fixture': {'id': 814566, 'referee': 'André Felipe Olivério', 'timezone': 'UTC', 'date': '2022-01-22T19:00:00+00:00', 'timestamp': 1642878000, 'periods': {'first': 1642878000, 'second': 1642881600}, 'venue': {'id': 230, 'name': 'Estádio Major Antônio Couto Pereira', 'city': 'Curitiba, Paraná'}, 'status': {'long': 'Match Finished', 'short': 'FT', 'elapsed': 90}}, 'league': {'id': 606, 'name': 'Paranaense - 1', 'country': 'Brazil', 'logo': 'https://media.api-sports.io/football/leagues/606.png', 'flag': 'https://media.api-sports.io/flags/br.svg', 'season': 2022, 'round': 'Group Stage - 1'}, 'teams': {'home': {'id': 147, 'name': 'Coritiba', 'logo': 'https://media.api-sports.io/football/teams/147.png', 'winner': True}, 'away': {'id': 1194, 'name': 'Cianorte', 'logo': 'https://media.api-sports.io/football/teams/1194.png', 'winner': False}}, 'goals': {'home': 1, 'away': 0}, 'score': {'halftime': {'home': 0, 'away': 0}, 'fulltime': {'home': 1, 'away': 0}, 'extratime': {'home': None, 'away': None}, 'penalty': {'home': None, 'away': None}}}\n"
     ]
    }
   ],
   "source": [
    "print(fixtures['response'][0])"
   ]
  },
  {
   "cell_type": "code",
   "execution_count": 18,
   "metadata": {},
   "outputs": [],
   "source": [
    "for fixture in fixtures['response']:\n",
    "\n",
    "    fixture_id = fixture[\"fixture\"]['id']\n",
    "    fixture_referee = fixture[\"fixture\"]['referee']\n",
    "    fixture_timezone = fixture[\"fixture\"]['timezone']\n",
    "    fixture_date = fixture[\"fixture\"]['date']\n",
    "    fixture_timestamp = fixture[\"fixture\"]['timestamp']\n",
    "    \n",
    "    fixture_periods = fixture[\"fixture\"]['periods']\n",
    "    fixture_first_half_start = fixture_periods['first']\n",
    "    fixture_second_half_start = fixture_periods['second']\n",
    "\n",
    "    team_home = fixture[\"teams\"]['home']\n",
    "    team_home_id = team_home['id']\n",
    "    team_home_winner = team_home['winner']\n",
    "    team_home_goals = fixture[\"goals\"]['home']\n",
    "\n",
    "    team_away = fixture[\"teams\"]['away']\n",
    "    team_away_id = team_away['id']\n",
    "    team_away_winner = team_away['winner']\n",
    "    team_away_goals = fixture[\"goals\"]['away']\n",
    "\n",
    "    team_detail_score = fixture[\"score\"]\n",
    "    team_home_ht_goals = team_detail_score[\"halftime\"]['home']\n",
    "    team_home_ft_goals = team_detail_score[\"fulltime\"]['home']\n",
    "    team_home_extratime_goals = team_detail_score[\"extratime\"]['home']\n",
    "    team_home_penalty_goals = team_detail_score[\"penalty\"]['home']\n",
    "    team_away_ht_goals = team_detail_score[\"halftime\"]['away']\n",
    "    team_away_ft_goals = team_detail_score[\"fulltime\"]['away']\n",
    "    team_away_extratime_goals = team_detail_score[\"extratime\"]['away']\n",
    "    team_away_penalty_goals = team_detail_score[\"penalty\"]['away']\n",
    "\n",
    "    # apenas para validacao\n",
    "    league_id = fixture[\"league\"]['id']\n",
    "\n",
    "\n"
   ]
  }
 ],
 "metadata": {
  "interpreter": {
   "hash": "dd5fdfbd46ac7f7a9ee9fa4e0ea22985d875b04013a8d231cf1e0951abec6276"
  },
  "kernelspec": {
   "display_name": "Python 3.8.10 64-bit ('cartola': venv)",
   "language": "python",
   "name": "python3"
  },
  "language_info": {
   "codemirror_mode": {
    "name": "ipython",
    "version": 3
   },
   "file_extension": ".py",
   "mimetype": "text/x-python",
   "name": "python",
   "nbconvert_exporter": "python",
   "pygments_lexer": "ipython3",
   "version": "3.8.10"
  },
  "orig_nbformat": 4
 },
 "nbformat": 4,
 "nbformat_minor": 2
}
