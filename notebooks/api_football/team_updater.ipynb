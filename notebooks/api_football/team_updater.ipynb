{
 "cells": [
  {
   "cell_type": "code",
   "execution_count": 1,
   "metadata": {},
   "outputs": [],
   "source": [
    "import ipynb.fs.full.FootballApi as api\n",
    "import ipynb.fs.full.PostgreDB as pg\n",
    "import json"
   ]
  },
  {
   "cell_type": "code",
   "execution_count": 2,
   "metadata": {},
   "outputs": [],
   "source": [
    "country = 'Brazil'"
   ]
  },
  {
   "cell_type": "code",
   "execution_count": 12,
   "metadata": {},
   "outputs": [],
   "source": [
    "conn = pg.PostgreDB.connect()"
   ]
  },
  {
   "cell_type": "code",
   "execution_count": 7,
   "metadata": {},
   "outputs": [
    {
     "name": "stdout",
     "output_type": "stream",
     "text": [
      "Country found! [Brazil][185] \n"
     ]
    }
   ],
   "source": [
    "# selecionado id do Pais\n",
    "sql = f\" SELECT name, id FROM country WHERE name = '{country}' \"\n",
    "cur = pg.PostgreDB.run_query(conn, sql)\n",
    "result = cur.fetchone()\n",
    "\n",
    "if result: \n",
    "    country_name = result[0]\n",
    "    country_id = result[1]\n",
    "\n",
    "    print(f\"Country found! [{country_name}][{country_id}] \")\n",
    "\n",
    "else:\n",
    "    print(\"COUNTRY NOT FOUND! ERROR\")"
   ]
  },
  {
   "cell_type": "code",
   "execution_count": 4,
   "metadata": {},
   "outputs": [],
   "source": [
    "#importando season\n",
    "teams = api.FootballApi(function=f\"teams?country={country}\").get_data()"
   ]
  },
  {
   "cell_type": "code",
   "execution_count": 8,
   "metadata": {},
   "outputs": [
    {
     "name": "stdout",
     "output_type": "stream",
     "text": [
      "{'team': {'id': 6, 'name': 'Brazil', 'code': 'BRA', 'country': 'Brazil', 'founded': 1914, 'national': True, 'logo': 'https://media.api-sports.io/football/teams/6.png'}, 'venue': {'id': 204, 'name': 'Estadio Jornalista Mário Filho (Maracanã)', 'address': 'Rua Professor Eurico Rabelo, Maracanã', 'city': 'Rio de Janeiro, Rio de Janeiro', 'capacity': 78838, 'surface': 'grass', 'image': 'https://media.api-sports.io/football/venues/204.png'}}\n"
     ]
    }
   ],
   "source": [
    "print(teams['response'][0])\n",
    "\n"
   ]
  },
  {
   "cell_type": "code",
   "execution_count": 13,
   "metadata": {},
   "outputs": [],
   "source": [
    "for team in teams['response']:\n",
    "\n",
    "    team_id = team[\"team\"]['id']\n",
    "    team_name = team[\"team\"]['name']\n",
    "    team_code = team[\"team\"]['code']\n",
    "    team_founded = team[\"team\"]['founded']\n",
    "    team_national = team[\"team\"]['national']\n",
    "    team_logo = team[\"team\"]['logo']\n",
    "\n",
    "    stadium_id = team[\"venue\"]['id']\n",
    "    stadium_name = team[\"venue\"]['name']\n",
    "    stadium_address = team[\"venue\"]['address']\n",
    "    stadium_city = team[\"venue\"]['city']\n",
    "    stadium_capacity = team[\"venue\"]['capacity']\n",
    "    stadium_surface = team[\"venue\"]['surface']\n",
    "    stadium_image = team[\"venue\"]['image']\n",
    "    \n",
    "    #\n",
    "    if stadium_city:\n",
    "        # no campo city, vem os dados da cidade e estado - Ex: \"Curitiba, Paraná\"\n",
    "        stadium_city_split = stadium_city.split(sep=\",\", maxsplit=1)\n",
    "        \n",
    "        city = stadium_city_split[0].strip()\n",
    "        #nem todas as cidade vem com estado, as que nao vem, setamos a cidade tambem no estado\n",
    "        if len(stadium_city_split) > 1:\n",
    "            state = stadium_city_split[1].strip()\n",
    "        else:\n",
    "            state = stadium_city_split[0].strip()\n",
    "\n",
    "        # ---------------------------------------------------------------------------\n",
    "        # inserindo cidades novas\n",
    "        # TODO on conflict UPDATE\n",
    "        sql = f\"\"\" INSERT INTO public.city (name, state, id_country) VALUES('{city}', '{state}', {country_id}) \n",
    "                    ON CONFLICT DO NOTHING \n",
    "                    RETURNING id; \"\"\"\n",
    "        #print(sql)\n",
    "        cur1 = pg.PostgreDB.run_query(conn, sql)\n",
    "        res1 = cur1.fetchone()\n",
    "        if res1:\n",
    "            id_city = res1[0]\n",
    "        else:\n",
    "            sql = f\"SELECT id FROM public.city WHERE name='{city}' AND state='{state}'\"\n",
    "            cur12 = pg.PostgreDB.run_query(conn, sql)\n",
    "            res12 = cur12.fetchone()\n",
    "            id_city = res12[0]\n",
    "    else:\n",
    "        id_city = None\n",
    "\n",
    "\n",
    "    # ---------------------------------------------------------------------------\n",
    "    if stadium_id:\n",
    "        # inserindo estadios novos\n",
    "        sql = f\"\"\" INSERT INTO public.stadium (id, name, adress, capacity, surface, image, id_city) \n",
    "                    VALUES({stadium_id} ,'{stadium_name.replace(\"'\",\"''\")}', '{stadium_address}', {stadium_capacity}, '{stadium_surface}', '{stadium_image}', {id_city})\n",
    "                    ON CONFLICT (id)\n",
    "                        DO UPDATE SET\n",
    "                            name = '{stadium_name.replace(\"'\",\"''\")}',\n",
    "                            adress = '{stadium_address}',\n",
    "                            capacity = '{stadium_capacity}',\n",
    "                            surface = '{stadium_surface}',\n",
    "                            image = '{stadium_image}'\n",
    "                    RETURNING id;\"\"\";\n",
    "        cur2 = pg.PostgreDB.run_query(conn, sql)\n",
    "        res2 = cur2.fetchone()\n",
    "        if res2:\n",
    "            id_stadium = res2[0]\n",
    "        else:\n",
    "            id_stadium = stadium_id\n",
    "\n",
    "\n",
    "    # ---------------------------------------------------------------------------\n",
    "    if not team_founded:\n",
    "        team_founded = 'NULL'\n",
    "\n",
    "    # inserindo times id, name, id_country, year_founded, national, logo, id_stadium\n",
    "    sql = f\"\"\" INSERT INTO public.team (id, name, id_country, year_founded, national, logo, id_stadium)\n",
    "                VALUES({team_id} ,'{team_name.replace(\"'\",\"''\")}', {country_id}, {team_founded}, {team_national}, '{team_logo}', {id_stadium})\n",
    "                ON CONFLICT (id)\n",
    "                    DO UPDATE SET\n",
    "                        name = '{team_name.replace(\"'\",\"''\")}',\n",
    "                        id_country = {country_id},\n",
    "                        year_founded = {team_founded},\n",
    "                        national = {team_national},\n",
    "                        logo = '{team_logo}',\n",
    "                        id_stadium = {id_stadium}\n",
    "                RETURNING id;\"\"\";\n",
    "    #print(sql)\n",
    "    cur3 = pg.PostgreDB.run_query(conn, sql)\n",
    "    res3 = cur3.fetchone()\n",
    "    \n",
    "pg.PostgreDB.commit(conn)\n",
    "pg.PostgreDB.close(conn)"
   ]
  },
  {
   "cell_type": "code",
   "execution_count": null,
   "metadata": {},
   "outputs": [],
   "source": [
    "# create table team(\n",
    "# ID INTEGER PRIMARY KEY,\n",
    "# NAME VARCHAR(200),\n",
    "# ID_COUNTRY INTEGER,\n",
    "# YEAR_FOUNDED SMALLINT,\n",
    "# national BOOL,\n",
    "# LOGO VARCHAR(250),\n",
    "# ID_STADIUM INTEGER,\n",
    "#    CONSTRAINT fk_country\n",
    "#       FOREIGN KEY(ID_COUNTRY) \n",
    "# \t  REFERENCES country(id)\n",
    "# \t  ON DELETE NO action,\n",
    "#    CONSTRAINT fk_stadium\n",
    "#       FOREIGN KEY(ID_STADIUM) \n",
    "# \t  REFERENCES stadium(id)\n",
    "# \t  ON DELETE NO ACTION\n",
    "# );\n",
    "# comment on column team.national is 'Brazil, EUA, Spain, Italy...';\n",
    "# comment on column team.LOGO is 'URL';"
   ]
  }
 ],
 "metadata": {
  "interpreter": {
   "hash": "dd5fdfbd46ac7f7a9ee9fa4e0ea22985d875b04013a8d231cf1e0951abec6276"
  },
  "kernelspec": {
   "display_name": "Python 3.8.10 64-bit ('cartola': venv)",
   "language": "python",
   "name": "python3"
  },
  "language_info": {
   "codemirror_mode": {
    "name": "ipython",
    "version": 3
   },
   "file_extension": ".py",
   "mimetype": "text/x-python",
   "name": "python",
   "nbconvert_exporter": "python",
   "pygments_lexer": "ipython3",
   "version": "3.8.10"
  },
  "orig_nbformat": 4
 },
 "nbformat": 4,
 "nbformat_minor": 2
}
