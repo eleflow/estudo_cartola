{
 "cells": [
  {
   "cell_type": "markdown",
   "metadata": {},
   "source": [
    "## API-Football\n",
    "\n",
    "Notebook responsável pelo consumo da API"
   ]
  },
  {
   "cell_type": "code",
   "execution_count": 1,
   "metadata": {},
   "outputs": [],
   "source": [
    "import requests\n",
    "from configparser import ConfigParser"
   ]
  },
  {
   "cell_type": "code",
   "execution_count": 3,
   "metadata": {},
   "outputs": [],
   "source": [
    "parser = ConfigParser()\n",
    "parser.read('keyvault.cfg')\n",
    "\n",
    "api_key = parser.get('api_football','x-rapidapi-key')"
   ]
  },
  {
   "cell_type": "code",
   "execution_count": 8,
   "metadata": {},
   "outputs": [],
   "source": [
    "class FootballApi():\n",
    "\n",
    "    def __init__(self, function: str) -> None:\n",
    "        self.function = function\n",
    "        self.base_endpoint = \"http://v3.football.api-sports.io\"\n",
    "        self.headers = {\n",
    "            'x-rapidapi-host': \"v3.football.api-sports.io\",\n",
    "            'x-rapidapi-key': api_key\n",
    "            }\n",
    "\n",
    "    def _get_endpoint(self) -> str:\n",
    "        return f\"{self.base_endpoint}/{self.function}\"\n",
    "\n",
    "    def get_data(self) -> dict:\n",
    "        endpoint = self._get_endpoint()\n",
    "        response = requests.get(endpoint, headers=self.headers)\n",
    "        return endpoint\n",
    "        #return response.json()\n"
   ]
  }
 ],
 "metadata": {
  "interpreter": {
   "hash": "dd5fdfbd46ac7f7a9ee9fa4e0ea22985d875b04013a8d231cf1e0951abec6276"
  },
  "kernelspec": {
   "display_name": "Python 3.8.10 64-bit ('cartola': venv)",
   "language": "python",
   "name": "python3"
  },
  "language_info": {
   "codemirror_mode": {
    "name": "ipython",
    "version": 3
   },
   "file_extension": ".py",
   "mimetype": "text/x-python",
   "name": "python",
   "nbconvert_exporter": "python",
   "pygments_lexer": "ipython3",
   "version": "3.8.10"
  },
  "orig_nbformat": 4
 },
 "nbformat": 4,
 "nbformat_minor": 2
}
