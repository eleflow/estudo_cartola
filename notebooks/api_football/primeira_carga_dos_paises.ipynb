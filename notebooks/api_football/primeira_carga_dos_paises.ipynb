{
 "cells": [
  {
   "cell_type": "markdown",
   "metadata": {},
   "source": [
    "### Carga inicial dos Países\n",
    "\n",
    "Rodas apenas 1x"
   ]
  },
  {
   "cell_type": "code",
   "execution_count": 1,
   "metadata": {},
   "outputs": [],
   "source": [
    "import ipynb.fs.full.FootballApi as api\n",
    "import ipynb.fs.full.PostgreDB as pg\n",
    "import json"
   ]
  },
  {
   "cell_type": "code",
   "execution_count": 15,
   "metadata": {},
   "outputs": [],
   "source": [
    "conn = pg.PostgreDB.connect()"
   ]
  },
  {
   "cell_type": "code",
   "execution_count": 3,
   "metadata": {},
   "outputs": [],
   "source": [
    "#importando countries\n",
    "countries = api.FootballApi(function=\"countries\").get_data()"
   ]
  },
  {
   "cell_type": "code",
   "execution_count": null,
   "metadata": {},
   "outputs": [],
   "source": [
    "conn = pg.PostgreDB.connect()\n",
    "for country in countries['response']:\n",
    "\n",
    "    name = country['name']\n",
    "    code = country['code']\n",
    "    flag = country['flag']\n",
    "\n",
    "    sql = f\" INSERT INTO country (name, code, flag) VALUES ('{name}','{code}','{flag}') ON CONFLICT DO NOTHING;\"\n",
    "    # print(sql)\n",
    "    pg.PostgreDB.run_query(conn, sql)\n",
    "    \n",
    "pg.PostgreDB.commit(conn)\n",
    "pg.PostgreDB.close(conn)\n",
    "\n"
   ]
  }
 ],
 "metadata": {
  "interpreter": {
   "hash": "dd5fdfbd46ac7f7a9ee9fa4e0ea22985d875b04013a8d231cf1e0951abec6276"
  },
  "kernelspec": {
   "display_name": "Python 3.8.10 64-bit ('cartola': venv)",
   "language": "python",
   "name": "python3"
  },
  "language_info": {
   "codemirror_mode": {
    "name": "ipython",
    "version": 3
   },
   "file_extension": ".py",
   "mimetype": "text/x-python",
   "name": "python",
   "nbconvert_exporter": "python",
   "pygments_lexer": "ipython3",
   "version": "3.8.10"
  },
  "orig_nbformat": 4
 },
 "nbformat": 4,
 "nbformat_minor": 2
}
