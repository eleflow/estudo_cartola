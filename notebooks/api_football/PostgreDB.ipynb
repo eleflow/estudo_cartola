{
 "cells": [
  {
   "cell_type": "markdown",
   "metadata": {},
   "source": [
    "## PostgreSQL\n",
    "\n",
    "Notebook responsável pela conexão com o banco de dados"
   ]
  },
  {
   "cell_type": "code",
   "execution_count": 1,
   "metadata": {},
   "outputs": [],
   "source": [
    "import psycopg2\n",
    "from configparser import ConfigParser"
   ]
  },
  {
   "cell_type": "code",
   "execution_count": 3,
   "metadata": {},
   "outputs": [],
   "source": [
    "parser = ConfigParser()\n",
    "parser.read('keyvault.cfg')\n",
    "\n",
    "host = parser.get('postgre','host')\n",
    "database = parser.get('postgre','database')\n",
    "user = parser.get('postgre','user')\n",
    "password = parser.get('postgre','password')"
   ]
  },
  {
   "cell_type": "code",
   "execution_count": 23,
   "metadata": {},
   "outputs": [],
   "source": [
    "class PostgreDB():\n",
    "\n",
    "    @staticmethod\n",
    "    def connect():\n",
    "        conn = psycopg2.connect(\n",
    "            host=host,\n",
    "            database=database,\n",
    "            user=user,\n",
    "            password=password)\n",
    "\n",
    "        return conn\n",
    "\n",
    "    @staticmethod\n",
    "    def test_conn(conn) -> None:\n",
    "        cur = conn.cursor()\n",
    "        cur.execute('SELECT version()')\n",
    "        db_version = cur.fetchone()\n",
    "        print(db_version)\n",
    "\n",
    "    @staticmethod\n",
    "    def run_query(conn, sql: str):\n",
    "        cur = conn.cursor()\n",
    "        cur.execute(sql)\n",
    "\n",
    "        return cur \n",
    "\n",
    "    @staticmethod\n",
    "    def commit(conn):\n",
    "        conn.commit()\n",
    "\n",
    "    @staticmethod\n",
    "    def close(conn):\n",
    "        conn.close()\n",
    "\n",
    "\n",
    "\n",
    "\n",
    "\n",
    "\n",
    "\n",
    "\n"
   ]
  },
  {
   "cell_type": "code",
   "execution_count": 21,
   "metadata": {},
   "outputs": [
    {
     "name": "stdout",
     "output_type": "stream",
     "text": [
      "('PostgreSQL 14.1 (Debian 14.1-1.pgdg110+1) on x86_64-pc-linux-gnu, compiled by gcc (Debian 10.2.1-6) 10.2.1 20210110, 64-bit',)\n"
     ]
    }
   ],
   "source": [
    "# conn = PostgreDB().connect()\n",
    "# PostgreDB().test_conn(conn)\n",
    "# PostgreDB().close(conn)"
   ]
  }
 ],
 "metadata": {
  "interpreter": {
   "hash": "dd5fdfbd46ac7f7a9ee9fa4e0ea22985d875b04013a8d231cf1e0951abec6276"
  },
  "kernelspec": {
   "display_name": "Python 3.8.10 64-bit ('cartola': venv)",
   "language": "python",
   "name": "python3"
  },
  "language_info": {
   "codemirror_mode": {
    "name": "ipython",
    "version": 3
   },
   "file_extension": ".py",
   "mimetype": "text/x-python",
   "name": "python",
   "nbconvert_exporter": "python",
   "pygments_lexer": "ipython3",
   "version": "3.8.10"
  },
  "orig_nbformat": 4
 },
 "nbformat": 4,
 "nbformat_minor": 2
}
