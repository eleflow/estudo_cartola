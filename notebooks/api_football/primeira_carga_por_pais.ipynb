{
 "cells": [
  {
   "cell_type": "markdown",
   "metadata": {},
   "source": [
    "# Carga inicial de um País\n",
    "\n",
    "> Altere a variavel abaixo com nome do País e recebe a carga inicial de:\n",
    "* Leagues"
   ]
  },
  {
   "cell_type": "code",
   "execution_count": null,
   "metadata": {},
   "outputs": [],
   "source": [
    "country = \"Brazil\""
   ]
  },
  {
   "cell_type": "code",
   "execution_count": 2,
   "metadata": {},
   "outputs": [],
   "source": [
    "import ipynb.fs.full.FootballApi as api\n",
    "import ipynb.fs.full.PostgreDB as pg"
   ]
  },
  {
   "cell_type": "code",
   "execution_count": 25,
   "metadata": {},
   "outputs": [],
   "source": [
    "conn = pg.PostgreDB.connect()"
   ]
  },
  {
   "cell_type": "code",
   "execution_count": 26,
   "metadata": {},
   "outputs": [
    {
     "name": "stdout",
     "output_type": "stream",
     "text": [
      "Country found! [Brazil][185] \n",
      "Uploading leagues...\n"
     ]
    }
   ],
   "source": [
    "sql = f\" SELECT name, id FROM country WHERE name = '{country}' \"\n",
    "cur = pg.PostgreDB.run_query(conn, sql)\n",
    "result = cur.fetchone()\n",
    "\n",
    "if result: \n",
    "    country_name = result[0]\n",
    "    country_id = result[1]\n",
    "\n",
    "    print(f\"Country found! [{country_name}][{country_id}] \")\n",
    "    print(\"Uploading leagues...\")\n",
    "    \n",
    "    #importando countries\n",
    "    leagues = api.FootballApi(function=f\"leagues?country={country_name}\").get_data()\n",
    "else:\n",
    "    print(\"COUNTRY NOT FOUND! ERROR\")\n"
   ]
  },
  {
   "cell_type": "code",
   "execution_count": 27,
   "metadata": {},
   "outputs": [],
   "source": [
    "for league in leagues['response']:\n",
    "\n",
    "    name = league[\"league\"][\"name\"]\n",
    "    type = league[\"league\"][\"type\"]\n",
    "    logo = league[\"league\"][\"logo\"]\n",
    "    id = league[\"league\"][\"id\"]\n",
    "\n",
    "    sql = f\" INSERT INTO league (name, type, logo, id, id_country) VALUES ('{name}','{type}','{logo}', {id}, {country_id}) ON CONFLICT DO NOTHING;\"\n",
    "    # print(sql)\n",
    "    pg.PostgreDB.run_query(conn, sql)\n",
    "    \n",
    "pg.PostgreDB.commit(conn)\n",
    "pg.PostgreDB.close(conn)"
   ]
  }
 ],
 "metadata": {
  "interpreter": {
   "hash": "dd5fdfbd46ac7f7a9ee9fa4e0ea22985d875b04013a8d231cf1e0951abec6276"
  },
  "kernelspec": {
   "display_name": "Python 3.8.10 64-bit ('cartola': venv)",
   "language": "python",
   "name": "python3"
  },
  "language_info": {
   "codemirror_mode": {
    "name": "ipython",
    "version": 3
   },
   "file_extension": ".py",
   "mimetype": "text/x-python",
   "name": "python",
   "nbconvert_exporter": "python",
   "pygments_lexer": "ipython3",
   "version": "3.8.10"
  },
  "orig_nbformat": 4
 },
 "nbformat": 4,
 "nbformat_minor": 2
}
