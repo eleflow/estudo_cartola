{
 "cells": [
  {
   "cell_type": "code",
   "execution_count": 8,
   "metadata": {},
   "outputs": [],
   "source": [
    "import ipynb.fs.full.FootballApi as api\n",
    "import ipynb.fs.full.PostgreDB as pg"
   ]
  },
  {
   "cell_type": "code",
   "execution_count": 2,
   "metadata": {},
   "outputs": [],
   "source": [
    "season = 2022\n",
    "id_league = 606"
   ]
  },
  {
   "cell_type": "code",
   "execution_count": 4,
   "metadata": {},
   "outputs": [],
   "source": [
    "conn = pg.PostgreDB.connect()"
   ]
  },
  {
   "cell_type": "code",
   "execution_count": 5,
   "metadata": {},
   "outputs": [
    {
     "name": "stdout",
     "output_type": "stream",
     "text": [
      "185\n"
     ]
    }
   ],
   "source": [
    "sql = f\" SELECT id_country FROM public.league WHERE id={id_league}\"\n",
    "# print(sql)\n",
    "cur = pg.PostgreDB.run_query(conn, sql)\n",
    "result = cur.fetchone()\n",
    "id_country = result[0]\n",
    "print(id_country)\n"
   ]
  },
  {
   "cell_type": "code",
   "execution_count": 9,
   "metadata": {},
   "outputs": [],
   "source": [
    "#importando rounds\n",
    "rounds = api.FootballApi(function=f\"fixtures/rounds?season={season}&league={id_league}\").get_data()"
   ]
  },
  {
   "cell_type": "code",
   "execution_count": 10,
   "metadata": {},
   "outputs": [
    {
     "name": "stdout",
     "output_type": "stream",
     "text": [
      "{'get': 'fixtures/rounds', 'parameters': {'season': '2022', 'league': '606'}, 'errors': [], 'results': 11, 'paging': {'current': 1, 'total': 1}, 'response': ['Group Stage - 1', 'Group Stage - 2', 'Group Stage - 3', 'Group Stage - 4', 'Group Stage - 5', 'Group Stage - 6', 'Group Stage - 7', 'Group Stage - 8', 'Group Stage - 9', 'Group Stage - 10', 'Group Stage - 11']}\n"
     ]
    }
   ],
   "source": [
    "print(rounds)"
   ]
  },
  {
   "cell_type": "code",
   "execution_count": 14,
   "metadata": {},
   "outputs": [],
   "source": [
    "for round in rounds['response']:\n",
    "\n",
    "    sql = f\" INSERT INTO round (ID_LEAGUE,SEASON,NAME,ID_COUNTRY) VALUES ({id_league},{season},'{round}',{id_country}) ON CONFLICT DO NOTHING; \"\n",
    "    # print(sql)\n",
    "    pg.PostgreDB.run_query(conn, sql)\n",
    "    \n",
    "pg.PostgreDB.commit(conn)\n",
    "pg.PostgreDB.close(conn)"
   ]
  },
  {
   "cell_type": "code",
   "execution_count": null,
   "metadata": {},
   "outputs": [],
   "source": []
  }
 ],
 "metadata": {
  "interpreter": {
   "hash": "dd5fdfbd46ac7f7a9ee9fa4e0ea22985d875b04013a8d231cf1e0951abec6276"
  },
  "kernelspec": {
   "display_name": "Python 3.8.10 64-bit ('cartola': venv)",
   "language": "python",
   "name": "python3"
  },
  "language_info": {
   "codemirror_mode": {
    "name": "ipython",
    "version": 3
   },
   "file_extension": ".py",
   "mimetype": "text/x-python",
   "name": "python",
   "nbconvert_exporter": "python",
   "pygments_lexer": "ipython3",
   "version": "3.8.10"
  },
  "orig_nbformat": 4
 },
 "nbformat": 4,
 "nbformat_minor": 2
}
