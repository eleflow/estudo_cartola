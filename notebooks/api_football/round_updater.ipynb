{
 "cells": [
  {
   "cell_type": "markdown",
   "metadata": {},
   "source": [
    "## Round Updater\n",
    "\n",
    "Notebook responsável por atualizar as fases de uma Copa.  \n",
    "  \n",
    "Para ligas, como campeonato Brasileiro, após rodar a primeira vez, não precisa mais ser rodado.   \n",
    "Para copas, como Libertadores, que tem matata-mata, é preciso rodar para que sejam adicionadas as rodadas seguintes que irão acontecer.\n",
    "\n",
    "- Chamado pelo fixture_updater\n"
   ]
  },
  {
   "cell_type": "code",
   "execution_count": 22,
   "metadata": {},
   "outputs": [],
   "source": [
    "season = 2021\n",
    "id_league = 71"
   ]
  },
  {
   "cell_type": "code",
   "execution_count": 23,
   "metadata": {},
   "outputs": [],
   "source": [
    "import ipynb.fs.full.FootballApi as api\n",
    "import ipynb.fs.full.PostgreDB as pg"
   ]
  },
  {
   "cell_type": "code",
   "execution_count": 24,
   "metadata": {},
   "outputs": [],
   "source": [
    "conn = pg.PostgreDB.connect()"
   ]
  },
  {
   "cell_type": "code",
   "execution_count": 25,
   "metadata": {},
   "outputs": [
    {
     "name": "stdout",
     "output_type": "stream",
     "text": [
      "185\n"
     ]
    }
   ],
   "source": [
    "sql = f\" SELECT id_country FROM league WHERE id={id_league}\"\n",
    "# print(sql)\n",
    "cur = pg.PostgreDB.run_query(conn, sql)\n",
    "result = cur.fetchone()\n",
    "id_country = result[0]\n",
    "print(id_country)\n"
   ]
  },
  {
   "cell_type": "code",
   "execution_count": 26,
   "metadata": {},
   "outputs": [],
   "source": [
    "#importando rounds\n",
    "rounds = api.FootballApi(function=f\"fixtures/rounds?season={season}&league={id_league}\").get_data()"
   ]
  },
  {
   "cell_type": "code",
   "execution_count": 27,
   "metadata": {},
   "outputs": [
    {
     "name": "stdout",
     "output_type": "stream",
     "text": [
      "{'get': 'fixtures/rounds', 'parameters': {'season': '2021', 'league': '71'}, 'errors': [], 'results': 38, 'paging': {'current': 1, 'total': 1}, 'response': ['Regular Season - 1', 'Regular Season - 2', 'Regular Season - 3', 'Regular Season - 4', 'Regular Season - 5', 'Regular Season - 6', 'Regular Season - 7', 'Regular Season - 8', 'Regular Season - 9', 'Regular Season - 10', 'Regular Season - 11', 'Regular Season - 12', 'Regular Season - 13', 'Regular Season - 14', 'Regular Season - 15', 'Regular Season - 16', 'Regular Season - 17', 'Regular Season - 18', 'Regular Season - 19', 'Regular Season - 20', 'Regular Season - 21', 'Regular Season - 22', 'Regular Season - 23', 'Regular Season - 24', 'Regular Season - 25', 'Regular Season - 26', 'Regular Season - 27', 'Regular Season - 28', 'Regular Season - 34', 'Regular Season - 29', 'Regular Season - 31', 'Regular Season - 30', 'Regular Season - 32', 'Regular Season - 33', 'Regular Season - 35', 'Regular Season - 36', 'Regular Season - 37', 'Regular Season - 38']}\n"
     ]
    }
   ],
   "source": [
    "print(rounds)"
   ]
  },
  {
   "cell_type": "code",
   "execution_count": 28,
   "metadata": {},
   "outputs": [],
   "source": [
    "for round in rounds['response']:\n",
    "\n",
    "    sql = f\" INSERT INTO round (ID_LEAGUE,SEASON,NAME,ID_COUNTRY) VALUES ({id_league},{season},'{round}',{id_country}) ON CONFLICT DO NOTHING; \"\n",
    "    # print(sql)\n",
    "    pg.PostgreDB.run_query(conn, sql)\n",
    "    \n",
    "pg.PostgreDB.commit(conn)\n",
    "pg.PostgreDB.close(conn)"
   ]
  },
  {
   "cell_type": "code",
   "execution_count": null,
   "metadata": {},
   "outputs": [],
   "source": []
  }
 ],
 "metadata": {
  "interpreter": {
   "hash": "dd5fdfbd46ac7f7a9ee9fa4e0ea22985d875b04013a8d231cf1e0951abec6276"
  },
  "kernelspec": {
   "display_name": "Python 3.8.10 64-bit ('cartola': venv)",
   "language": "python",
   "name": "python3"
  },
  "language_info": {
   "codemirror_mode": {
    "name": "ipython",
    "version": 3
   },
   "file_extension": ".py",
   "mimetype": "text/x-python",
   "name": "python",
   "nbconvert_exporter": "python",
   "pygments_lexer": "ipython3",
   "version": "3.8.10"
  },
  "orig_nbformat": 4
 },
 "nbformat": 4,
 "nbformat_minor": 2
}
