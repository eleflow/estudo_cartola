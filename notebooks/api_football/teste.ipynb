{
 "cells": [
  {
   "cell_type": "code",
   "execution_count": 24,
   "metadata": {},
   "outputs": [],
   "source": [
    "import ipynb.fs.full.FootballApi as api\n",
    "import ipynb.fs.full.PostgreDB as pg"
   ]
  },
  {
   "cell_type": "code",
   "execution_count": null,
   "metadata": {},
   "outputs": [],
   "source": [
    "print(api.FootballApi(function=\"countries\").get_data())"
   ]
  },
  {
   "cell_type": "code",
   "execution_count": 26,
   "metadata": {},
   "outputs": [
    {
     "ename": "AttributeError",
     "evalue": "'PostgreDB' object has no attribute 'connect'",
     "output_type": "error",
     "traceback": [
      "\u001b[0;31m---------------------------------------------------------------------------\u001b[0m",
      "\u001b[0;31mAttributeError\u001b[0m                            Traceback (most recent call last)",
      "Input \u001b[0;32mIn [26]\u001b[0m, in \u001b[0;36m<module>\u001b[0;34m\u001b[0m\n\u001b[0;32m----> 1\u001b[0m conn \u001b[38;5;241m=\u001b[39m \u001b[43mpg\u001b[49m\u001b[38;5;241;43m.\u001b[39;49m\u001b[43mPostgreDB\u001b[49m\u001b[43m(\u001b[49m\u001b[43m)\u001b[49m\u001b[38;5;241;43m.\u001b[39;49m\u001b[43mconnect\u001b[49m()\n\u001b[1;32m      2\u001b[0m cur \u001b[38;5;241m=\u001b[39m pg\u001b[38;5;241m.\u001b[39mPostgreDB()\u001b[38;5;241m.\u001b[39mrun_query(conn, \u001b[38;5;124m\"\u001b[39m\u001b[38;5;124mSELECT CURRENT_DATE\u001b[39m\u001b[38;5;124m\"\u001b[39m)\n\u001b[1;32m      3\u001b[0m r \u001b[38;5;241m=\u001b[39m cur\u001b[38;5;241m.\u001b[39mfetchone()\n",
      "\u001b[0;31mAttributeError\u001b[0m: 'PostgreDB' object has no attribute 'connect'"
     ]
    }
   ],
   "source": [
    "conn = pg.PostgreDB().connect()\n",
    "cur = pg.PostgreDB().run_query(conn, \"SELECT CURRENT_DATE\")\n",
    "r = cur.fetchone()\n",
    "print(r[0])\n"
   ]
  }
 ],
 "metadata": {
  "interpreter": {
   "hash": "dd5fdfbd46ac7f7a9ee9fa4e0ea22985d875b04013a8d231cf1e0951abec6276"
  },
  "kernelspec": {
   "display_name": "Python 3.8.10 64-bit ('cartola': venv)",
   "language": "python",
   "name": "python3"
  },
  "language_info": {
   "codemirror_mode": {
    "name": "ipython",
    "version": 3
   },
   "file_extension": ".py",
   "mimetype": "text/x-python",
   "name": "python",
   "nbconvert_exporter": "python",
   "pygments_lexer": "ipython3",
   "version": "3.8.10"
  },
  "orig_nbformat": 4
 },
 "nbformat": 4,
 "nbformat_minor": 2
}
