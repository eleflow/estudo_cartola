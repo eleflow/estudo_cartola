{
 "cells": [
  {
   "cell_type": "markdown",
   "metadata": {},
   "source": [
    "## PLAYER STATISTICS FIXTURE UPDATE  \n",
    "Obrigatorio passar FIXTURE_ID   \n",
    "Atualizado:\n",
    "<ul>\n",
    "  <li>player_statistics por partida</li>\n",
    "</ul>\n",
    "\n",
    "> #TODO  \n",
    ">  \n",
    "> -> on conflict, atualizar alguns campos\n",
    "> .\n"
   ]
  },
  {
   "cell_type": "code",
   "execution_count": 1,
   "metadata": {},
   "outputs": [],
   "source": [
    "import ipynb.fs.full.FootballApi as api\n",
    "import ipynb.fs.full.PostgreDB as pg"
   ]
  },
  {
   "cell_type": "code",
   "execution_count": 2,
   "metadata": {},
   "outputs": [],
   "source": [
    "id_fixture = 689256"
   ]
  },
  {
   "cell_type": "code",
   "execution_count": 3,
   "metadata": {},
   "outputs": [],
   "source": [
    "fixture_players_statistcs = api.FootballApi(function=f\"fixtures/players?fixture={id_fixture}\").get_data()\n"
   ]
  },
  {
   "cell_type": "code",
   "execution_count": 11,
   "metadata": {},
   "outputs": [
    {
     "name": "stdout",
     "output_type": "stream",
     "text": [
      "{'player': {'id': 10112, 'name': 'Santos', 'photo': 'https://media.api-sports.io/football/players/10112.png'}, 'statistics': [{'games': {'minutes': 90, 'number': 1, 'position': 'G', 'rating': '7.3', 'captain': False, 'substitute': False}, 'offsides': None, 'shots': {'total': None, 'on': None}, 'goals': {'total': None, 'conceded': 0, 'assists': None, 'saves': 1}, 'passes': {'total': 18, 'key': None, 'accuracy': '17'}, 'tackles': {'total': None, 'blocks': None, 'interceptions': None}, 'duels': {'total': None, 'won': None}, 'dribbles': {'attempts': None, 'success': None, 'past': None}, 'fouls': {'drawn': None, 'committed': None}, 'cards': {'yellow': 0, 'red': 0}, 'penalty': {'won': None, 'commited': None, 'scored': 0, 'missed': 0, 'saved': 0}}]}\n"
     ]
    }
   ],
   "source": [
    "print(fixture_players_statistcs['response'][0]['players'][0])"
   ]
  },
  {
   "cell_type": "code",
   "execution_count": null,
   "metadata": {},
   "outputs": [],
   "source": []
  }
 ],
 "metadata": {
  "interpreter": {
   "hash": "dd5fdfbd46ac7f7a9ee9fa4e0ea22985d875b04013a8d231cf1e0951abec6276"
  },
  "kernelspec": {
   "display_name": "Python 3.8.10 64-bit ('cartola': venv)",
   "language": "python",
   "name": "python3"
  },
  "language_info": {
   "name": "python",
   "version": "3.8.10"
  },
  "orig_nbformat": 4
 },
 "nbformat": 4,
 "nbformat_minor": 2
}
