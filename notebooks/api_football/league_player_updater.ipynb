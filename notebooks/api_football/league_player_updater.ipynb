{
 "cells": [
  {
   "cell_type": "code",
   "execution_count": 114,
   "metadata": {},
   "outputs": [],
   "source": [
    "id_league = 71\n",
    "season = 2021"
   ]
  },
  {
   "cell_type": "code",
   "execution_count": 3,
   "metadata": {},
   "outputs": [],
   "source": [
    "import ipynb.fs.full.FootballApi as api\n",
    "import ipynb.fs.full.PostgreDB as pg"
   ]
  },
  {
   "cell_type": "code",
   "execution_count": 99,
   "metadata": {},
   "outputs": [],
   "source": [
    "conn = pg.PostgreDB.connect()"
   ]
  },
  {
   "cell_type": "code",
   "execution_count": 181,
   "metadata": {},
   "outputs": [],
   "source": [
    "#importando rounds\n",
    "league_players = api.FootballApi(function=f\"players?season={season}&league={id_league}&team=134&page=4\").get_data()"
   ]
  },
  {
   "cell_type": "code",
   "execution_count": 182,
   "metadata": {},
   "outputs": [],
   "source": [
    "#print(players)\n",
    "\n",
    "result_per_page = league_players[\"results\"]\n",
    "paging = league_players[\"paging\"]\n",
    "current = paging[\"current\"]\n",
    "total = paging[\"total\"]\n",
    "page = current\n",
    "\n",
    "#print(f'Pagina {current}/{total} - [{result_per_page} rows]')"
   ]
  },
  {
   "cell_type": "code",
   "execution_count": 169,
   "metadata": {},
   "outputs": [
    {
     "name": "stdout",
     "output_type": "stream",
     "text": [
      "{'player': {'id': 9726, 'name': 'Renato Kayzer', 'firstname': 'Renato', 'lastname': 'Kayzer de Souza', 'age': 26, 'birth': {'date': '1996-02-17', 'place': 'Tupãssi', 'country': 'Brazil'}, 'nationality': 'Brazil', 'height': '178 cm', 'weight': '68 kg', 'injured': False, 'photo': 'https://media.api-sports.io/football/players/9726.png'}, 'statistics': [{'team': {'id': 134, 'name': 'Atletico Paranaense', 'logo': 'https://media.api-sports.io/football/teams/134.png'}, 'league': {'id': 71, 'name': 'Serie A', 'country': 'Brazil', 'logo': 'https://media.api-sports.io/football/leagues/71.png', 'flag': 'https://media.api-sports.io/flags/br.svg', 'season': 2021}, 'games': {'appearences': 28, 'lineups': 14, 'minutes': 1329, 'number': None, 'position': 'Attacker', 'rating': '6.642857', 'captain': False}, 'substitutes': {'in': 14, 'out': 9, 'bench': 16}, 'shots': {'total': 25, 'on': 12}, 'goals': {'total': 6, 'conceded': 0, 'assists': 1, 'saves': None}, 'passes': {'total': 203, 'key': 7, 'accuracy': 5}, 'tackles': {'total': 6, 'blocks': None, 'interceptions': 6}, 'duels': {'total': 164, 'won': 63}, 'dribbles': {'attempts': 19, 'success': 10, 'past': None}, 'fouls': {'drawn': 21, 'committed': 28}, 'cards': {'yellow': 4, 'yellowred': 0, 'red': 0}, 'penalty': {'won': None, 'commited': None, 'scored': 0, 'missed': 0, 'saved': None}}]}\n"
     ]
    }
   ],
   "source": [
    "a = league_players['response'][1]['player']\n",
    "print(a)"
   ]
  },
  {
   "cell_type": "code",
   "execution_count": 67,
   "metadata": {},
   "outputs": [
    {
     "data": {
      "text/plain": [
       "list"
      ]
     },
     "execution_count": 67,
     "metadata": {},
     "output_type": "execute_result"
    }
   ],
   "source": [
    "a = league_players['response'][:1]\n",
    "type(a)\n",
    "#print(a)\n",
    "#type(a[0])\n"
   ]
  },
  {
   "cell_type": "code",
   "execution_count": 255,
   "metadata": {},
   "outputs": [
    {
     "name": "stdout",
     "output_type": "stream",
     "text": [
      "{'id': 9980, 'name': 'Felipe Aguilar Mendoza', 'firstname': 'Felipe', 'lastname': 'Aguilar Mendoza', 'birth_date': '1993-01-20', 'country': 195, 'nationality': 195, 'height': 191, 'weight': 85, 'injured': False, 'photo': 'https://media.api-sports.io/football/players/9980.png'}\n",
      "{'id': 9316, 'name': 'Nicolas Vichiatto da Silva', 'firstname': 'Nicolas', 'lastname': 'Vichiatto da Silva', 'birth_date': '1997-02-24', 'country': 185, 'nationality': 185, 'height': 182, 'weight': 79, 'injured': False, 'photo': 'https://media.api-sports.io/football/players/9316.png'}\n",
      "{'id': 53954, 'name': 'Denner Fernando Melz', 'firstname': 'Denner Fernando', 'lastname': 'Melz', 'birth_date': '1999-12-30', 'country': 185, 'nationality': 185, 'height': 183, 'weight': 78, 'injured': False, 'photo': 'https://media.api-sports.io/football/players/53954.png'}\n",
      "{'id': 10146, 'name': 'Jáderson Flores dos Reis', 'firstname': 'Jáderson', 'lastname': 'Flores dos Reis', 'birth_date': '2000-08-12', 'country': 185, 'nationality': 185, 'height': 171, 'weight': 79, 'injured': False, 'photo': 'https://media.api-sports.io/football/players/10146.png'}\n",
      "{'id': 10112, 'name': 'Santos', 'firstname': 'Aderbar', 'lastname': 'Melo dos Santos Neto', 'birth_date': '1990-03-17', 'country': 185, 'nationality': 185, 'height': 192, 'weight': 82, 'injured': False, 'photo': 'https://media.api-sports.io/football/players/10112.png'}\n",
      "{'id': 9700, 'name': 'Abner', 'firstname': 'Abner Vinícius', 'lastname': 'da Silva Santos', 'birth_date': '2000-05-27', 'country': 185, 'nationality': 185, 'height': 182, 'weight': 75, 'injured': False, 'photo': 'https://media.api-sports.io/football/players/9700.png'}\n"
     ]
    }
   ],
   "source": [
    "import json\n",
    "players = league_players['response']\n",
    "\n",
    "# dicionarios que vão conter os dados exatos e limpos para serem inseridos no banco\n",
    "player_data = {}\n",
    "statistic_data = {}\n",
    "\n",
    "# função para descobrir o id country\n",
    "def get_id_country(country:str) -> int:\n",
    "    sql = f\" SELECT id FROM country WHERE name = '{country}' \"\n",
    "    cur = pg.PostgreDB.run_query(conn, sql)\n",
    "    result = cur.fetchone()\n",
    "\n",
    "    if result: \n",
    "        id_country = result[0]\n",
    "    else:\n",
    "        id_country = 0\n",
    "\n",
    "    return int(id_country)\n",
    "\n",
    "# funcao para limpar ints que vem com string (Ex: 191cm -> 191)\n",
    "def remove_string(my_string:str) -> int:\n",
    "    only_int = []\n",
    "    for i in my_string:\n",
    "        if i.isdigit():\n",
    "            only_int.append(i)\n",
    "\n",
    "    result = ''.join(only_int)\n",
    "    return int(result)\n",
    "\n",
    "\n",
    "for player in players:\n",
    "    #print(player)\n",
    "    for (k, v) in player.items():\n",
    "        if k == 'player':\n",
    "            player_data['id'] = v['id']\n",
    "            player_data['name'] = v['name']\n",
    "            player_data['firstname'] = v['firstname']\n",
    "            player_data['lastname'] = v['lastname']\n",
    "            player_data['birth_date'] = v['birth']['date']\n",
    "            player_data['country'] = get_id_country(v['birth']['country'])\n",
    "            player_data['nationality'] = get_id_country(v['nationality'])\n",
    "            player_data['height'] = remove_string(v['height'])\n",
    "            player_data['weight'] = remove_string(v['weight'])\n",
    "            player_data['injured'] = v['injured']\n",
    "            player_data['photo'] = v['photo']\n",
    "            #print(player_data)\n",
    "        elif k == 'statistics':\n",
    "            pass\n",
    "\n",
    "\n",
    "\n"
   ]
  },
  {
   "cell_type": "code",
   "execution_count": 15,
   "metadata": {},
   "outputs": [
    {
     "name": "stdout",
     "output_type": "stream",
     "text": [
      "Pagina 1/20 - [20 rows]\n",
      "Pagina 2/20 - [20 rows]\n",
      "Pagina 3/20 - [20 rows]\n",
      "Pagina 4/20 - [20 rows]\n",
      "Pagina 5/20 - [20 rows]\n",
      "Pagina 6/20 - [20 rows]\n",
      "Pagina 7/20 - [20 rows]\n",
      "Pagina 8/20 - [20 rows]\n",
      "Pagina 9/20 - [20 rows]\n",
      "Pagina 10/20 - [20 rows]\n",
      "Pagina 11/20 - [20 rows]\n",
      "Pagina 12/20 - [20 rows]\n",
      "Pagina 13/20 - [20 rows]\n",
      "Pagina 14/20 - [20 rows]\n",
      "Pagina 15/20 - [20 rows]\n",
      "Pagina 16/20 - [20 rows]\n",
      "Pagina 17/20 - [20 rows]\n",
      "Pagina 18/20 - [20 rows]\n",
      "Pagina 19/20 - [20 rows]\n",
      "Pagina 20/20 - [20 rows]\n"
     ]
    }
   ],
   "source": [
    "while current <= total:\n",
    "    players = api.FootballApi(function=f\"players?season={season}&league={id_league}&page={page}\").get_data()\n",
    "    print(f'Pagina {page}/{total} - [{result_per_page} rows]')\n",
    "    page = current + 1\n",
    "\n",
    "    \n",
    "\n",
    "    \n",
    "    \n",
    "\n"
   ]
  }
 ],
 "metadata": {
  "interpreter": {
   "hash": "dd5fdfbd46ac7f7a9ee9fa4e0ea22985d875b04013a8d231cf1e0951abec6276"
  },
  "kernelspec": {
   "display_name": "Python 3.8.10 64-bit ('cartola': venv)",
   "language": "python",
   "name": "python3"
  },
  "language_info": {
   "codemirror_mode": {
    "name": "ipython",
    "version": 3
   },
   "file_extension": ".py",
   "mimetype": "text/x-python",
   "name": "python",
   "nbconvert_exporter": "python",
   "pygments_lexer": "ipython3",
   "version": "3.8.10"
  },
  "orig_nbformat": 4
 },
 "nbformat": 4,
 "nbformat_minor": 2
}
