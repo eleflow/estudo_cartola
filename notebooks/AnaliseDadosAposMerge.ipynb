{
 "cells": [
  {
   "cell_type": "code",
   "execution_count": null,
   "id": "ba20dc27",
   "metadata": {},
   "outputs": [],
   "source": [
    "import timeit\n",
    "import requests\n",
    "import json\n",
    "import pandas as pd\n",
    "from sqlalchemy import create_engine\n",
    "import sqlalchemy\n",
    "import json\n",
    "import numpy as np\n",
    "import csv\n",
    "from pandas.io.json import json_normalize\n",
    "import matplotlib.pyplot as plt\n",
    "%matplotlib inline"
   ]
  },
  {
   "cell_type": "code",
   "execution_count": null,
   "id": "0329c378",
   "metadata": {},
   "outputs": [],
   "source": [
    "user='postgres'\n",
    "passwd='postgres'\n",
    "host='postgresql'\n",
    "port='5432'\n",
    "db='cartola'\n",
    "url = 'postgresql://{user}:{passwd}@{host}:{port}/{db}'.format(user=user, passwd=passwd, host=host, port=port, db=db)\n",
    "print(url)\n",
    "\n",
    "#engine = create_engine(url)"
   ]
  },
  {
   "cell_type": "code",
   "execution_count": null,
   "id": "33911259",
   "metadata": {},
   "outputs": [],
   "source": [
    "def create_database_session():\n",
    "    #engine = create_engine(f'postgresql://{user}:{passwd}@{address}/{db_name}')\n",
    "    engine = create_engine(url)\n",
    "    return engine"
   ]
  },
  {
   "cell_type": "code",
   "execution_count": null,
   "id": "8e22d757",
   "metadata": {},
   "outputs": [],
   "source": [
    "def erase_data(engine):\n",
    "    engine.execute('TRUNCATE match')"
   ]
  },
  {
   "cell_type": "code",
   "execution_count": null,
   "id": "ad126f99",
   "metadata": {},
   "outputs": [],
   "source": [
    "def create_table(engine):\n",
    "    engine.execute('''\n",
    "        CREATE TABLE IF NOT EXISTS match (\n",
    "            match_id integer, \n",
    "            turn smallint,\n",
    "            home_id smallint,\n",
    "            visitor_id smallint,\n",
    "            date varchar(20),\n",
    "            timestamp bigint,\n",
    "            local varchar(80),\n",
    "            valid boolean,\n",
    "            home_goal smallint,\n",
    "            visitor_goal smallint\n",
    "        )'''\n",
    "    )"
   ]
  },
  {
   "cell_type": "code",
   "execution_count": null,
   "id": "a061f188",
   "metadata": {},
   "outputs": [],
   "source": [
    "def save_data(engine, dataframe):\n",
    "    dataframe.to_sql('match', con=engine, index=False, if_exists='replace')"
   ]
  },
  {
   "cell_type": "code",
   "execution_count": null,
   "id": "122457f9",
   "metadata": {},
   "outputs": [],
   "source": [
    "def count_data(engine):\n",
    "    return engine.execute('SELECT count(*) FROM match')"
   ]
  },
  {
   "cell_type": "markdown",
   "id": "087cdb58",
   "metadata": {},
   "source": [
    "# Carregando dados dos jogos"
   ]
  },
  {
   "cell_type": "code",
   "execution_count": null,
   "id": "5cde6174",
   "metadata": {},
   "outputs": [],
   "source": [
    "start = timeit.default_timer()"
   ]
  },
  {
   "cell_type": "code",
   "execution_count": null,
   "id": "527862f0",
   "metadata": {},
   "outputs": [],
   "source": [
    "home_page = requests.get('https://api.cartolafc.globo.com/partidas')\n",
    "home_json = json.loads(home_page.content)\n",
    "last_turn = home_json['rodada']\n",
    "print(f'Rodada atual: {last_turn}')"
   ]
  },
  {
   "cell_type": "code",
   "execution_count": null,
   "id": "d1d82957",
   "metadata": {},
   "outputs": [],
   "source": [
    "matches = []\n",
    "for turn in range(1, last_turn):\n",
    "    turn_page = requests.get(f'https://api.cartolafc.globo.com/partidas/{turn}')\n",
    "    turn_json = json.loads(turn_page.content)\n",
    "    turn_matches = turn_json['partidas']\n",
    "    for match_data in turn_matches:\n",
    "        match = {\n",
    "            'match_id': match_data['partida_id'],\n",
    "            'turn': turn,\n",
    "            'home_id': match_data['clube_casa_id'],\n",
    "            'visitor_id': match_data['clube_visitante_id'],\n",
    "            'date': match_data['partida_data'],\n",
    "            'timestamp': match_data['timestamp'],\n",
    "            'local': match_data['local'],\n",
    "            'valid': match_data['valida'],\n",
    "            'home_goal': match_data['placar_oficial_mandante'],\n",
    "            'visitor_goal': match_data['placar_oficial_visitante'],\n",
    "            \n",
    "        }\n",
    "        matches.append(match)"
   ]
  },
  {
   "cell_type": "code",
   "execution_count": null,
   "id": "0a4163e3",
   "metadata": {},
   "outputs": [],
   "source": [
    "df_matches = pd.DataFrame(matches)\n",
    "df_matches.shape"
   ]
  },
  {
   "cell_type": "code",
   "execution_count": null,
   "id": "f333d521",
   "metadata": {},
   "outputs": [],
   "source": [
    "engine = create_database_session()\n",
    "#create_table(engine)\n",
    "erase_data(engine)\n",
    "save_data(engine, df_matches)\n",
    "count_data(engine).fetchall()"
   ]
  },
  {
   "cell_type": "code",
   "execution_count": null,
   "id": "0e1e89f9",
   "metadata": {},
   "outputs": [],
   "source": [
    "end = timeit.default_timer()\n",
    "print ('Duração: %.f segundo(os)' % ((end - start) ))"
   ]
  },
  {
   "cell_type": "code",
   "execution_count": null,
   "id": "8322f18b",
   "metadata": {},
   "outputs": [],
   "source": []
  },
  {
   "cell_type": "markdown",
   "id": "c5fc0915",
   "metadata": {},
   "source": [
    "# Carregando dados de jogadores"
   ]
  },
  {
   "cell_type": "code",
   "execution_count": null,
   "id": "63ee7f68",
   "metadata": {},
   "outputs": [],
   "source": [
    "# Obtendo os dados pela API\n",
    "def getDadosRodada (rodada):\n",
    "    url = 'https://api.cartolafc.globo.com/atletas/pontuados/{}'.format(rodada)\n",
    "    r = requests.get(url)\n",
    "    json_dados_rodada = r.json()\n",
    "    numero_rodada = json_dados_rodada['rodada']\n",
    "    total_atletas_rodada = json_dados_rodada['total_atletas']\n",
    "    df_atletas = pd.DataFrame.from_dict(json_dados_rodada['atletas'], orient='index')\n",
    "    df_atletas['id_atleta'] = df_atletas.index\n",
    "    json_struct = json.loads(df_atletas.to_json(orient=\"records\"))    \n",
    "    #df_atletas_flat = pd.io.json.json_normalize(json_struct) #use pd.io.json\n",
    "    df_atletas_flat = pd.json_normalize(json_struct) #use pd.io.json\n",
    "    df_atletas_flat.fillna(0, inplace=True)\n",
    "    return df_atletas_flat, numero_rodada, total_atletas_rodada"
   ]
  },
  {
   "cell_type": "code",
   "execution_count": null,
   "id": "04f5f6d3",
   "metadata": {},
   "outputs": [],
   "source": [
    "#verificacoes\n",
    "def verificaDados(df_atletas_flat, numero_rodada, total_atletas_rodada):\n",
    "    #verifica se o numero de atletas esta ok\n",
    "    if df_atletas_flat.shape[0] != total_atletas_rodada:\n",
    "        print('Erro no numero de atletas da rodada! apurado:{}, indicado:{}'.format(df_atletas_flat.shape[0], total_atletas_rodada))\n",
    "        return False\n",
    "    else:\n",
    "        print('Verificacao numero de atletas da rodada ok! apurado:{}, indicado:{}'.format(df_atletas_flat.shape[0], total_atletas_rodada))\n",
    "\n",
    "    #verifica se possui todos os scouts\n",
    "    for i in scouts_possiveis:\n",
    "        if i not in df_atletas_flat.columns:\n",
    "            print('Coluna {} nao encontrada. Adicionando'.format(i))\n",
    "            df_atletas_flat[i] = 0\n",
    "\n",
    "    #verifica se a pontuacao dos atletas esta ok\n",
    "    df_atletas_flat['pontuacao_calculada']=\\\n",
    "        df_atletas_flat['scout.G']*8.0+\\\n",
    "        df_atletas_flat['scout.A']*5.0+\\\n",
    "        df_atletas_flat['scout.FT']*3.0+\\\n",
    "        df_atletas_flat['scout.FD']*1.2+\\\n",
    "        df_atletas_flat['scout.FF']*0.8+\\\n",
    "        df_atletas_flat['scout.FS']*0.5+\\\n",
    "        df_atletas_flat['scout.PS']*1.0+\\\n",
    "        df_atletas_flat['scout.PP']*-4.0+\\\n",
    "        df_atletas_flat['scout.I']*-0.5+\\\n",
    "        df_atletas_flat['scout.PI']*-0.1+\\\n",
    "        df_atletas_flat['scout.DP']*7.0+\\\n",
    "        df_atletas_flat['scout.SG']*5.0+\\\n",
    "        df_atletas_flat['scout.DE']*1.0+\\\n",
    "        df_atletas_flat['scout.DS']*1.0+\\\n",
    "        df_atletas_flat['scout.CA']*-2.0+\\\n",
    "        df_atletas_flat['scout.GS']*-1.0+\\\n",
    "        df_atletas_flat['scout.FC']*-0.5+\\\n",
    "        df_atletas_flat['scout.PC']*-1.0+\\\n",
    "        df_atletas_flat['scout.GC']*-5.0+\\\n",
    "        df_atletas_flat['scout.CV']*-5.0\n",
    "\n",
    "    df_atletas_flat['diff_pontuacao'] = abs(df_atletas_flat['pontuacao_calculada']-df_atletas_flat['pontuacao'])\n",
    "\n",
    "    numero_atletas_errado = df_atletas_flat[(df_atletas_flat['posicao_id']!=6) & (df_atletas_flat['diff_pontuacao'] > 0.001)].shape[0]\n",
    "\n",
    "    if numero_atletas_errado > 0:\n",
    "        print('Erro na pontuacao de alguns atletas. Numero de atletas com problema:{}'.format(numero_tletas_errado))\n",
    "        return False\n",
    "    else:\n",
    "        print('Pontuacao dos atletas OK')\n",
    "\n",
    "    df_atletas_flat['rodada'] = numero_rodada\n",
    "\n",
    "    # exclui colunas scout, pontuacao_calculada e diff_pontuacao\n",
    "    df_atletas_flat = df_atletas_flat[['apelido', 'foto', 'pontuacao', 'posicao_id', 'clube_id',\\\n",
    "           'entrou_em_campo', 'id_atleta', 'scout.FC', 'scout.FS', 'scout.PI',\\\n",
    "           'scout.FF', 'scout.A', 'scout.DS', 'scout.DE', 'scout.GS', 'scout.FD',\\\n",
    "           'scout.SG', 'scout.CA', 'scout.FT', 'scout.G', 'scout.PC',\\\n",
    "           'scout.PS', 'scout.PP', 'scout.I', 'scout.DP', 'scout.GC', 'scout.CV',\\\n",
    "           'rodada']]\n",
    "    return True, df_atletas_flat"
   ]
  },
  {
   "cell_type": "code",
   "execution_count": null,
   "id": "68ffeab5",
   "metadata": {},
   "outputs": [],
   "source": [
    "scouts_possiveis = ['scout.FC', 'scout.FS', 'scout.PI',\\\n",
    "       'scout.FF', 'scout.A', 'scout.DS', 'scout.DE', 'scout.GS', 'scout.FD',\\\n",
    "       'scout.SG', 'scout.CA', 'scout.FT', 'scout.G', 'scout.PC',\\\n",
    "       'scout.PS', 'scout.PP', 'scout.I', 'scout.DP', 'scout.GC', 'scout.CV']"
   ]
  },
  {
   "cell_type": "code",
   "execution_count": null,
   "id": "3a5ffbdf",
   "metadata": {},
   "outputs": [],
   "source": [
    "df_all = pd.DataFrame()"
   ]
  },
  {
   "cell_type": "code",
   "execution_count": null,
   "id": "6c36a31b",
   "metadata": {},
   "outputs": [],
   "source": [
    "for num_rodada in range(1, last_turn):\n",
    "    print('Processando rodada={}'.format(num_rodada))\n",
    "    df_atletas_flat, numero_rodada, total_atletas_rodada = getDadosRodada(num_rodada)\n",
    "    flagVerificao, df_atletas_flat = verificaDados(df_atletas_flat, numero_rodada, total_atletas_rodada)\n",
    "    if not flagVerificao:\n",
    "        print('================= Dados nao confiaveis ===================')\n",
    "    else:\n",
    "        df_all = df_all.append(df_atletas_flat, ignore_index = True)"
   ]
  },
  {
   "cell_type": "code",
   "execution_count": null,
   "id": "6d2e20d2",
   "metadata": {},
   "outputs": [],
   "source": [
    "df_all.shape"
   ]
  },
  {
   "cell_type": "code",
   "execution_count": null,
   "id": "3ba8b091",
   "metadata": {},
   "outputs": [],
   "source": [
    "df_scouts = df_all[['apelido', 'pontuacao', 'posicao_id', 'clube_id',\\\n",
    "       'entrou_em_campo', 'id_atleta', 'scout.FC', 'scout.FS', 'scout.PI',\\\n",
    "       'scout.FF', 'scout.A', 'scout.DS', 'scout.DE', 'scout.GS', 'scout.FD',\\\n",
    "       'scout.SG', 'scout.CA', 'scout.FT', 'scout.G', 'scout.PC', 'scout.PS',\\\n",
    "       'scout.PP', 'scout.I', 'scout.DP', 'scout.GC', 'scout.CV', 'rodada']]"
   ]
  },
  {
   "cell_type": "code",
   "execution_count": null,
   "id": "9ebe3c3b",
   "metadata": {},
   "outputs": [],
   "source": [
    "df_scouts.columns = ['player_name', 'points', 'id_position', 'id_club',\\\n",
    "                    'has_played', 'id_player', 'scout_fc', 'scout_fs', 'scout_pi',\\\n",
    "       'scout_ff', 'scout_a', 'scout_ds', 'scout_de', 'scout_gs', 'scout_fd',\\\n",
    "       'scout_sg', 'scout_ca', 'scout_ft', 'scout_g', 'scout_pc', 'scout_ps',\\\n",
    "       'scout_pp', 'scout_i', 'scout_dp', 'scout_gc', 'scout_cv', 'round']"
   ]
  },
  {
   "cell_type": "code",
   "execution_count": null,
   "id": "9dc84517",
   "metadata": {},
   "outputs": [],
   "source": [
    "#df_scouts.to_sql('scouts', engine, if_exists='append', index=False)\n",
    "df_scouts.to_sql('scouts', engine, if_exists='replace', index=False)"
   ]
  },
  {
   "cell_type": "code",
   "execution_count": null,
   "id": "c2c230cd",
   "metadata": {},
   "outputs": [],
   "source": []
  },
  {
   "cell_type": "markdown",
   "id": "4b6e4b77",
   "metadata": {},
   "source": [
    "# Analises"
   ]
  },
  {
   "cell_type": "code",
   "execution_count": null,
   "id": "3bab006e",
   "metadata": {},
   "outputs": [],
   "source": [
    "query = 'select * from match;'\n",
    "df_match = pd.read_sql(query, con=engine)\n",
    "df_match.shape"
   ]
  },
  {
   "cell_type": "code",
   "execution_count": null,
   "id": "54316091",
   "metadata": {},
   "outputs": [],
   "source": [
    "df_scouts = pd.read_sql('select * from scouts', con=engine)\n",
    "df_scouts.shape"
   ]
  },
  {
   "cell_type": "code",
   "execution_count": null,
   "id": "99066f88",
   "metadata": {},
   "outputs": [],
   "source": [
    "df_club = pd.read_sql('select * from club', con=engine)\n",
    "df_club.shape"
   ]
  },
  {
   "cell_type": "code",
   "execution_count": null,
   "id": "1735dc9b",
   "metadata": {},
   "outputs": [],
   "source": [
    "df_match.head()"
   ]
  },
  {
   "cell_type": "code",
   "execution_count": null,
   "id": "909929de",
   "metadata": {},
   "outputs": [],
   "source": [
    "df_scouts.head()"
   ]
  },
  {
   "cell_type": "code",
   "execution_count": null,
   "id": "54bf0ea7",
   "metadata": {},
   "outputs": [],
   "source": [
    "df_club.head()"
   ]
  },
  {
   "cell_type": "code",
   "execution_count": null,
   "id": "af1c4087",
   "metadata": {},
   "outputs": [],
   "source": [
    "df_scouts['round'].value_counts().sort_index()"
   ]
  },
  {
   "cell_type": "markdown",
   "id": "0a9b7137",
   "metadata": {},
   "source": [
    "# Analise dos Jogos"
   ]
  },
  {
   "cell_type": "code",
   "execution_count": null,
   "id": "71e768be",
   "metadata": {},
   "outputs": [],
   "source": [
    "df_match['diff_goals'] = df_match['home_goal']-df_match['visitor_goal']"
   ]
  },
  {
   "cell_type": "code",
   "execution_count": null,
   "id": "6de56bc6",
   "metadata": {},
   "outputs": [],
   "source": [
    "def vencedor(diff):\n",
    "    if diff > 0:\n",
    "        return 'CASA'\n",
    "    elif diff == 0:\n",
    "        return 'EMPATE'\n",
    "    else:\n",
    "        return 'VISITANTE'"
   ]
  },
  {
   "cell_type": "code",
   "execution_count": null,
   "id": "ed5b5fbc",
   "metadata": {},
   "outputs": [],
   "source": [
    "df_match['vencedor'] = df_match['diff_goals'].map(vencedor)"
   ]
  },
  {
   "cell_type": "code",
   "execution_count": null,
   "id": "b2e0af0a",
   "metadata": {},
   "outputs": [],
   "source": [
    "df_match.head()"
   ]
  },
  {
   "cell_type": "code",
   "execution_count": null,
   "id": "44f345af",
   "metadata": {},
   "outputs": [],
   "source": [
    "df_match.shape"
   ]
  },
  {
   "cell_type": "code",
   "execution_count": null,
   "id": "0ce155b8",
   "metadata": {},
   "outputs": [],
   "source": [
    "df_match['datetime'] = pd.to_datetime(df_match['date'])"
   ]
  },
  {
   "cell_type": "code",
   "execution_count": null,
   "id": "76d30680",
   "metadata": {},
   "outputs": [],
   "source": [
    "df_match.dtypes"
   ]
  },
  {
   "cell_type": "code",
   "execution_count": null,
   "id": "32180ec2",
   "metadata": {},
   "outputs": [],
   "source": [
    "df_match['vencedor'].value_counts()"
   ]
  },
  {
   "cell_type": "code",
   "execution_count": null,
   "id": "f5270b18",
   "metadata": {},
   "outputs": [],
   "source": [
    "numero_jogos = len(df_match)\n",
    "numero_jogos_vencedor_casa = len(df_match[df_match['vencedor']=='CASA'])\n",
    "numero_jogos_vencedor_fora = len(df_match[df_match['vencedor']=='VISITANTE'])\n",
    "numero_jogos_empate = len(df_match[df_match['vencedor']=='EMPATE'])"
   ]
  },
  {
   "cell_type": "code",
   "execution_count": null,
   "id": "8e63305b",
   "metadata": {},
   "outputs": [],
   "source": [
    "if (numero_jogos_vencedor_casa+numero_jogos_vencedor_fora+numero_jogos_empate) != numero_jogos:\n",
    "    print('Inconsistencia encontrada!!!!!!!!!!!!!!!!!!!!!!!!!!')\n",
    "else:\n",
    "    print('Dados consistentes')"
   ]
  },
  {
   "cell_type": "code",
   "execution_count": null,
   "id": "7633c5b0",
   "metadata": {},
   "outputs": [],
   "source": [
    "numero_jogos"
   ]
  },
  {
   "cell_type": "code",
   "execution_count": null,
   "id": "6cd74b15",
   "metadata": {},
   "outputs": [],
   "source": [
    "print('Percentual de vitoria CASA={}'.format(numero_jogos_vencedor_casa/numero_jogos))\n",
    "print('Percentual de vitoria EMPATE={}'.format(numero_jogos_empate/numero_jogos))\n",
    "print('Percentual de vitoria FORA={}'.format(numero_jogos_vencedor_fora/numero_jogos))"
   ]
  },
  {
   "cell_type": "code",
   "execution_count": null,
   "id": "73c81a41",
   "metadata": {},
   "outputs": [],
   "source": []
  },
  {
   "cell_type": "code",
   "execution_count": null,
   "id": "c3b0499d",
   "metadata": {},
   "outputs": [],
   "source": [
    "df_match_before = df_match[df_match['datetime'] <= '2021-10-01 00:00:00']"
   ]
  },
  {
   "cell_type": "code",
   "execution_count": null,
   "id": "69148968",
   "metadata": {},
   "outputs": [],
   "source": [
    "df_match_before['vencedor'].value_counts()"
   ]
  },
  {
   "cell_type": "code",
   "execution_count": null,
   "id": "9e141e7d",
   "metadata": {},
   "outputs": [],
   "source": [
    "numero_jogos = len(df_match_before)\n",
    "numero_jogos_vencedor_casa = len(df_match_before[df_match_before['vencedor']=='CASA'])\n",
    "numero_jogos_vencedor_fora = len(df_match_before[df_match_before['vencedor']=='VISITANTE'])\n",
    "numero_jogos_empate = len(df_match_before[df_match_before['vencedor']=='EMPATE'])"
   ]
  },
  {
   "cell_type": "code",
   "execution_count": null,
   "id": "054a23cc",
   "metadata": {},
   "outputs": [],
   "source": [
    "print('Percentual de vitoria - S/ TORCIDA')\n",
    "print('Percentual de vitoria CASA={}'.format(numero_jogos_vencedor_casa/numero_jogos))\n",
    "print('Percentual de vitoria EMPATE={}'.format(numero_jogos_empate/numero_jogos))\n",
    "print('Percentual de vitoria FORA={}'.format(numero_jogos_vencedor_fora/numero_jogos))"
   ]
  },
  {
   "cell_type": "code",
   "execution_count": null,
   "id": "d1e37a3c",
   "metadata": {},
   "outputs": [],
   "source": []
  },
  {
   "cell_type": "code",
   "execution_count": null,
   "id": "c42bb6d6",
   "metadata": {},
   "outputs": [],
   "source": [
    "df_match_after = df_match[df_match['datetime'] > '2021-10-01 00:00:00']\n",
    "df_match_after['vencedor'].value_counts()"
   ]
  },
  {
   "cell_type": "code",
   "execution_count": null,
   "id": "4210bee0",
   "metadata": {},
   "outputs": [],
   "source": [
    "numero_jogos = len(df_match_after)\n",
    "numero_jogos_vencedor_casa = len(df_match_after[df_match_after['vencedor']=='CASA'])\n",
    "numero_jogos_vencedor_fora = len(df_match_after[df_match_after['vencedor']=='VISITANTE'])\n",
    "numero_jogos_empate = len(df_match_after[df_match_after['vencedor']=='EMPATE'])"
   ]
  },
  {
   "cell_type": "code",
   "execution_count": null,
   "id": "e7336dd4",
   "metadata": {},
   "outputs": [],
   "source": [
    "print('Percentual de vitoria - C/ TORCIDA')\n",
    "print('Percentual de vitoria CASA={}'.format(numero_jogos_vencedor_casa/numero_jogos))\n",
    "print('Percentual de vitoria EMPATE={}'.format(numero_jogos_empate/numero_jogos))\n",
    "print('Percentual de vitoria FORA={}'.format(numero_jogos_vencedor_fora/numero_jogos))"
   ]
  },
  {
   "cell_type": "code",
   "execution_count": null,
   "id": "bfeda82d",
   "metadata": {},
   "outputs": [],
   "source": [
    "df_match[['home_goal', 'visitor_goal']].describe()"
   ]
  },
  {
   "cell_type": "code",
   "execution_count": null,
   "id": "53d433ac",
   "metadata": {},
   "outputs": [],
   "source": []
  },
  {
   "cell_type": "markdown",
   "id": "b5ba8071",
   "metadata": {},
   "source": [
    "# Análise dos Jogadores"
   ]
  },
  {
   "cell_type": "code",
   "execution_count": null,
   "id": "5052fbb9",
   "metadata": {},
   "outputs": [],
   "source": [
    "df_scouts.head()"
   ]
  },
  {
   "cell_type": "code",
   "execution_count": null,
   "id": "41425937",
   "metadata": {},
   "outputs": [],
   "source": [
    "df_match.head()"
   ]
  },
  {
   "cell_type": "code",
   "execution_count": null,
   "id": "4e0bbfbb",
   "metadata": {},
   "outputs": [],
   "source": [
    "df_match.columns"
   ]
  },
  {
   "cell_type": "code",
   "execution_count": null,
   "id": "a237c157",
   "metadata": {},
   "outputs": [],
   "source": [
    "df_scouts.columns"
   ]
  },
  {
   "cell_type": "code",
   "execution_count": null,
   "id": "ba8909fb",
   "metadata": {},
   "outputs": [],
   "source": [
    "df_match.columns = ['match_id', 'round', 'id_club', 'visitor_id', 'date', 'timestamp',\\\n",
    "       'local', 'valid', 'home_goal', 'visitor_goal', 'diff_goals', 'vencedor',\\\n",
    "       'datetime']"
   ]
  },
  {
   "cell_type": "code",
   "execution_count": null,
   "id": "ebeeb37c",
   "metadata": {},
   "outputs": [],
   "source": [
    "def is_home(home_id, id_club):\n",
    "    if home_id == id_club:\n",
    "        return 1\n",
    "    else:\n",
    "        return 0"
   ]
  },
  {
   "cell_type": "code",
   "execution_count": null,
   "id": "2eec98af",
   "metadata": {},
   "outputs": [],
   "source": [
    "df_scouts = pd.merge(df_scouts, df_match, how='left', on=['round', 'id_club'])"
   ]
  },
  {
   "cell_type": "code",
   "execution_count": null,
   "id": "0c1b26ad",
   "metadata": {},
   "outputs": [],
   "source": [
    "df_match.columns = ['match_id', 'round', 'home_id', 'id_club', 'date', 'timestamp',\\\n",
    "       'local', 'valid', 'home_goal', 'visitor_goal', 'diff_goals', 'vencedor',\\\n",
    "       'datetime']"
   ]
  },
  {
   "cell_type": "code",
   "execution_count": null,
   "id": "e766bd64",
   "metadata": {},
   "outputs": [],
   "source": [
    "df_scouts = pd.merge(df_scouts, df_match, how='left', on=['round', 'id_club'])"
   ]
  },
  {
   "cell_type": "code",
   "execution_count": null,
   "id": "afbfab18",
   "metadata": {},
   "outputs": [],
   "source": []
  },
  {
   "cell_type": "code",
   "execution_count": null,
   "id": "139ff9aa",
   "metadata": {},
   "outputs": [],
   "source": []
  },
  {
   "cell_type": "code",
   "execution_count": null,
   "id": "893039db",
   "metadata": {},
   "outputs": [],
   "source": []
  },
  {
   "cell_type": "code",
   "execution_count": null,
   "id": "af0fe29a",
   "metadata": {},
   "outputs": [],
   "source": [
    "df_scouts.head()"
   ]
  },
  {
   "cell_type": "code",
   "execution_count": null,
   "id": "e8590325",
   "metadata": {},
   "outputs": [],
   "source": [
    "df_scouts.shape"
   ]
  },
  {
   "cell_type": "code",
   "execution_count": null,
   "id": "08b008fd",
   "metadata": {},
   "outputs": [],
   "source": [
    "df_scouts.columns"
   ]
  },
  {
   "cell_type": "code",
   "execution_count": null,
   "id": "5355fa30",
   "metadata": {},
   "outputs": [],
   "source": [
    "df_scouts['home_id'].fillna(df_scouts['id_club'], inplace= True)\n",
    "df_scouts['visitor_id'].fillna(df_scouts['id_club'], inplace= True)\n",
    "df_scouts['home_goal_x'].fillna(df_scouts['home_goal_y'], inplace= True)\n",
    "df_scouts['visitor_goal_x'].fillna(df_scouts['visitor_goal_y'], inplace= True)\n",
    "#df_scouts['home_x'].fillna(df_scouts['home_y'], inplace= True)\n",
    "#df_scouts['visitor_x'].fillna(df_scouts['visitor_y'], inplace= True)\n",
    "df_scouts['home_goal'] = df_scouts['home_goal_x']\n",
    "df_scouts['visitor_goal'] = df_scouts['visitor_goal_x'] \n",
    "\n",
    "#df_scouts['home'] = df_scouts['home_x']\n",
    "#df_scouts['visitor'] = df_scouts['visitor_x']\n",
    "df_scouts = df_scouts[['player_name', 'points', 'id_position', 'id_club', 'has_played',\\\n",
    "       'id_player', 'scout_fc', 'scout_fs', 'scout_pi', 'scout_ff', 'scout_a',\\\n",
    "       'scout_ds', 'scout_de', 'scout_gs', 'scout_fd', 'scout_sg', 'scout_ca',\\\n",
    "       'scout_ft', 'scout_g', 'scout_pc', 'scout_ps', 'scout_pp', 'scout_i',\\\n",
    "       'scout_dp', 'scout_gc', 'scout_cv', 'round', 'visitor_id',\\\n",
    "       'home_id',\\\n",
    "       'home_goal',\\\n",
    "       'visitor_goal']]"
   ]
  },
  {
   "cell_type": "code",
   "execution_count": null,
   "id": "b0c06b42",
   "metadata": {},
   "outputs": [],
   "source": [
    "df_scouts.head(10)"
   ]
  },
  {
   "cell_type": "code",
   "execution_count": null,
   "id": "632924dd",
   "metadata": {},
   "outputs": [],
   "source": [
    "df_scouts['CASA'] = df_scouts.apply(lambda row : is_home(row['home_id'], row['id_club']), axis = 1)"
   ]
  },
  {
   "cell_type": "code",
   "execution_count": null,
   "id": "f444ed3e",
   "metadata": {},
   "outputs": [],
   "source": [
    "df_clube = df_club[['id', 'name']]\n",
    "df_clube.columns = ['home_id', 'time_casa']"
   ]
  },
  {
   "cell_type": "code",
   "execution_count": null,
   "id": "747c31c7",
   "metadata": {},
   "outputs": [],
   "source": [
    "df_scouts = pd.merge(df_scouts, df_clube, how='left', on=['home_id'])"
   ]
  },
  {
   "cell_type": "code",
   "execution_count": null,
   "id": "7cbbadbf",
   "metadata": {},
   "outputs": [],
   "source": [
    "df_scouts.head()"
   ]
  },
  {
   "cell_type": "code",
   "execution_count": null,
   "id": "c2dcc389",
   "metadata": {},
   "outputs": [],
   "source": [
    "df_clube.columns = ['visitor_id', 'time_visitante']\n",
    "df_scouts = pd.merge(df_scouts, df_clube, how='left', on=['visitor_id'])"
   ]
  },
  {
   "cell_type": "code",
   "execution_count": null,
   "id": "a9877c76",
   "metadata": {},
   "outputs": [],
   "source": [
    "df_clube.columns = ['id_club', 'time']\n",
    "df_scouts = pd.merge(df_scouts, df_clube, how='left', on=['id_club'])"
   ]
  },
  {
   "cell_type": "code",
   "execution_count": null,
   "id": "0c305f8f",
   "metadata": {},
   "outputs": [],
   "source": [
    "df_scouts.head()"
   ]
  },
  {
   "cell_type": "code",
   "execution_count": null,
   "id": "c5a247be",
   "metadata": {},
   "outputs": [],
   "source": [
    "df_pontuacao_casa = df_scouts[df_scouts['CASA']==1].groupby(['id_player','time', 'player_name', 'id_club', 'id_position']).agg({'points':'sum', 'has_played':'sum'}).reset_index()\n",
    "df_pontuacao_fora = df_scouts[df_scouts['CASA']==0].groupby(['id_player', 'player_name', 'id_club', 'id_position']).agg({'points':'sum', 'has_played':'sum'}).reset_index()"
   ]
  },
  {
   "cell_type": "code",
   "execution_count": null,
   "id": "a2de3f69",
   "metadata": {},
   "outputs": [],
   "source": [
    "df_pontuacao_casa.columns=['id_player','time','player_name', 'id_club', 'id_position', 'points_casa', 'has_played_casa']\n",
    "df_pontuacao_fora.columns=['id_player','player_name', 'id_club', 'id_position', 'points_fora', 'has_played_fora']"
   ]
  },
  {
   "cell_type": "code",
   "execution_count": null,
   "id": "ddf699d5",
   "metadata": {},
   "outputs": [],
   "source": [
    "df_pontuacao = pd.merge(df_pontuacao_casa, df_pontuacao_fora, how='outer', on=['id_player','player_name','id_club','id_position'])"
   ]
  },
  {
   "cell_type": "code",
   "execution_count": null,
   "id": "430166e7",
   "metadata": {},
   "outputs": [],
   "source": [
    "df_pontuacao.fillna(0, inplace=True)"
   ]
  },
  {
   "cell_type": "code",
   "execution_count": null,
   "id": "2b8e2a5a",
   "metadata": {},
   "outputs": [],
   "source": [
    "df_pontuacao['total_pontos']=df_pontuacao['points_fora']+df_pontuacao['points_casa']\n",
    "df_pontuacao['total_jogos']=df_pontuacao['has_played_casa']+df_pontuacao['has_played_fora']"
   ]
  },
  {
   "cell_type": "code",
   "execution_count": null,
   "id": "a72021bf",
   "metadata": {},
   "outputs": [],
   "source": [
    "df_pontuacao.head()"
   ]
  },
  {
   "cell_type": "code",
   "execution_count": null,
   "id": "314ac396",
   "metadata": {},
   "outputs": [],
   "source": [
    "df_pontuacao.sort_values(by='total_pontos', ascending=False).head(20)"
   ]
  },
  {
   "cell_type": "code",
   "execution_count": null,
   "id": "3b9639cf",
   "metadata": {},
   "outputs": [],
   "source": [
    "df_pontuacao[df_pontuacao['id_position']==5].sort_values(by='total_pontos', ascending=False).head(20)"
   ]
  },
  {
   "cell_type": "code",
   "execution_count": null,
   "id": "c0189cff",
   "metadata": {},
   "outputs": [],
   "source": [
    "df_pontuacao[df_pontuacao['id_position']==2].sort_values(by='total_pontos', ascending=False).head(10)"
   ]
  },
  {
   "cell_type": "code",
   "execution_count": null,
   "id": "c42b5295",
   "metadata": {},
   "outputs": [],
   "source": [
    "df_pontuacao[df_pontuacao['id_position']==3].sort_values(by='total_pontos', ascending=False).head(10)"
   ]
  },
  {
   "cell_type": "code",
   "execution_count": null,
   "id": "b6a4e1cf",
   "metadata": {},
   "outputs": [],
   "source": [
    "df_pontuacao[df_pontuacao['id_position']==6].sort_values(by='total_pontos', ascending=False).head(10)"
   ]
  },
  {
   "cell_type": "code",
   "execution_count": null,
   "id": "35ca6b09",
   "metadata": {},
   "outputs": [],
   "source": [
    "df_pontuacao.sort_values(by='points_casa', ascending=False).head(20)"
   ]
  },
  {
   "cell_type": "code",
   "execution_count": null,
   "id": "3f821733",
   "metadata": {},
   "outputs": [],
   "source": [
    "df_pontuacao.sort_values(by='points_fora', ascending=False).head(10)"
   ]
  },
  {
   "cell_type": "code",
   "execution_count": null,
   "id": "143d3173",
   "metadata": {},
   "outputs": [],
   "source": []
  },
  {
   "cell_type": "markdown",
   "id": "3a63fa1e",
   "metadata": {},
   "source": [
    "### Histogramas de pontos dos Jogadores"
   ]
  },
  {
   "cell_type": "code",
   "execution_count": null,
   "id": "ee85761a",
   "metadata": {},
   "outputs": [],
   "source": [
    "df_scouts.head()"
   ]
  },
  {
   "cell_type": "code",
   "execution_count": null,
   "id": "f868eff2",
   "metadata": {},
   "outputs": [],
   "source": [
    "## Adicionar coluna Adversário.\n",
    "## Montar histograma de times que cederam mais pontos.\n",
    "## Montar histograma de times que cederam mais pontos por posição de jogador.\n",
    "## Criar coluna dos jogadores que estão pontuando em P75"
   ]
  },
  {
   "cell_type": "code",
   "execution_count": null,
   "id": "a8e79391",
   "metadata": {},
   "outputs": [],
   "source": [
    "df_scouts.shape"
   ]
  },
  {
   "cell_type": "code",
   "execution_count": null,
   "id": "82d654b1",
   "metadata": {},
   "outputs": [],
   "source": [
    "df_scouts.columns"
   ]
  },
  {
   "cell_type": "code",
   "execution_count": null,
   "id": "bd421dad",
   "metadata": {},
   "outputs": [],
   "source": [
    "df_scouts['points'].hist(bins=range(-10, 35, 1), figsize=(15, 6))"
   ]
  },
  {
   "cell_type": "code",
   "execution_count": null,
   "id": "4f5d911b",
   "metadata": {},
   "outputs": [],
   "source": [
    "df_scouts[df_scouts['has_played'] == True].shape"
   ]
  },
  {
   "cell_type": "code",
   "execution_count": null,
   "id": "01de04a5",
   "metadata": {},
   "outputs": [],
   "source": [
    "df_scouts[df_scouts['has_played'] == True]['points'].hist(bins=range(-10, 35, 1), figsize=(15, 6))"
   ]
  },
  {
   "cell_type": "code",
   "execution_count": null,
   "id": "c18b3e62",
   "metadata": {},
   "outputs": [],
   "source": [
    "df_pontuacao_por_posicao = df_scouts[df_scouts['has_played'] == True]"
   ]
  },
  {
   "cell_type": "code",
   "execution_count": null,
   "id": "95a39179",
   "metadata": {},
   "outputs": [],
   "source": [
    "df_pontuacao_por_posicao.head()"
   ]
  },
  {
   "cell_type": "code",
   "execution_count": null,
   "id": "60fac07f",
   "metadata": {},
   "outputs": [],
   "source": [
    "df_pontuacao_por_posicao[df_pontuacao_por_posicao['id_position'] == 5].shape"
   ]
  },
  {
   "cell_type": "code",
   "execution_count": null,
   "id": "340ac6c6",
   "metadata": {},
   "outputs": [],
   "source": [
    "## Atacantes\n",
    "df_pontuacao_por_posicao[df_pontuacao_por_posicao['id_position'] == 5]['points'].hist(bins=range(-10, 35, 1), figsize=(15, 6))"
   ]
  },
  {
   "cell_type": "code",
   "execution_count": null,
   "id": "0f2c2606",
   "metadata": {},
   "outputs": [],
   "source": [
    "df_pontuacao_por_posicao[df_pontuacao_por_posicao['id_position'] == 5]['points'].describe()"
   ]
  },
  {
   "cell_type": "code",
   "execution_count": null,
   "id": "75113eaf",
   "metadata": {},
   "outputs": [],
   "source": [
    "df_pontuacao_por_posicao[df_pontuacao_por_posicao['id_position'] == 4].shape"
   ]
  },
  {
   "cell_type": "code",
   "execution_count": null,
   "id": "155656e6",
   "metadata": {},
   "outputs": [],
   "source": [
    "## Meia\n",
    "df_pontuacao_por_posicao[df_pontuacao_por_posicao['id_position'] == 4]['points'].hist(bins=range(-10, 35, 1), figsize=(15, 6))"
   ]
  },
  {
   "cell_type": "code",
   "execution_count": null,
   "id": "2c60682a",
   "metadata": {},
   "outputs": [],
   "source": [
    "df_pontuacao_por_posicao[df_pontuacao_por_posicao['id_position'] == 4]['points'].describe()"
   ]
  },
  {
   "cell_type": "code",
   "execution_count": null,
   "id": "40f538a5",
   "metadata": {},
   "outputs": [],
   "source": [
    "df_pontuacao_por_posicao[df_pontuacao_por_posicao['id_position'] == 3].shape"
   ]
  },
  {
   "cell_type": "code",
   "execution_count": null,
   "id": "be8c9b0b",
   "metadata": {},
   "outputs": [],
   "source": [
    "## Zagueiro\n",
    "df_pontuacao_por_posicao[df_pontuacao_por_posicao['id_position'] == 3]['points'].hist(bins=range(-10, 35, 1), figsize=(15, 6))"
   ]
  },
  {
   "cell_type": "code",
   "execution_count": null,
   "id": "8bce46d6",
   "metadata": {},
   "outputs": [],
   "source": [
    "df_pontuacao_por_posicao[df_pontuacao_por_posicao['id_position'] == 3]['points'].describe()"
   ]
  },
  {
   "cell_type": "code",
   "execution_count": null,
   "id": "f016cc2c",
   "metadata": {},
   "outputs": [],
   "source": [
    "df_pontuacao_por_posicao[df_pontuacao_por_posicao['id_position'] == 2].shape"
   ]
  },
  {
   "cell_type": "code",
   "execution_count": null,
   "id": "12c85439",
   "metadata": {},
   "outputs": [],
   "source": [
    "## Lateral\n",
    "df_pontuacao_por_posicao[df_pontuacao_por_posicao['id_position'] == 2]['points'].hist(bins=range(-10, 35, 1), figsize=(15, 6))"
   ]
  },
  {
   "cell_type": "code",
   "execution_count": null,
   "id": "c4044a94",
   "metadata": {},
   "outputs": [],
   "source": [
    "df_pontuacao_por_posicao[df_pontuacao_por_posicao['id_position'] == 2]['points'].describe()"
   ]
  },
  {
   "cell_type": "code",
   "execution_count": null,
   "id": "bde72c4d",
   "metadata": {},
   "outputs": [],
   "source": [
    "df_pontuacao_por_posicao[df_pontuacao_por_posicao['id_position'] == 1].shape"
   ]
  },
  {
   "cell_type": "code",
   "execution_count": null,
   "id": "4b638981",
   "metadata": {},
   "outputs": [],
   "source": [
    "## Goleiro\n",
    "df_pontuacao_por_posicao[df_pontuacao_por_posicao['id_position'] == 1]['points'].hist(bins=range(-10, 35, 1), figsize=(15, 6))"
   ]
  },
  {
   "cell_type": "code",
   "execution_count": null,
   "id": "506f3368",
   "metadata": {},
   "outputs": [],
   "source": [
    "df_pontuacao_por_posicao[df_pontuacao_por_posicao['id_position'] == 1]['points'].describe()"
   ]
  },
  {
   "cell_type": "code",
   "execution_count": null,
   "id": "bcbefb2d",
   "metadata": {},
   "outputs": [],
   "source": [
    "df_pontuacao_por_posicao[df_pontuacao_por_posicao['id_position'] == 6].shape"
   ]
  },
  {
   "cell_type": "code",
   "execution_count": null,
   "id": "7f598ae9",
   "metadata": {},
   "outputs": [],
   "source": [
    "## Técnico\n",
    "df_pontuacao_por_posicao[df_pontuacao_por_posicao['id_position'] == 6]['points'].hist(bins=range(-10, 35, 1), figsize=(15, 6))"
   ]
  },
  {
   "cell_type": "code",
   "execution_count": null,
   "id": "a0d3fce3",
   "metadata": {},
   "outputs": [],
   "source": [
    "df_pontuacao_por_posicao[df_pontuacao_por_posicao['id_position'] == 6]['points'].describe()"
   ]
  },
  {
   "cell_type": "markdown",
   "id": "d407d3e7",
   "metadata": {},
   "source": [
    "### Analise de Tendência\n",
    "\n",
    "Desempenho dos jogadores"
   ]
  },
  {
   "cell_type": "code",
   "execution_count": null,
   "id": "63b8a193",
   "metadata": {},
   "outputs": [],
   "source": [
    "df_tendencia_scouts = df_scouts.set_index('round')\n",
    "df_tendencia_scouts.head()"
   ]
  },
  {
   "cell_type": "code",
   "execution_count": null,
   "id": "be122f61",
   "metadata": {},
   "outputs": [],
   "source": [
    "df_tendencia_scouts = df_tendencia_scouts[df_tendencia_scouts['has_played'] == True]"
   ]
  },
  {
   "cell_type": "code",
   "execution_count": null,
   "id": "a768990a",
   "metadata": {},
   "outputs": [],
   "source": [
    "df_tendencia_scouts = df_tendencia_scouts[['player_name', 'points']]\n",
    "df_tendencia_scouts.head()"
   ]
  },
  {
   "cell_type": "markdown",
   "id": "1dd780ac",
   "metadata": {},
   "source": [
    "### Aplicação de tendência\n",
    "\n",
    "Utilizando os rounds como medida temporal podemos perceber as fases do jogador.\n",
    "\n",
    "Ao utilizar uma média móvel (que se desloca no 'tempo/rounds') a curva da tendência fica suavizada e temos uma percepção melhor do que está acontecendo.\n",
    "Alterando o parâmetro da função rolling podemos suavizar mais ainda a curva aumentando seu valor."
   ]
  },
  {
   "cell_type": "code",
   "execution_count": null,
   "id": "3fd1828e",
   "metadata": {},
   "outputs": [],
   "source": [
    "jogador = 'Hulk'\n",
    "janela = 10\n",
    "fig, ax = plt.subplots()\n",
    "df_tendencia_scouts[df_tendencia_scouts['player_name'] == jogador].plot(figsize=(15,6), ax=ax)\n",
    "df_tendencia_scouts[df_tendencia_scouts['player_name'] == jogador].rolling(janela).mean().plot(figsize=(15,6), ax=ax)\n",
    "ax.legend([\"Pontos\", \"Tendência Média\"]);"
   ]
  },
  {
   "cell_type": "markdown",
   "id": "5a05b99b",
   "metadata": {},
   "source": []
  },
  {
   "cell_type": "code",
   "execution_count": null,
   "id": "c928af6f",
   "metadata": {},
   "outputs": [],
   "source": []
  }
 ],
 "metadata": {
  "kernelspec": {
   "display_name": "Python 3",
   "language": "python",
   "name": "python3"
  },
  "language_info": {
   "codemirror_mode": {
    "name": "ipython",
    "version": 3
   },
   "file_extension": ".py",
   "mimetype": "text/x-python",
   "name": "python",
   "nbconvert_exporter": "python",
   "pygments_lexer": "ipython3",
   "version": "3.9.6"
  }
 },
 "nbformat": 4,
 "nbformat_minor": 5
}
